{
  "cells": [
    {
      "cell_type": "markdown",
      "metadata": {
        "id": "X7md76Ep8xK5"
      },
      "source": [
        "# Hands-On\n",
        "---\n",
        "\n",
        "Hands-On ini digunakan pada kegiatan Workshop Data Science 2022, Universitas Gunadarma"
      ]
    },
    {
      "cell_type": "markdown",
      "metadata": {
        "id": "gENuQiLu8xK-"
      },
      "source": [
        "# Tugas Mandiri Pertemuan 16\n",
        "---\n",
        "Pertemuan 16 (enambelas) pada Workshop Data Science 2022 menyampaikan materi mengenai Membangun model: Evaluasi. silakan Anda kerjakan Latihan 1 s/d 5. Output yang anda lihat merupakan panduan yang dapat Anda ikuti dalam penulisan code :)"
      ]
    },
    {
      "cell_type": "markdown",
      "metadata": {
        "id": "PrQVcF-ldGWQ"
      },
      "source": [
        "<h1> Soal 1: Pemahaman Tentang Model Evaluasi</h1>\n",
        "\n",
        "Jawab pertanyaan di bawah ini dengan bahasa masing-masing?\n",
        "\n",
        "1. Apa perbedaan antara data latih, data validasi, dan data test?\n",
        "2. Bagaimana cara kita menilai performa suatu model?\n",
        "3. Apa itu Confusion Matrix? Jelaskan secara lengkap!\n",
        "4. Apa itu Classification Report dari sklearn?"
      ]
    },
    {
      "cell_type": "markdown",
      "metadata": {
        "id": "sr6D5UIhgpwO"
      },
      "source": [
        "**JAWABAN**\n",
        " <p style=\"color:#FF0000\">Jawab:</p>\n",
        "1.  - **Data Training,** seperti namanya, data yang digunakan untuk training model. \n",
        "    - **Data Validation,** digunakan untuk proses validasi model dan mencegah overfitting.\n",
        "    - **Data Testing,** digunakan untuk testing model, sebagai simulasi penggunaan model pada dunia nyata. Data testing tidak boleh pernah dilihat oleh model sebelumnya.\n",
        "\n",
        "2. Banyak cara lain yang dapat digunakan untuk menilai performa dari suatu model, diantaranya:\n",
        "\n",
        " - **Klasifikasi** (classification metrics): accuracy, precision, recall, F1-score, ROC, AUC, dan lainnya.\n",
        " - **Regresi** (regression metrics) : MSE, MAE, dan lainnya.\n",
        " - **Clustering** (clustering metrics): Silhouette Coefficient, Davies-Bouldin Index, Dunn Index, dan lainnya.\n",
        "\n",
        "3. **Confusion Matrix** adalah pengukuran performa untuk masalah klasifikasi machine learning dimana keluaran dapat berupa dua kelas atau lebih.  Confusion Matrix adalah tabel dengan 4 kombinasi berbeda dari nilai prediksi dan nilai aktual. Ada empat istilah yang merupakan representasi hasil proses klasifikasi pada confusion matrix yaitu True Positif, True Negatif, False Positif, dan False Negatif. \n",
        "\n",
        "4. **Classification Report** digunakan untuk mengukur kualitas prediksi dari algoritma pengklasifikasian.\n"
      ]
    },
    {
      "cell_type": "markdown",
      "metadata": {
        "id": "uY-s7-KDgrkV"
      },
      "source": [
        "---"
      ]
    },
    {
      "cell_type": "markdown",
      "metadata": {
        "id": "Fv2TVsgAdGWY"
      },
      "source": [
        "<h1>Soal 2: Aplikasi Model Evaluasi</h1>\n",
        "\n",
        "Kali ini kita akan menggunakan data untuk memprediksi kelangsungan hidup pasien yang telah mengalami operasi payudara. Dengan informasi yang dimiliki terkait pasien, kita akan membuat model untuk memprediksi apakah pasien akan bertahan hidup dalam waktu lebih dari 5 tahun atau tidak.\n",
        "\n",
        "Lebih Lengkapnya kalian bisa membaca informasi tentang dataset di link berikut: https://raw.githubusercontent.com/jbrownlee/Datasets/master/haberman.names\n",
        "\n",
        "Buat model Klasifikasi (Model/Algoritma Bebas) untuk memprediksi status pasien dengan ketentuan sebagai berikut:\n",
        "\n",
        "1. Bagi kedua data ini menjadi data training dan data test dengan test_size=0.25.\n",
        "3. Pelajar tentang metrics roc_auc_score kemudian buatlah model dan evaluasi dengan menggunakan teknik cross-validation dengan scoring 'roc_auc'. Baca https://scikit-learn.org/stable/modules/generated/sklearn.model_selection.cross_val_score.html untuk menggunakan metric roc_auc saat cross-validation.\n",
        "3. Berapa score rata2 dari model dengan teknik cross-validation tersebut?\n",
        "4. Prediksi data test dengan model yang telah kalian buat!\n",
        "5. Bagaimana hasil confusion matrix dari hasil prediksi tersebut?\n",
        "6. Bagaimana classification report dari hasil prediksi tersebut?\n",
        "5. Seberapa baik model anda dalam memprediksi seorang pasien mempunyai status positive?\n",
        "6. Seberapa baik model anda dalam memprediksi seorang pasien mempunyai status negatif?"
      ]
    },
    {
      "cell_type": "markdown",
      "metadata": {
        "id": "cPOewZo58xLV"
      },
      "source": [
        "### Load Dataset "
      ]
    },
    {
      "cell_type": "code",
      "execution_count": 4,
      "metadata": {
        "id": "l_zK8Mqb-9Z6"
      },
      "outputs": [],
      "source": [
        "# import library pandas\n",
        "import pandas as pd\n",
        "\n",
        "# Load Dataset\n",
        "url = 'https://raw.githubusercontent.com/jbrownlee/Datasets/master/haberman.csv'\n",
        "list_cols = ['Age', \"Patient's Years\", \"N_positive_ax\", \"survival_status\"]\n",
        "df = pd.read_csv(url, names=list_cols)"
      ]
    },
    {
      "cell_type": "code",
      "execution_count": 5,
      "metadata": {
        "colab": {
          "base_uri": "https://localhost:8080/",
          "height": 206
        },
        "id": "YrbPNGtHdGXV",
        "outputId": "af1c38c9-031b-4eab-ffc2-42c5e572bf00"
      },
      "outputs": [
        {
          "output_type": "execute_result",
          "data": {
            "text/plain": [
              "   Age  Patient's Years  N_positive_ax  survival_status\n",
              "0   30               64              1                1\n",
              "1   30               62              3                1\n",
              "2   30               65              0                1\n",
              "3   31               59              2                1\n",
              "4   31               65              4                1"
            ],
            "text/html": [
              "\n",
              "  <div id=\"df-ff875f47-1177-4c1a-93d6-96f93914eaf8\">\n",
              "    <div class=\"colab-df-container\">\n",
              "      <div>\n",
              "<style scoped>\n",
              "    .dataframe tbody tr th:only-of-type {\n",
              "        vertical-align: middle;\n",
              "    }\n",
              "\n",
              "    .dataframe tbody tr th {\n",
              "        vertical-align: top;\n",
              "    }\n",
              "\n",
              "    .dataframe thead th {\n",
              "        text-align: right;\n",
              "    }\n",
              "</style>\n",
              "<table border=\"1\" class=\"dataframe\">\n",
              "  <thead>\n",
              "    <tr style=\"text-align: right;\">\n",
              "      <th></th>\n",
              "      <th>Age</th>\n",
              "      <th>Patient's Years</th>\n",
              "      <th>N_positive_ax</th>\n",
              "      <th>survival_status</th>\n",
              "    </tr>\n",
              "  </thead>\n",
              "  <tbody>\n",
              "    <tr>\n",
              "      <th>0</th>\n",
              "      <td>30</td>\n",
              "      <td>64</td>\n",
              "      <td>1</td>\n",
              "      <td>1</td>\n",
              "    </tr>\n",
              "    <tr>\n",
              "      <th>1</th>\n",
              "      <td>30</td>\n",
              "      <td>62</td>\n",
              "      <td>3</td>\n",
              "      <td>1</td>\n",
              "    </tr>\n",
              "    <tr>\n",
              "      <th>2</th>\n",
              "      <td>30</td>\n",
              "      <td>65</td>\n",
              "      <td>0</td>\n",
              "      <td>1</td>\n",
              "    </tr>\n",
              "    <tr>\n",
              "      <th>3</th>\n",
              "      <td>31</td>\n",
              "      <td>59</td>\n",
              "      <td>2</td>\n",
              "      <td>1</td>\n",
              "    </tr>\n",
              "    <tr>\n",
              "      <th>4</th>\n",
              "      <td>31</td>\n",
              "      <td>65</td>\n",
              "      <td>4</td>\n",
              "      <td>1</td>\n",
              "    </tr>\n",
              "  </tbody>\n",
              "</table>\n",
              "</div>\n",
              "      <button class=\"colab-df-convert\" onclick=\"convertToInteractive('df-ff875f47-1177-4c1a-93d6-96f93914eaf8')\"\n",
              "              title=\"Convert this dataframe to an interactive table.\"\n",
              "              style=\"display:none;\">\n",
              "        \n",
              "  <svg xmlns=\"http://www.w3.org/2000/svg\" height=\"24px\"viewBox=\"0 0 24 24\"\n",
              "       width=\"24px\">\n",
              "    <path d=\"M0 0h24v24H0V0z\" fill=\"none\"/>\n",
              "    <path d=\"M18.56 5.44l.94 2.06.94-2.06 2.06-.94-2.06-.94-.94-2.06-.94 2.06-2.06.94zm-11 1L8.5 8.5l.94-2.06 2.06-.94-2.06-.94L8.5 2.5l-.94 2.06-2.06.94zm10 10l.94 2.06.94-2.06 2.06-.94-2.06-.94-.94-2.06-.94 2.06-2.06.94z\"/><path d=\"M17.41 7.96l-1.37-1.37c-.4-.4-.92-.59-1.43-.59-.52 0-1.04.2-1.43.59L10.3 9.45l-7.72 7.72c-.78.78-.78 2.05 0 2.83L4 21.41c.39.39.9.59 1.41.59.51 0 1.02-.2 1.41-.59l7.78-7.78 2.81-2.81c.8-.78.8-2.07 0-2.86zM5.41 20L4 18.59l7.72-7.72 1.47 1.35L5.41 20z\"/>\n",
              "  </svg>\n",
              "      </button>\n",
              "      \n",
              "  <style>\n",
              "    .colab-df-container {\n",
              "      display:flex;\n",
              "      flex-wrap:wrap;\n",
              "      gap: 12px;\n",
              "    }\n",
              "\n",
              "    .colab-df-convert {\n",
              "      background-color: #E8F0FE;\n",
              "      border: none;\n",
              "      border-radius: 50%;\n",
              "      cursor: pointer;\n",
              "      display: none;\n",
              "      fill: #1967D2;\n",
              "      height: 32px;\n",
              "      padding: 0 0 0 0;\n",
              "      width: 32px;\n",
              "    }\n",
              "\n",
              "    .colab-df-convert:hover {\n",
              "      background-color: #E2EBFA;\n",
              "      box-shadow: 0px 1px 2px rgba(60, 64, 67, 0.3), 0px 1px 3px 1px rgba(60, 64, 67, 0.15);\n",
              "      fill: #174EA6;\n",
              "    }\n",
              "\n",
              "    [theme=dark] .colab-df-convert {\n",
              "      background-color: #3B4455;\n",
              "      fill: #D2E3FC;\n",
              "    }\n",
              "\n",
              "    [theme=dark] .colab-df-convert:hover {\n",
              "      background-color: #434B5C;\n",
              "      box-shadow: 0px 1px 3px 1px rgba(0, 0, 0, 0.15);\n",
              "      filter: drop-shadow(0px 1px 2px rgba(0, 0, 0, 0.3));\n",
              "      fill: #FFFFFF;\n",
              "    }\n",
              "  </style>\n",
              "\n",
              "      <script>\n",
              "        const buttonEl =\n",
              "          document.querySelector('#df-ff875f47-1177-4c1a-93d6-96f93914eaf8 button.colab-df-convert');\n",
              "        buttonEl.style.display =\n",
              "          google.colab.kernel.accessAllowed ? 'block' : 'none';\n",
              "\n",
              "        async function convertToInteractive(key) {\n",
              "          const element = document.querySelector('#df-ff875f47-1177-4c1a-93d6-96f93914eaf8');\n",
              "          const dataTable =\n",
              "            await google.colab.kernel.invokeFunction('convertToInteractive',\n",
              "                                                     [key], {});\n",
              "          if (!dataTable) return;\n",
              "\n",
              "          const docLinkHtml = 'Like what you see? Visit the ' +\n",
              "            '<a target=\"_blank\" href=https://colab.research.google.com/notebooks/data_table.ipynb>data table notebook</a>'\n",
              "            + ' to learn more about interactive tables.';\n",
              "          element.innerHTML = '';\n",
              "          dataTable['output_type'] = 'display_data';\n",
              "          await google.colab.output.renderOutput(dataTable, element);\n",
              "          const docLink = document.createElement('div');\n",
              "          docLink.innerHTML = docLinkHtml;\n",
              "          element.appendChild(docLink);\n",
              "        }\n",
              "      </script>\n",
              "    </div>\n",
              "  </div>\n",
              "  "
            ]
          },
          "metadata": {},
          "execution_count": 5
        }
      ],
      "source": [
        "# tampilkan 5 baris awal dataset dengan function head()\n",
        "df.head()"
      ]
    },
    {
      "cell_type": "code",
      "execution_count": 6,
      "metadata": {
        "colab": {
          "base_uri": "https://localhost:8080/"
        },
        "id": "-dxYNPg7dGX4",
        "outputId": "47da0790-91a4-45ac-db3a-b1cffa1b2418"
      },
      "outputs": [
        {
          "output_type": "execute_result",
          "data": {
            "text/plain": [
              "1    225\n",
              "2     81\n",
              "Name: survival_status, dtype: int64"
            ]
          },
          "metadata": {},
          "execution_count": 6
        }
      ],
      "source": [
        "# hitung jumlah masing\" data pada kolom survival_status\n",
        "df['survival_status'].value_counts()"
      ]
    },
    {
      "cell_type": "markdown",
      "metadata": {
        "id": "JFLFvaqv8xLp"
      },
      "source": [
        "### Build Model"
      ]
    },
    {
      "cell_type": "code",
      "execution_count": 7,
      "metadata": {
        "id": "8W2amvZgdGYX"
      },
      "outputs": [],
      "source": [
        "#import library train test split dan cross val\n",
        "from sklearn.model_selection import train_test_split, cross_val_score\n",
        "\n",
        "#import library Logistic regression\n",
        "from sklearn.linear_model import LogisticRegression\n",
        "\n",
        "#import library roc auc score\n",
        "from sklearn.metrics import roc_auc_score\n",
        "\n",
        "#import library scale\n",
        "from sklearn.preprocessing import scale\n",
        "\n",
        "#import library numpy\n",
        "import numpy as np"
      ]
    },
    {
      "cell_type": "code",
      "execution_count": 8,
      "metadata": {
        "id": "U_4HbfUN8xLu"
      },
      "outputs": [],
      "source": [
        "## pemisahan feature dan target (data target : 'survival_status')\n",
        "X = df.drop('survival_status', axis = 1)\n",
        "Xs = scale(X)\n",
        "y = df['survival_status']"
      ]
    },
    {
      "cell_type": "markdown",
      "metadata": {
        "id": "2x2A4ewG8xLx"
      },
      "source": [
        "#### NO 1"
      ]
    },
    {
      "cell_type": "code",
      "execution_count": 9,
      "metadata": {
        "id": "5FMAaYXq8xLz"
      },
      "outputs": [],
      "source": [
        "## pemisahan variabel test dan train dari data Xs dan y\n",
        "# test size= 25%, random state = 42, dan stratify = y\n",
        "X_train, X_test, y_train, y_test = train_test_split(X,y,test_size=0.25, random_state=42, stratify=y)"
      ]
    },
    {
      "cell_type": "code",
      "execution_count": 10,
      "metadata": {
        "id": "shTfcrwo8xL1"
      },
      "outputs": [],
      "source": [
        "## pembuatan objek model\n",
        "model_logReg = LogisticRegression(random_state = 42)\n",
        "\n",
        "## latih model\n",
        "model_logReg.fit(X_train, y_train)\n",
        "\n",
        "## prediksi.\n",
        "y_predict = model_logReg.predict(X_test)"
      ]
    },
    {
      "cell_type": "markdown",
      "metadata": {
        "id": "rptd242t8xL2"
      },
      "source": [
        "#### NO 2"
      ]
    },
    {
      "cell_type": "code",
      "execution_count": 11,
      "metadata": {
        "colab": {
          "base_uri": "https://localhost:8080/"
        },
        "outputId": "00d8d3b9-74e2-486b-93d5-395b49ef1b71",
        "id": "vNm_XhEo8xL4"
      },
      "outputs": [
        {
          "output_type": "stream",
          "name": "stdout",
          "text": [
            "[0.44021739 0.80978261 0.67391304 0.69021739 0.70380435 0.79292929\n",
            " 0.875      0.62784091 0.67613636 0.61363636]\n"
          ]
        }
      ],
      "source": [
        "## menghitung cross_val_score dengan scoring = 'roc_auc'\n",
        "## parameter cv = 10 \n",
        "score = cross_val_score(model_logReg, X, y, scoring = 'roc_auc', cv = 10)\n",
        "print(score)"
      ]
    },
    {
      "cell_type": "markdown",
      "metadata": {
        "id": "5DXZdldu8xL6"
      },
      "source": [
        "#### NO 3"
      ]
    },
    {
      "cell_type": "code",
      "execution_count": 12,
      "metadata": {
        "colab": {
          "base_uri": "https://localhost:8080/"
        },
        "id": "LedKNcvNeQqt",
        "outputId": "bb918f54-82a7-45f4-bfd1-b90d794777bc"
      },
      "outputs": [
        {
          "output_type": "execute_result",
          "data": {
            "text/plain": [
              "0.6903477711901624"
            ]
          },
          "metadata": {},
          "execution_count": 12
        }
      ],
      "source": [
        "# cetak rata-rata nilai rata-rata auc score\n",
        "score.mean()"
      ]
    },
    {
      "cell_type": "markdown",
      "metadata": {
        "id": "-7zJCrlu8xL-"
      },
      "source": [
        "#### NO 4"
      ]
    },
    {
      "cell_type": "code",
      "execution_count": 17,
      "metadata": {
        "colab": {
          "base_uri": "https://localhost:8080/"
        },
        "id": "sgIgntc9eTh5",
        "outputId": "38595664-3881-4816-8d66-e1ce9cef7117",
        "scrolled": true
      },
      "outputs": [
        {
          "output_type": "execute_result",
          "data": {
            "text/plain": [
              "0.5311403508771929"
            ]
          },
          "metadata": {},
          "execution_count": 17
        }
      ],
      "source": [
        "# Prediksi data test dengan model yang telah kalian buat \n",
        "auc_score = roc_auc_score(y_test, y_predict)\n",
        "auc_score"
      ]
    },
    {
      "cell_type": "markdown",
      "metadata": {
        "id": "B6kfSxff8xMH"
      },
      "source": [
        "#### NO 5"
      ]
    },
    {
      "cell_type": "code",
      "execution_count": 18,
      "metadata": {
        "id": "e23bVSGteUQV"
      },
      "outputs": [],
      "source": [
        "# import library confusion matrix dan classification report\n",
        "from sklearn.metrics import confusion_matrix, classification_report"
      ]
    },
    {
      "cell_type": "code",
      "execution_count": 25,
      "metadata": {
        "colab": {
          "base_uri": "https://localhost:8080/"
        },
        "id": "rDqvvhZUeai_",
        "outputId": "d70d4141-0262-4d14-f026-19159ca070df"
      },
      "outputs": [
        {
          "output_type": "execute_result",
          "data": {
            "text/plain": [
              "array([[52,  5],\n",
              "       [17,  3]])"
            ]
          },
          "metadata": {},
          "execution_count": 25
        }
      ],
      "source": [
        "# apply confusion matrix dan cetak nilai confusion matrix\n",
        "cm = confusion_matrix(y_test, y_predict, labels = [1,2])\n",
        "cm"
      ]
    },
    {
      "cell_type": "code",
      "execution_count": 29,
      "metadata": {
        "id": "88l5AhoP8xML",
        "outputId": "7c121b6d-9d9a-4eea-a576-a73a54eeea5b",
        "colab": {
          "base_uri": "https://localhost:8080/",
          "height": 320
        }
      },
      "outputs": [
        {
          "output_type": "display_data",
          "data": {
            "text/plain": [
              "<Figure size 576x360 with 2 Axes>"
            ],
            "image/png": "[encoded data removed]"
          },
          "metadata": {
            "needs_background": "light"
          }
        }
      ],
      "source": [
        "# visualisasikan nilai confusion matrix ke dalam diagram heatmap\n",
        "import seaborn as sns\n",
        "import matplotlib.pyplot as plt\n",
        "f, ax = plt.subplots(figsize=(8,5))\n",
        "sns.heatmap(confusion_matrix(y_test, y_predict), annot=True, fmt=\".0f\", ax=ax)\n",
        "plt.show()"
      ]
    },
    {
      "cell_type": "markdown",
      "metadata": {
        "id": "E1VfocmG8xMO"
      },
      "source": [
        "#### NO 6"
      ]
    },
    {
      "cell_type": "code",
      "execution_count": 26,
      "metadata": {
        "colab": {
          "base_uri": "https://localhost:8080/"
        },
        "id": "gTrzFq28ehP1",
        "outputId": "d62d7a35-8207-4932-e7c2-f315c872cb4d"
      },
      "outputs": [
        {
          "output_type": "stream",
          "name": "stdout",
          "text": [
            "              precision    recall  f1-score   support\n",
            "\n",
            "           1       0.75      0.91      0.83        57\n",
            "           2       0.38      0.15      0.21        20\n",
            "\n",
            "    accuracy                           0.71        77\n",
            "   macro avg       0.56      0.53      0.52        77\n",
            "weighted avg       0.66      0.71      0.67        77\n",
            "\n"
          ]
        }
      ],
      "source": [
        "# cetak nilai classification_report\n",
        "print(classification_report(y_test, y_predict))"
      ]
    },
    {
      "cell_type": "markdown",
      "metadata": {
        "id": "7Wb7CA-88xMQ"
      },
      "source": [
        "#### NO 7"
      ]
    },
    {
      "cell_type": "markdown",
      "metadata": {
        "id": "1rm8SxlrenkO"
      },
      "source": [
        "- Bagaimana hasil confusion matrix dari hasil prediksi tersebut? <br>\n",
        " *jawab disini* : hasil dari confusion matrix dari hasil prediksi TP = 52, TN = 3, FP = 17, FN = 5\n",
        " \n",
        " \n",
        "- Bagaimana classification report dari hasil prediksi tersebut? <br>\n",
        " *jawab disini* : hasil akurasi memiliki nilai 71%, precision memiliki nilai 75%, recall memiliki nilai 91% dan f1-score memiliki nilai 83% dari hasil prediksi\n",
        " \n",
        " \n",
        "- Seberapa baik model anda dalam memprediksi seorang pasien mempunyai status positive? dari hasil classification_report diatas <br>\n",
        " *jawab disini* : cukup baik dengan memiliki tingkat akurasi, presisi dan recall masing masing 71%, 75%, dan 91%\n",
        " \n",
        " \n",
        "- Seberapa baik model anda dalam memprediksi seorang pasien mempunyai status negatif? dari hasil classification_report diatas<br>\n",
        " *jawab disini* : cukup baik dengan memiliki tingkat akurasi, presisi dan recall masing masing 71%, 75%, dan 91%"
      ]
    },
    {
      "cell_type": "markdown",
      "metadata": {
        "id": "I6v_dgoN-7wL"
      },
      "source": [
        "---"
      ]
    },
    {
      "cell_type": "markdown",
      "metadata": {
        "id": "teekoyIw--g2"
      },
      "source": [
        "<h1> Soal 3: Pemahaman Tentang Model Selection</h1>\n",
        "\n",
        "Jelaskan dengan bahasa sendiri!\n",
        "\n",
        "1. Apa itu Bias dan Variance?\n",
        "2. Apa itu Overfitting dan Underfitting?\n",
        "3. Apa yang bisa kita lakukan untuk mengatur kompleksitas dari model?\n",
        "4. Bagaimana model yang baik?\n",
        "5. Kapan kita menggunakan GridSearchcv dan kapan menggunakan RandomizedSearchCV?"
      ]
    },
    {
      "cell_type": "markdown",
      "metadata": {
        "id": "4a1l4RNf_FcU"
      },
      "source": [
        "\n",
        " <p style=\"color:#FF0000\">Jawab</p>\n",
        "1.  \n",
        " \n",
        "*   Bias adalah perbedaan antara rata rata hasil prediksi dari model ML yang kita develop dengan data nilai yang sebenarnya.\n",
        "*   Variance adalah variabel dari prediksi model untuk data tertentu dimana memberikan kita informasi perserbaran data kita.\n",
        "\n",
        "2. \n",
        " \n",
        "*   Overfitting adalah suatu keadaan dimana data yang digunakan untuk pelatihan itu adalah yang \"terbaik\". \n",
        "*   Underfitting adalah suatu keadaan dimana model pelatihan data yang dibuat tidak mewakilkan keseluruhan data yang akan digunakan nantinya.\n",
        "\n",
        "\n",
        "3.  Meningkatkan jumlah data yang tersedia untuk dianalisis dan algoritma perhitungan untuk melakukan analisis secara presisi dan akurat\n",
        "\n",
        "4. Model yang baik adalah model yang mampu menjelaskan data yang ada. Biasanya kriteria ini dikaji melalui uji keserasian atau goodness of fit. Salah satu ukuran yang sering digunakan untuk mendukung kriteria ini adalah koefisien determinasi (R2) khususnya bila peneliti menggunakan analisis regresi linier.\n",
        "\n",
        "5. GridSearchcv dan RandomizedSearchCV adalah dua metode paling populer untuk optimasi hyper-parameter dari model apa pun. Dalam kedua kasus, tujuannya adalah untuk menguji seperangkat parameter yang jangkauannya telah ditentukan oleh pengguna, dan mengamati hasilnya dalam hal metrik yang digunakan (akurasi, presisi…).\n"
      ]
    },
    {
      "cell_type": "markdown",
      "metadata": {
        "id": "Svj_cgxF_IZv"
      },
      "source": [
        "---"
      ]
    },
    {
      "cell_type": "markdown",
      "metadata": {
        "id": "Hkh-PeRL_LZp"
      },
      "source": [
        "<h1> Soal 4: Aplikasi Model Selection</h1>\n",
        "\n",
        "1. Bagi kedua data berikut ini menjadi data training dan data test dengan test_size=0.25.\n",
        "2. Import library KNN dan GridSearchCV.\n",
        "3. Gunakan algoritma KNN dan fungsi GridSearchCV untuk hyperparameter tuning dan model selection.\n",
        "4. jumlah fold bebas!, gunakan scoring 'roc_auc'\n",
        "5. Definisikan kombinasi hyperparameter untuk model selection dengan GridSearchCV. kombinasi Hyperparameter bebas, baca lagi dokumentasi KNN di link berikut https://scikit-learn.org/stable/modules/generated/sklearn.neighbors.KNeighborsClassifier.html untuk memahami lagi jenis2 hyperparameter di algorithma KNN.\n",
        "6. Latih model terhadap data training.\n",
        "7. Apa hyperparameter terbaik untuk kombinasi hyperparameter kalian?\n",
        "8. Berapa score validasi terbaik dari model tersebut?\n",
        "9. Prediksi probabilitasi output dari model yang telah di buat terhadap data test. note : gunakan method .predict_proba() untuk menghasilkan output probabilitas\n",
        "\n",
        "10. Berapa nilai score roc_auc untuk data test? (y_predict)\n",
        "11. Apakah model anda termasuk baik, overtting, atau underfitting?\n"
      ]
    },
    {
      "cell_type": "markdown",
      "metadata": {
        "id": "ZBz8B9d18xMb"
      },
      "source": [
        "### Load Dataset "
      ]
    },
    {
      "cell_type": "code",
      "execution_count": 30,
      "metadata": {
        "id": "xyVKYLK28xMc"
      },
      "outputs": [],
      "source": [
        "# import library pandas\n",
        "import pandas as pd\n",
        "\n",
        "# Load Dataset\n",
        "url = 'https://raw.githubusercontent.com/jbrownlee/Datasets/master/haberman.csv'\n",
        "list_cols = ['Age', \"Patient's Years\", \"N_positive_ax\", \"survival_status\"]\n",
        "df2 = pd.read_csv(url, names=list_cols)"
      ]
    },
    {
      "cell_type": "code",
      "execution_count": 31,
      "metadata": {
        "colab": {
          "base_uri": "https://localhost:8080/",
          "height": 206
        },
        "id": "qb-AD43R_V_d",
        "outputId": "9749edd6-5d51-40bf-f3d6-14c180a2ef20"
      },
      "outputs": [
        {
          "output_type": "execute_result",
          "data": {
            "text/plain": [
              "   Age  Patient's Years  N_positive_ax  survival_status\n",
              "0   30               64              1                1\n",
              "1   30               62              3                1\n",
              "2   30               65              0                1\n",
              "3   31               59              2                1\n",
              "4   31               65              4                1"
            ],
            "text/html": [
              "\n",
              "  <div id=\"df-c3e31efa-909e-4bea-8976-2fed25175600\">\n",
              "    <div class=\"colab-df-container\">\n",
              "      <div>\n",
              "<style scoped>\n",
              "    .dataframe tbody tr th:only-of-type {\n",
              "        vertical-align: middle;\n",
              "    }\n",
              "\n",
              "    .dataframe tbody tr th {\n",
              "        vertical-align: top;\n",
              "    }\n",
              "\n",
              "    .dataframe thead th {\n",
              "        text-align: right;\n",
              "    }\n",
              "</style>\n",
              "<table border=\"1\" class=\"dataframe\">\n",
              "  <thead>\n",
              "    <tr style=\"text-align: right;\">\n",
              "      <th></th>\n",
              "      <th>Age</th>\n",
              "      <th>Patient's Years</th>\n",
              "      <th>N_positive_ax</th>\n",
              "      <th>survival_status</th>\n",
              "    </tr>\n",
              "  </thead>\n",
              "  <tbody>\n",
              "    <tr>\n",
              "      <th>0</th>\n",
              "      <td>30</td>\n",
              "      <td>64</td>\n",
              "      <td>1</td>\n",
              "      <td>1</td>\n",
              "    </tr>\n",
              "    <tr>\n",
              "      <th>1</th>\n",
              "      <td>30</td>\n",
              "      <td>62</td>\n",
              "      <td>3</td>\n",
              "      <td>1</td>\n",
              "    </tr>\n",
              "    <tr>\n",
              "      <th>2</th>\n",
              "      <td>30</td>\n",
              "      <td>65</td>\n",
              "      <td>0</td>\n",
              "      <td>1</td>\n",
              "    </tr>\n",
              "    <tr>\n",
              "      <th>3</th>\n",
              "      <td>31</td>\n",
              "      <td>59</td>\n",
              "      <td>2</td>\n",
              "      <td>1</td>\n",
              "    </tr>\n",
              "    <tr>\n",
              "      <th>4</th>\n",
              "      <td>31</td>\n",
              "      <td>65</td>\n",
              "      <td>4</td>\n",
              "      <td>1</td>\n",
              "    </tr>\n",
              "  </tbody>\n",
              "</table>\n",
              "</div>\n",
              "      <button class=\"colab-df-convert\" onclick=\"convertToInteractive('df-c3e31efa-909e-4bea-8976-2fed25175600')\"\n",
              "              title=\"Convert this dataframe to an interactive table.\"\n",
              "              style=\"display:none;\">\n",
              "        \n",
              "  <svg xmlns=\"http://www.w3.org/2000/svg\" height=\"24px\"viewBox=\"0 0 24 24\"\n",
              "       width=\"24px\">\n",
              "    <path d=\"M0 0h24v24H0V0z\" fill=\"none\"/>\n",
              "    <path d=\"M18.56 5.44l.94 2.06.94-2.06 2.06-.94-2.06-.94-.94-2.06-.94 2.06-2.06.94zm-11 1L8.5 8.5l.94-2.06 2.06-.94-2.06-.94L8.5 2.5l-.94 2.06-2.06.94zm10 10l.94 2.06.94-2.06 2.06-.94-2.06-.94-.94-2.06-.94 2.06-2.06.94z\"/><path d=\"M17.41 7.96l-1.37-1.37c-.4-.4-.92-.59-1.43-.59-.52 0-1.04.2-1.43.59L10.3 9.45l-7.72 7.72c-.78.78-.78 2.05 0 2.83L4 21.41c.39.39.9.59 1.41.59.51 0 1.02-.2 1.41-.59l7.78-7.78 2.81-2.81c.8-.78.8-2.07 0-2.86zM5.41 20L4 18.59l7.72-7.72 1.47 1.35L5.41 20z\"/>\n",
              "  </svg>\n",
              "      </button>\n",
              "      \n",
              "  <style>\n",
              "    .colab-df-container {\n",
              "      display:flex;\n",
              "      flex-wrap:wrap;\n",
              "      gap: 12px;\n",
              "    }\n",
              "\n",
              "    .colab-df-convert {\n",
              "      background-color: #E8F0FE;\n",
              "      border: none;\n",
              "      border-radius: 50%;\n",
              "      cursor: pointer;\n",
              "      display: none;\n",
              "      fill: #1967D2;\n",
              "      height: 32px;\n",
              "      padding: 0 0 0 0;\n",
              "      width: 32px;\n",
              "    }\n",
              "\n",
              "    .colab-df-convert:hover {\n",
              "      background-color: #E2EBFA;\n",
              "      box-shadow: 0px 1px 2px rgba(60, 64, 67, 0.3), 0px 1px 3px 1px rgba(60, 64, 67, 0.15);\n",
              "      fill: #174EA6;\n",
              "    }\n",
              "\n",
              "    [theme=dark] .colab-df-convert {\n",
              "      background-color: #3B4455;\n",
              "      fill: #D2E3FC;\n",
              "    }\n",
              "\n",
              "    [theme=dark] .colab-df-convert:hover {\n",
              "      background-color: #434B5C;\n",
              "      box-shadow: 0px 1px 3px 1px rgba(0, 0, 0, 0.15);\n",
              "      filter: drop-shadow(0px 1px 2px rgba(0, 0, 0, 0.3));\n",
              "      fill: #FFFFFF;\n",
              "    }\n",
              "  </style>\n",
              "\n",
              "      <script>\n",
              "        const buttonEl =\n",
              "          document.querySelector('#df-c3e31efa-909e-4bea-8976-2fed25175600 button.colab-df-convert');\n",
              "        buttonEl.style.display =\n",
              "          google.colab.kernel.accessAllowed ? 'block' : 'none';\n",
              "\n",
              "        async function convertToInteractive(key) {\n",
              "          const element = document.querySelector('#df-c3e31efa-909e-4bea-8976-2fed25175600');\n",
              "          const dataTable =\n",
              "            await google.colab.kernel.invokeFunction('convertToInteractive',\n",
              "                                                     [key], {});\n",
              "          if (!dataTable) return;\n",
              "\n",
              "          const docLinkHtml = 'Like what you see? Visit the ' +\n",
              "            '<a target=\"_blank\" href=https://colab.research.google.com/notebooks/data_table.ipynb>data table notebook</a>'\n",
              "            + ' to learn more about interactive tables.';\n",
              "          element.innerHTML = '';\n",
              "          dataTable['output_type'] = 'display_data';\n",
              "          await google.colab.output.renderOutput(dataTable, element);\n",
              "          const docLink = document.createElement('div');\n",
              "          docLink.innerHTML = docLinkHtml;\n",
              "          element.appendChild(docLink);\n",
              "        }\n",
              "      </script>\n",
              "    </div>\n",
              "  </div>\n",
              "  "
            ]
          },
          "metadata": {},
          "execution_count": 31
        }
      ],
      "source": [
        "# tampilkan 5 baris awal dataset dengan function head()\n",
        "df2.head()"
      ]
    },
    {
      "cell_type": "code",
      "execution_count": 32,
      "metadata": {
        "colab": {
          "base_uri": "https://localhost:8080/"
        },
        "id": "znc1dEGO_XU2",
        "outputId": "dc07f153-4dc7-4065-94ea-588db398aa21"
      },
      "outputs": [
        {
          "output_type": "execute_result",
          "data": {
            "text/plain": [
              "1    225\n",
              "2     81\n",
              "Name: survival_status, dtype: int64"
            ]
          },
          "metadata": {},
          "execution_count": 32
        }
      ],
      "source": [
        "# hitung jumlah masing\" data pada kolom survival_status\n",
        "df2['survival_status'].value_counts()"
      ]
    },
    {
      "cell_type": "markdown",
      "metadata": {
        "id": "seZcR--H8xMj"
      },
      "source": [
        "#### NO 1"
      ]
    },
    {
      "cell_type": "code",
      "execution_count": 33,
      "metadata": {
        "id": "RZmjEbcie33S"
      },
      "outputs": [],
      "source": [
        "# 1. pembagian variabel train dan test\n",
        "# test size= 25%, random state = 42, dan stratify = y\n",
        "X = df2.drop('survival_status', axis = 1)\n",
        "y = df2['survival_status']\n",
        "\n",
        "X_train, X_test, y_train, y_test = train_test_split(X,y,test_size=0.25, random_state=42, stratify=y)"
      ]
    },
    {
      "cell_type": "markdown",
      "metadata": {
        "id": "Et9Gpp8r8xMl"
      },
      "source": [
        "#### NO 2"
      ]
    },
    {
      "cell_type": "code",
      "execution_count": 34,
      "metadata": {
        "id": "3uWlk8JLfFVE"
      },
      "outputs": [],
      "source": [
        "# 2. import library KNN dan GridSearchCv\n",
        "from sklearn.neighbors import KNeighborsClassifier\n",
        "from sklearn.model_selection import GridSearchCV"
      ]
    },
    {
      "cell_type": "markdown",
      "metadata": {
        "id": "eDIMIGGQ8xMn"
      },
      "source": [
        "#### NO 3 - 6"
      ]
    },
    {
      "cell_type": "code",
      "execution_count": 35,
      "metadata": {
        "colab": {
          "base_uri": "https://localhost:8080/"
        },
        "id": "VNqpbE6cfJO_",
        "outputId": "09d2480b-a8b5-4375-dfe2-52a5e6399b01"
      },
      "outputs": [
        {
          "output_type": "execute_result",
          "data": {
            "text/plain": [
              "GridSearchCV(cv=10, estimator=KNeighborsClassifier(),\n",
              "             param_grid={'n_neighbors': array([ 3,  4,  5,  6,  7,  8,  9, 10, 11, 12, 13, 14, 15, 16, 17, 18, 19,\n",
              "       20, 21, 22, 23, 24, 25, 26, 27, 28, 29, 30, 31, 32, 33, 34, 35, 36,\n",
              "       37, 38, 39, 40, 41, 42, 43, 44, 45, 46, 47, 48, 49, 50]),\n",
              "                         'weights': ['uniform', 'distance']},\n",
              "             scoring='roc_auc')"
            ]
          },
          "metadata": {},
          "execution_count": 35
        }
      ],
      "source": [
        "# 3. tuning hyperparameter dengan GridSearchCV (parameter cv=10)\n",
        "## build model KNN\n",
        "model_knn = KNeighborsClassifier()\n",
        "param_grid = {'n_neighbors' : np.arange(3,51), 'weights' : ['uniform','distance']}\n",
        "gscv = GridSearchCV(model_knn, param_grid, scoring='roc_auc', cv = 10)\n",
        "gscv.fit(X_train, y_train)"
      ]
    },
    {
      "cell_type": "markdown",
      "metadata": {
        "id": "o5z44JPY8xMq"
      },
      "source": [
        "#### NO 7"
      ]
    },
    {
      "cell_type": "code",
      "execution_count": 36,
      "metadata": {
        "colab": {
          "base_uri": "https://localhost:8080/"
        },
        "id": "MSfTj3VGfL6R",
        "outputId": "d4159e26-6732-4187-aa60-ec632094162a"
      },
      "outputs": [
        {
          "output_type": "execute_result",
          "data": {
            "text/plain": [
              "{'n_neighbors': 44, 'weights': 'distance'}"
            ]
          },
          "metadata": {},
          "execution_count": 36
        }
      ],
      "source": [
        "# 7. parameter terbaik\n",
        "gscv.best_params_"
      ]
    },
    {
      "cell_type": "markdown",
      "metadata": {
        "id": "p97WaJZ98xNo"
      },
      "source": [
        "#### NO 8"
      ]
    },
    {
      "cell_type": "code",
      "execution_count": 38,
      "metadata": {
        "colab": {
          "base_uri": "https://localhost:8080/"
        },
        "id": "xhqfzxUffQBY",
        "outputId": "177f32fe-9d7c-4d3e-9cd3-87dd07eb47c0"
      },
      "outputs": [
        {
          "output_type": "execute_result",
          "data": {
            "text/plain": [
              "0.7328256302521009"
            ]
          },
          "metadata": {},
          "execution_count": 38
        }
      ],
      "source": [
        "# 8. score validasi terbaik\n",
        "gscv.best_score_"
      ]
    },
    {
      "cell_type": "markdown",
      "metadata": {
        "id": "qDvhkUtJ8xNq"
      },
      "source": [
        "#### NO 9"
      ]
    },
    {
      "cell_type": "code",
      "execution_count": 39,
      "metadata": {
        "id": "X5tQh4IufRpF",
        "scrolled": true,
        "outputId": "0c480976-4250-49a6-cc0b-46d785a567d4",
        "colab": {
          "base_uri": "https://localhost:8080/"
        }
      },
      "outputs": [
        {
          "output_type": "execute_result",
          "data": {
            "text/plain": [
              "array([[0.83243084, 0.16756916],\n",
              "       [0.82948389, 0.17051611],\n",
              "       [0.83654015, 0.16345985],\n",
              "       [0.88637563, 0.11362437],\n",
              "       [0.79353081, 0.20646919],\n",
              "       [0.85764058, 0.14235942],\n",
              "       [1.        , 0.        ],\n",
              "       [0.91059345, 0.08940655],\n",
              "       [1.        , 0.        ],\n",
              "       [0.40791879, 0.59208121],\n",
              "       [0.74847637, 0.25152363],\n",
              "       [0.85851565, 0.14148435],\n",
              "       [0.74381719, 0.25618281],\n",
              "       [0.39343436, 0.60656564],\n",
              "       [0.87592463, 0.12407537],\n",
              "       [0.83027157, 0.16972843],\n",
              "       [0.81891568, 0.18108432],\n",
              "       [0.84789266, 0.15210734],\n",
              "       [0.81972569, 0.18027431],\n",
              "       [0.54389078, 0.45610922],\n",
              "       [0.75882428, 0.24117572],\n",
              "       [0.81902643, 0.18097357],\n",
              "       [1.        , 0.        ],\n",
              "       [0.876866  , 0.123134  ],\n",
              "       [0.48249566, 0.51750434],\n",
              "       [0.45003424, 0.54996576],\n",
              "       [0.57543564, 0.42456436],\n",
              "       [1.        , 0.        ],\n",
              "       [0.81528165, 0.18471835],\n",
              "       [0.91817378, 0.08182622],\n",
              "       [1.        , 0.        ],\n",
              "       [0.87592463, 0.12407537],\n",
              "       [1.        , 0.        ],\n",
              "       [0.67634355, 0.32365645],\n",
              "       [0.81489874, 0.18510126],\n",
              "       [1.        , 0.        ],\n",
              "       [0.91401356, 0.08598644],\n",
              "       [0.83700137, 0.16299863],\n",
              "       [0.65450277, 0.34549723],\n",
              "       [0.71600536, 0.28399464],\n",
              "       [0.86429849, 0.13570151],\n",
              "       [0.67185   , 0.32815   ],\n",
              "       [0.70729854, 0.29270146],\n",
              "       [0.32659927, 0.67340073],\n",
              "       [0.85152043, 0.14847957],\n",
              "       [0.87526755, 0.12473245],\n",
              "       [0.8657768 , 0.1342232 ],\n",
              "       [1.        , 0.        ],\n",
              "       [0.85587677, 0.14412323],\n",
              "       [0.81470662, 0.18529338],\n",
              "       [0.        , 1.        ],\n",
              "       [0.58630218, 0.41369782],\n",
              "       [0.78465635, 0.21534365],\n",
              "       [0.8273538 , 0.1726462 ],\n",
              "       [0.93065293, 0.06934707],\n",
              "       [0.78771332, 0.21228668],\n",
              "       [0.59771908, 0.40228092],\n",
              "       [0.85819935, 0.14180065],\n",
              "       [0.86802918, 0.13197082],\n",
              "       [0.85712324, 0.14287676],\n",
              "       [0.79150349, 0.20849651],\n",
              "       [0.81972569, 0.18027431],\n",
              "       [0.84895854, 0.15104146],\n",
              "       [0.87651676, 0.12348324],\n",
              "       [0.80510937, 0.19489063],\n",
              "       [1.        , 0.        ],\n",
              "       [0.61065018, 0.38934982],\n",
              "       [0.7790642 , 0.2209358 ],\n",
              "       [0.39894921, 0.60105079],\n",
              "       [0.74452557, 0.25547443],\n",
              "       [0.86842977, 0.13157023],\n",
              "       [0.65017413, 0.34982587],\n",
              "       [0.78410585, 0.21589415],\n",
              "       [0.9144802 , 0.0855198 ],\n",
              "       [0.77803863, 0.22196137],\n",
              "       [0.76783574, 0.23216426],\n",
              "       [0.86016996, 0.13983004]])"
            ]
          },
          "metadata": {},
          "execution_count": 39
        }
      ],
      "source": [
        "# 9. prediksikan probabilitas masing-masing data test\n",
        "y_predict = gscv.predict_proba(X_test)\n",
        "y_predict"
      ]
    },
    {
      "cell_type": "code",
      "execution_count": 40,
      "metadata": {
        "id": "yyBeNgdy8xNs",
        "outputId": "005c92f9-1772-421a-ca0e-9b68f799da3a",
        "colab": {
          "base_uri": "https://localhost:8080/"
        }
      },
      "outputs": [
        {
          "output_type": "execute_result",
          "data": {
            "text/plain": [
              "0.5"
            ]
          },
          "metadata": {},
          "execution_count": 40
        }
      ],
      "source": [
        "# nilai rata-rata probabilitas data test\n",
        "y_predict.mean()"
      ]
    },
    {
      "cell_type": "markdown",
      "metadata": {
        "id": "c5ZuDLQ08xNs"
      },
      "source": [
        "#### NO 10"
      ]
    },
    {
      "cell_type": "code",
      "execution_count": 49,
      "metadata": {
        "colab": {
          "base_uri": "https://localhost:8080/"
        },
        "id": "sUMrtvGUfWcn",
        "outputId": "436e7787-5c85-428a-9fed-5dce992d34ea"
      },
      "outputs": [
        {
          "output_type": "stream",
          "name": "stdout",
          "text": [
            "[0.16756916 0.17051611 0.16345985 0.11362437 0.20646919 0.14235942\n",
            " 0.         0.08940655 0.         0.59208121 0.25152363 0.14148435\n",
            " 0.25618281 0.60656564 0.12407537 0.16972843 0.18108432 0.15210734\n",
            " 0.18027431 0.45610922 0.24117572 0.18097357 0.         0.123134\n",
            " 0.51750434 0.54996576 0.42456436 0.         0.18471835 0.08182622\n",
            " 0.         0.12407537 0.         0.32365645 0.18510126 0.\n",
            " 0.08598644 0.16299863 0.34549723 0.28399464 0.13570151 0.32815\n",
            " 0.29270146 0.67340073 0.14847957 0.12473245 0.1342232  0.\n",
            " 0.14412323 0.18529338 1.         0.41369782 0.21534365 0.1726462\n",
            " 0.06934707 0.21228668 0.40228092 0.14180065 0.13197082 0.14287676\n",
            " 0.20849651 0.18027431 0.15104146 0.12348324 0.19489063 0.\n",
            " 0.38934982 0.2209358  0.60105079 0.25547443 0.13157023 0.34982587\n",
            " 0.21589415 0.0855198  0.22196137 0.23216426 0.13983004]\n"
          ]
        }
      ],
      "source": [
        "# 10. nilai score roc_auc \n",
        "kurang_5th = gscv.predict_proba(X_test)[:,1]\n",
        "print(kurang_5th)"
      ]
    },
    {
      "cell_type": "markdown",
      "metadata": {
        "id": "78kNjR5W8xNu"
      },
      "source": [
        "#### NO 11 "
      ]
    },
    {
      "cell_type": "markdown",
      "metadata": {
        "id": "mHjZmxFyfejG"
      },
      "source": [
        " <p style=\"color:#FF0000\">Jawab</p>\n",
        "Model dengan hyperparameter baik dengan memiliki nilai score 73% dan termasuk underfitting"
      ]
    },
    {
      "cell_type": "markdown",
      "metadata": {
        "id": "_2Sc7fM08xNv"
      },
      "source": [
        "<h1> Soal 5: </h1>\n",
        "\n",
        "\n",
        "1. Ulangi tahap di atas (soal 4, no 1 - 8) namun kali ini menggunakan algoritma DecisionTreeClassifier dan kalian bisa menggunakan RandomizedSearchCV apabila process training lama. pelajari algoritma DecisionTreeClassifier di linkberikut: https://scikit-learn.org/stable/modules/generated/sklearn.tree.DecisionTreeClassifier.html?highlight=decisiontreeclassifier#sklearn.tree.DecisionTreeClassifier\n",
        "2. Bandingkan scorenya dengan Algoritma KNN, mana yang lebih baik?\n",
        "\n",
        "Note : Data Science adalah experiment, sangat di dimungkinkan memerlukan beberapa kali percobaan untuk mendapatkan hasil yang terbaik! Happy Coding :)"
      ]
    },
    {
      "cell_type": "markdown",
      "metadata": {
        "id": "CFmeCsMx8xNx"
      },
      "source": [
        "#### NO 1"
      ]
    },
    {
      "cell_type": "code",
      "execution_count": 50,
      "metadata": {
        "id": "E4E6YlWOfYwm"
      },
      "outputs": [],
      "source": [
        "# 1. import algoritma DecisionTreeClassifier\n",
        "from sklearn.tree import DecisionTreeClassifier\n",
        "from sklearn.model_selection import RandomizedSearchCV"
      ]
    },
    {
      "cell_type": "code",
      "execution_count": 51,
      "metadata": {
        "colab": {
          "base_uri": "https://localhost:8080/"
        },
        "id": "n6AOPaK8fo6e",
        "outputId": "1b9d34bf-1d60-4c82-c396-4709e402faff"
      },
      "outputs": [
        {
          "output_type": "execute_result",
          "data": {
            "text/plain": [
              "GridSearchCV(cv=10, estimator=DecisionTreeClassifier(),\n",
              "             param_grid={'criterion': ['entropy', 'gini'],\n",
              "                         'min_samples_split': array([ 2,  3,  4,  5,  6,  7,  8,  9, 10, 11, 12, 13, 14, 15, 16, 17, 18,\n",
              "       19, 20, 21, 22, 23, 24, 25, 26, 27, 28, 29, 30, 31, 32, 33, 34, 35,\n",
              "       36, 37, 38, 39, 40, 41, 42, 43, 44, 45, 46, 47, 48, 49]),\n",
              "                         'splitter': ['best', 'random']},\n",
              "             scoring='roc_auc')"
            ]
          },
          "metadata": {},
          "execution_count": 51
        }
      ],
      "source": [
        "# Build model decision tree classifier \n",
        "model_tree = DecisionTreeClassifier()\n",
        "params = {'criterion' : ['entropy','gini'], 'splitter' : ['best', 'random'],\n",
        "         'min_samples_split' : np.arange(2,50)}\n",
        "gscv = GridSearchCV(model_tree, param_grid = params, cv = 10, scoring = 'roc_auc')\n",
        "gscv.fit(X_train, y_train)"
      ]
    },
    {
      "cell_type": "code",
      "execution_count": 52,
      "metadata": {
        "colab": {
          "base_uri": "https://localhost:8080/"
        },
        "id": "bf-n20APfrnd",
        "outputId": "71267a0c-b4fc-48b1-ea2f-d0b401607242"
      },
      "outputs": [
        {
          "output_type": "execute_result",
          "data": {
            "text/plain": [
              "{'criterion': 'gini', 'min_samples_split': 49, 'splitter': 'random'}"
            ]
          },
          "metadata": {},
          "execution_count": 52
        }
      ],
      "source": [
        "# parameter terbaik\n",
        "gscv.best_params_"
      ]
    },
    {
      "cell_type": "code",
      "execution_count": 53,
      "metadata": {
        "colab": {
          "base_uri": "https://localhost:8080/"
        },
        "id": "oghdg_0yfx7l",
        "outputId": "a3067968-14e9-47ea-f044-9736fde5bf0f"
      },
      "outputs": [
        {
          "output_type": "execute_result",
          "data": {
            "text/plain": [
              "0.752437850140056"
            ]
          },
          "metadata": {},
          "execution_count": 53
        }
      ],
      "source": [
        "# score validasi terbaik\n",
        "gscv.best_score_"
      ]
    },
    {
      "cell_type": "markdown",
      "metadata": {
        "id": "YOt1j6I98xN1"
      },
      "source": [
        "#### NO 2"
      ]
    },
    {
      "cell_type": "markdown",
      "metadata": {
        "id": "mF4C599vf5c-"
      },
      "source": [
        " <p style=\"color:#FF0000\">Jawab</p>\n",
        "Untuk perbandingan KNN dengan Decision Tree, KNN Memiliki Score sebesar 73% sedangkan Decision Tree Memiliki Score Sebesar 75%"
      ]
    }
  ],
  "metadata": {
    "colab": {
      "collapsed_sections": [],
      "name": "[SOAL] Pertemuan 16_Tugas Mandiri.ipynb",
      "provenance": []
    },
    "kernelspec": {
      "display_name": "Python 3",
      "language": "python",
      "name": "python3"
    },
    "language_info": {
      "codemirror_mode": {
        "name": "ipython",
        "version": 3
      },
      "file_extension": ".py",
      "mimetype": "text/x-python",
      "name": "python",
      "nbconvert_exporter": "python",
      "pygments_lexer": "ipython3",
      "version": "3.8.8"
    }
  },
  "nbformat": 4,
  "nbformat_minor": 0
}