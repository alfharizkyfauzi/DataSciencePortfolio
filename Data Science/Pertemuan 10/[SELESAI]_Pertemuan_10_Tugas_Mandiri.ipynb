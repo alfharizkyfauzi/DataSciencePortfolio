{
  "cells": [
    {
      "cell_type": "markdown",
      "metadata": {
        "id": "0y8gT2yO6Yvj"
      },
      "source": [
        "# Hands-On\n",
        "---\n",
        "\n",
        "Hands-On ini digunakan pada kegiatan Workshop Data Science 2022"
      ]
    },
    {
      "cell_type": "markdown",
      "metadata": {
        "id": "F3rmyY3s6Yvm"
      },
      "source": [
        "# Tugas Mandiri Pertemuan 10\n",
        "---\n",
        "Pertemuan 10 (sepuluh) pada Workshop Data Science 2022 menyampaikan materi mengenai Membangun Model (Dasar Regresi dan Regresi Linier). silakan Anda kerjakan Latihan 1 s/d 20. Output yang anda lihat merupakan panduan yang dapat Anda ikuti dalam penulisan code :)"
      ]
    },
    {
      "cell_type": "markdown",
      "metadata": {
        "id": "BSAL5MPp6Yvt"
      },
      "source": [
        "# Latihan (1)\n",
        "\n",
        "### Melakukan import library yang dibutuhkan"
      ]
    },
    {
      "cell_type": "code",
      "execution_count": 1,
      "metadata": {
        "id": "Qg25wi3J6Yvw"
      },
      "outputs": [],
      "source": [
        "# import library pandas\n",
        "import pandas as pd\n",
        "\n",
        "# Import library numpy\n",
        "import numpy as np\n",
        "\n",
        "# Import library matplotlib dan seaborn untuk visualisasi\n",
        "import matplotlib.pyplot as plt\n",
        "import seaborn as sns\n",
        "\n",
        "# Import Module LinearRegression digunakan untuk memanggil algoritma Linear Regression.\n",
        "from sklearn.linear_model import LinearRegression\n",
        "\n",
        "# import Module train_test_split digunakan untuk membagi data kita menjadi training dan testing set.\n",
        "from sklearn.model_selection import train_test_split\n",
        "\n",
        "# import modul mean_absolute_error dari library sklearn\n",
        "from sklearn.metrics import mean_absolute_error\n",
        "\n",
        "#import math agar program dapat menggunakan semua fungsi yang ada pada modul math.(ex:sqrt)\n",
        "import math\n",
        "\n",
        "# me-non aktifkan peringatan pada python\n",
        "import warnings \n",
        "warnings.filterwarnings(\"ignore\")"
      ]
    },
    {
      "cell_type": "markdown",
      "metadata": {
        "id": "VIlrHyZC6YzI"
      },
      "source": [
        "### Load Dataset"
      ]
    },
    {
      "cell_type": "code",
      "execution_count": 2,
      "metadata": {
        "_cell_guid": "79c7e3d0-c299-4dcb-8224-4455121ee9b0",
        "_uuid": "d629ff2d2480ee46fbb7e2d37f6b5fab8052498a",
        "execution": {
          "iopub.execute_input": "2020-12-18T08:30:29.732715Z",
          "iopub.status.busy": "2020-12-18T08:30:29.731914Z",
          "iopub.status.idle": "2020-12-18T08:30:29.751271Z",
          "shell.execute_reply": "2020-12-18T08:30:29.750721Z"
        },
        "papermill": {
          "duration": 0.046297,
          "end_time": "2020-12-18T08:30:29.751394",
          "exception": false,
          "start_time": "2020-12-18T08:30:29.705097",
          "status": "completed"
        },
        "tags": [],
        "id": "-VrTYP5L6YzM",
        "outputId": "d3ae67d9-abde-496e-d27c-3a7f3fc49097",
        "colab": {
          "base_uri": "https://localhost:8080/",
          "height": 526
        }
      },
      "outputs": [
        {
          "output_type": "execute_result",
          "data": {
            "text/plain": [
              "   car_ID  symboling                   CarName fueltype aspiration doornumber  \\\n",
              "0       1          3        alfa-romero giulia      gas        std        two   \n",
              "1       2          3       alfa-romero stelvio      gas        std        two   \n",
              "2       3          1  alfa-romero Quadrifoglio      gas        std        two   \n",
              "3       4          2               audi 100 ls      gas        std       four   \n",
              "4       5          2                audi 100ls      gas        std       four   \n",
              "5       6          2                  audi fox      gas        std        two   \n",
              "6       7          1                audi 100ls      gas        std       four   \n",
              "7       8          1                 audi 5000      gas        std       four   \n",
              "8       9          1                 audi 4000      gas      turbo       four   \n",
              "9      10          0       audi 5000s (diesel)      gas      turbo        two   \n",
              "\n",
              "       carbody drivewheel enginelocation  wheelbase  ...  enginesize  \\\n",
              "0  convertible        rwd          front       88.6  ...         130   \n",
              "1  convertible        rwd          front       88.6  ...         130   \n",
              "2    hatchback        rwd          front       94.5  ...         152   \n",
              "3        sedan        fwd          front       99.8  ...         109   \n",
              "4        sedan        4wd          front       99.4  ...         136   \n",
              "5        sedan        fwd          front       99.8  ...         136   \n",
              "6        sedan        fwd          front      105.8  ...         136   \n",
              "7        wagon        fwd          front      105.8  ...         136   \n",
              "8        sedan        fwd          front      105.8  ...         131   \n",
              "9    hatchback        4wd          front       99.5  ...         131   \n",
              "\n",
              "   fuelsystem  boreratio  stroke compressionratio horsepower  peakrpm citympg  \\\n",
              "0        mpfi       3.47    2.68              9.0        111     5000      21   \n",
              "1        mpfi       3.47    2.68              9.0        111     5000      21   \n",
              "2        mpfi       2.68    3.47              9.0        154     5000      19   \n",
              "3        mpfi       3.19    3.40             10.0        102     5500      24   \n",
              "4        mpfi       3.19    3.40              8.0        115     5500      18   \n",
              "5        mpfi       3.19    3.40              8.5        110     5500      19   \n",
              "6        mpfi       3.19    3.40              8.5        110     5500      19   \n",
              "7        mpfi       3.19    3.40              8.5        110     5500      19   \n",
              "8        mpfi       3.13    3.40              8.3        140     5500      17   \n",
              "9        mpfi       3.13    3.40              7.0        160     5500      16   \n",
              "\n",
              "   highwaympg      price  \n",
              "0          27  13495.000  \n",
              "1          27  16500.000  \n",
              "2          26  16500.000  \n",
              "3          30  13950.000  \n",
              "4          22  17450.000  \n",
              "5          25  15250.000  \n",
              "6          25  17710.000  \n",
              "7          25  18920.000  \n",
              "8          20  23875.000  \n",
              "9          22  17859.167  \n",
              "\n",
              "[10 rows x 26 columns]"
            ],
            "text/html": [
              "\n",
              "  <div id=\"df-6d6e1980-7f8a-40fc-9c8a-0860c2c69539\">\n",
              "    <div class=\"colab-df-container\">\n",
              "      <div>\n",
              "<style scoped>\n",
              "    .dataframe tbody tr th:only-of-type {\n",
              "        vertical-align: middle;\n",
              "    }\n",
              "\n",
              "    .dataframe tbody tr th {\n",
              "        vertical-align: top;\n",
              "    }\n",
              "\n",
              "    .dataframe thead th {\n",
              "        text-align: right;\n",
              "    }\n",
              "</style>\n",
              "<table border=\"1\" class=\"dataframe\">\n",
              "  <thead>\n",
              "    <tr style=\"text-align: right;\">\n",
              "      <th></th>\n",
              "      <th>car_ID</th>\n",
              "      <th>symboling</th>\n",
              "      <th>CarName</th>\n",
              "      <th>fueltype</th>\n",
              "      <th>aspiration</th>\n",
              "      <th>doornumber</th>\n",
              "      <th>carbody</th>\n",
              "      <th>drivewheel</th>\n",
              "      <th>enginelocation</th>\n",
              "      <th>wheelbase</th>\n",
              "      <th>...</th>\n",
              "      <th>enginesize</th>\n",
              "      <th>fuelsystem</th>\n",
              "      <th>boreratio</th>\n",
              "      <th>stroke</th>\n",
              "      <th>compressionratio</th>\n",
              "      <th>horsepower</th>\n",
              "      <th>peakrpm</th>\n",
              "      <th>citympg</th>\n",
              "      <th>highwaympg</th>\n",
              "      <th>price</th>\n",
              "    </tr>\n",
              "  </thead>\n",
              "  <tbody>\n",
              "    <tr>\n",
              "      <th>0</th>\n",
              "      <td>1</td>\n",
              "      <td>3</td>\n",
              "      <td>alfa-romero giulia</td>\n",
              "      <td>gas</td>\n",
              "      <td>std</td>\n",
              "      <td>two</td>\n",
              "      <td>convertible</td>\n",
              "      <td>rwd</td>\n",
              "      <td>front</td>\n",
              "      <td>88.6</td>\n",
              "      <td>...</td>\n",
              "      <td>130</td>\n",
              "      <td>mpfi</td>\n",
              "      <td>3.47</td>\n",
              "      <td>2.68</td>\n",
              "      <td>9.0</td>\n",
              "      <td>111</td>\n",
              "      <td>5000</td>\n",
              "      <td>21</td>\n",
              "      <td>27</td>\n",
              "      <td>13495.000</td>\n",
              "    </tr>\n",
              "    <tr>\n",
              "      <th>1</th>\n",
              "      <td>2</td>\n",
              "      <td>3</td>\n",
              "      <td>alfa-romero stelvio</td>\n",
              "      <td>gas</td>\n",
              "      <td>std</td>\n",
              "      <td>two</td>\n",
              "      <td>convertible</td>\n",
              "      <td>rwd</td>\n",
              "      <td>front</td>\n",
              "      <td>88.6</td>\n",
              "      <td>...</td>\n",
              "      <td>130</td>\n",
              "      <td>mpfi</td>\n",
              "      <td>3.47</td>\n",
              "      <td>2.68</td>\n",
              "      <td>9.0</td>\n",
              "      <td>111</td>\n",
              "      <td>5000</td>\n",
              "      <td>21</td>\n",
              "      <td>27</td>\n",
              "      <td>16500.000</td>\n",
              "    </tr>\n",
              "    <tr>\n",
              "      <th>2</th>\n",
              "      <td>3</td>\n",
              "      <td>1</td>\n",
              "      <td>alfa-romero Quadrifoglio</td>\n",
              "      <td>gas</td>\n",
              "      <td>std</td>\n",
              "      <td>two</td>\n",
              "      <td>hatchback</td>\n",
              "      <td>rwd</td>\n",
              "      <td>front</td>\n",
              "      <td>94.5</td>\n",
              "      <td>...</td>\n",
              "      <td>152</td>\n",
              "      <td>mpfi</td>\n",
              "      <td>2.68</td>\n",
              "      <td>3.47</td>\n",
              "      <td>9.0</td>\n",
              "      <td>154</td>\n",
              "      <td>5000</td>\n",
              "      <td>19</td>\n",
              "      <td>26</td>\n",
              "      <td>16500.000</td>\n",
              "    </tr>\n",
              "    <tr>\n",
              "      <th>3</th>\n",
              "      <td>4</td>\n",
              "      <td>2</td>\n",
              "      <td>audi 100 ls</td>\n",
              "      <td>gas</td>\n",
              "      <td>std</td>\n",
              "      <td>four</td>\n",
              "      <td>sedan</td>\n",
              "      <td>fwd</td>\n",
              "      <td>front</td>\n",
              "      <td>99.8</td>\n",
              "      <td>...</td>\n",
              "      <td>109</td>\n",
              "      <td>mpfi</td>\n",
              "      <td>3.19</td>\n",
              "      <td>3.40</td>\n",
              "      <td>10.0</td>\n",
              "      <td>102</td>\n",
              "      <td>5500</td>\n",
              "      <td>24</td>\n",
              "      <td>30</td>\n",
              "      <td>13950.000</td>\n",
              "    </tr>\n",
              "    <tr>\n",
              "      <th>4</th>\n",
              "      <td>5</td>\n",
              "      <td>2</td>\n",
              "      <td>audi 100ls</td>\n",
              "      <td>gas</td>\n",
              "      <td>std</td>\n",
              "      <td>four</td>\n",
              "      <td>sedan</td>\n",
              "      <td>4wd</td>\n",
              "      <td>front</td>\n",
              "      <td>99.4</td>\n",
              "      <td>...</td>\n",
              "      <td>136</td>\n",
              "      <td>mpfi</td>\n",
              "      <td>3.19</td>\n",
              "      <td>3.40</td>\n",
              "      <td>8.0</td>\n",
              "      <td>115</td>\n",
              "      <td>5500</td>\n",
              "      <td>18</td>\n",
              "      <td>22</td>\n",
              "      <td>17450.000</td>\n",
              "    </tr>\n",
              "    <tr>\n",
              "      <th>5</th>\n",
              "      <td>6</td>\n",
              "      <td>2</td>\n",
              "      <td>audi fox</td>\n",
              "      <td>gas</td>\n",
              "      <td>std</td>\n",
              "      <td>two</td>\n",
              "      <td>sedan</td>\n",
              "      <td>fwd</td>\n",
              "      <td>front</td>\n",
              "      <td>99.8</td>\n",
              "      <td>...</td>\n",
              "      <td>136</td>\n",
              "      <td>mpfi</td>\n",
              "      <td>3.19</td>\n",
              "      <td>3.40</td>\n",
              "      <td>8.5</td>\n",
              "      <td>110</td>\n",
              "      <td>5500</td>\n",
              "      <td>19</td>\n",
              "      <td>25</td>\n",
              "      <td>15250.000</td>\n",
              "    </tr>\n",
              "    <tr>\n",
              "      <th>6</th>\n",
              "      <td>7</td>\n",
              "      <td>1</td>\n",
              "      <td>audi 100ls</td>\n",
              "      <td>gas</td>\n",
              "      <td>std</td>\n",
              "      <td>four</td>\n",
              "      <td>sedan</td>\n",
              "      <td>fwd</td>\n",
              "      <td>front</td>\n",
              "      <td>105.8</td>\n",
              "      <td>...</td>\n",
              "      <td>136</td>\n",
              "      <td>mpfi</td>\n",
              "      <td>3.19</td>\n",
              "      <td>3.40</td>\n",
              "      <td>8.5</td>\n",
              "      <td>110</td>\n",
              "      <td>5500</td>\n",
              "      <td>19</td>\n",
              "      <td>25</td>\n",
              "      <td>17710.000</td>\n",
              "    </tr>\n",
              "    <tr>\n",
              "      <th>7</th>\n",
              "      <td>8</td>\n",
              "      <td>1</td>\n",
              "      <td>audi 5000</td>\n",
              "      <td>gas</td>\n",
              "      <td>std</td>\n",
              "      <td>four</td>\n",
              "      <td>wagon</td>\n",
              "      <td>fwd</td>\n",
              "      <td>front</td>\n",
              "      <td>105.8</td>\n",
              "      <td>...</td>\n",
              "      <td>136</td>\n",
              "      <td>mpfi</td>\n",
              "      <td>3.19</td>\n",
              "      <td>3.40</td>\n",
              "      <td>8.5</td>\n",
              "      <td>110</td>\n",
              "      <td>5500</td>\n",
              "      <td>19</td>\n",
              "      <td>25</td>\n",
              "      <td>18920.000</td>\n",
              "    </tr>\n",
              "    <tr>\n",
              "      <th>8</th>\n",
              "      <td>9</td>\n",
              "      <td>1</td>\n",
              "      <td>audi 4000</td>\n",
              "      <td>gas</td>\n",
              "      <td>turbo</td>\n",
              "      <td>four</td>\n",
              "      <td>sedan</td>\n",
              "      <td>fwd</td>\n",
              "      <td>front</td>\n",
              "      <td>105.8</td>\n",
              "      <td>...</td>\n",
              "      <td>131</td>\n",
              "      <td>mpfi</td>\n",
              "      <td>3.13</td>\n",
              "      <td>3.40</td>\n",
              "      <td>8.3</td>\n",
              "      <td>140</td>\n",
              "      <td>5500</td>\n",
              "      <td>17</td>\n",
              "      <td>20</td>\n",
              "      <td>23875.000</td>\n",
              "    </tr>\n",
              "    <tr>\n",
              "      <th>9</th>\n",
              "      <td>10</td>\n",
              "      <td>0</td>\n",
              "      <td>audi 5000s (diesel)</td>\n",
              "      <td>gas</td>\n",
              "      <td>turbo</td>\n",
              "      <td>two</td>\n",
              "      <td>hatchback</td>\n",
              "      <td>4wd</td>\n",
              "      <td>front</td>\n",
              "      <td>99.5</td>\n",
              "      <td>...</td>\n",
              "      <td>131</td>\n",
              "      <td>mpfi</td>\n",
              "      <td>3.13</td>\n",
              "      <td>3.40</td>\n",
              "      <td>7.0</td>\n",
              "      <td>160</td>\n",
              "      <td>5500</td>\n",
              "      <td>16</td>\n",
              "      <td>22</td>\n",
              "      <td>17859.167</td>\n",
              "    </tr>\n",
              "  </tbody>\n",
              "</table>\n",
              "<p>10 rows × 26 columns</p>\n",
              "</div>\n",
              "      <button class=\"colab-df-convert\" onclick=\"convertToInteractive('df-6d6e1980-7f8a-40fc-9c8a-0860c2c69539')\"\n",
              "              title=\"Convert this dataframe to an interactive table.\"\n",
              "              style=\"display:none;\">\n",
              "        \n",
              "  <svg xmlns=\"http://www.w3.org/2000/svg\" height=\"24px\"viewBox=\"0 0 24 24\"\n",
              "       width=\"24px\">\n",
              "    <path d=\"M0 0h24v24H0V0z\" fill=\"none\"/>\n",
              "    <path d=\"M18.56 5.44l.94 2.06.94-2.06 2.06-.94-2.06-.94-.94-2.06-.94 2.06-2.06.94zm-11 1L8.5 8.5l.94-2.06 2.06-.94-2.06-.94L8.5 2.5l-.94 2.06-2.06.94zm10 10l.94 2.06.94-2.06 2.06-.94-2.06-.94-.94-2.06-.94 2.06-2.06.94z\"/><path d=\"M17.41 7.96l-1.37-1.37c-.4-.4-.92-.59-1.43-.59-.52 0-1.04.2-1.43.59L10.3 9.45l-7.72 7.72c-.78.78-.78 2.05 0 2.83L4 21.41c.39.39.9.59 1.41.59.51 0 1.02-.2 1.41-.59l7.78-7.78 2.81-2.81c.8-.78.8-2.07 0-2.86zM5.41 20L4 18.59l7.72-7.72 1.47 1.35L5.41 20z\"/>\n",
              "  </svg>\n",
              "      </button>\n",
              "      \n",
              "  <style>\n",
              "    .colab-df-container {\n",
              "      display:flex;\n",
              "      flex-wrap:wrap;\n",
              "      gap: 12px;\n",
              "    }\n",
              "\n",
              "    .colab-df-convert {\n",
              "      background-color: #E8F0FE;\n",
              "      border: none;\n",
              "      border-radius: 50%;\n",
              "      cursor: pointer;\n",
              "      display: none;\n",
              "      fill: #1967D2;\n",
              "      height: 32px;\n",
              "      padding: 0 0 0 0;\n",
              "      width: 32px;\n",
              "    }\n",
              "\n",
              "    .colab-df-convert:hover {\n",
              "      background-color: #E2EBFA;\n",
              "      box-shadow: 0px 1px 2px rgba(60, 64, 67, 0.3), 0px 1px 3px 1px rgba(60, 64, 67, 0.15);\n",
              "      fill: #174EA6;\n",
              "    }\n",
              "\n",
              "    [theme=dark] .colab-df-convert {\n",
              "      background-color: #3B4455;\n",
              "      fill: #D2E3FC;\n",
              "    }\n",
              "\n",
              "    [theme=dark] .colab-df-convert:hover {\n",
              "      background-color: #434B5C;\n",
              "      box-shadow: 0px 1px 3px 1px rgba(0, 0, 0, 0.15);\n",
              "      filter: drop-shadow(0px 1px 2px rgba(0, 0, 0, 0.3));\n",
              "      fill: #FFFFFF;\n",
              "    }\n",
              "  </style>\n",
              "\n",
              "      <script>\n",
              "        const buttonEl =\n",
              "          document.querySelector('#df-6d6e1980-7f8a-40fc-9c8a-0860c2c69539 button.colab-df-convert');\n",
              "        buttonEl.style.display =\n",
              "          google.colab.kernel.accessAllowed ? 'block' : 'none';\n",
              "\n",
              "        async function convertToInteractive(key) {\n",
              "          const element = document.querySelector('#df-6d6e1980-7f8a-40fc-9c8a-0860c2c69539');\n",
              "          const dataTable =\n",
              "            await google.colab.kernel.invokeFunction('convertToInteractive',\n",
              "                                                     [key], {});\n",
              "          if (!dataTable) return;\n",
              "\n",
              "          const docLinkHtml = 'Like what you see? Visit the ' +\n",
              "            '<a target=\"_blank\" href=https://colab.research.google.com/notebooks/data_table.ipynb>data table notebook</a>'\n",
              "            + ' to learn more about interactive tables.';\n",
              "          element.innerHTML = '';\n",
              "          dataTable['output_type'] = 'display_data';\n",
              "          await google.colab.output.renderOutput(dataTable, element);\n",
              "          const docLink = document.createElement('div');\n",
              "          docLink.innerHTML = docLinkHtml;\n",
              "          element.appendChild(docLink);\n",
              "        }\n",
              "      </script>\n",
              "    </div>\n",
              "  </div>\n",
              "  "
            ]
          },
          "metadata": {},
          "execution_count": 2
        }
      ],
      "source": [
        "#Panggil file (load file bernama CarPrice_Assignment.csv) dan simpan dalam dataframe Lalu tampilkan 10 baris awal dataset dengan function head()\n",
        "data = 10\n",
        "dataset = pd.read_csv(\"CarPrice_Assignment.csv\")\n",
        "dataset.head(data)"
      ]
    },
    {
      "cell_type": "markdown",
      "metadata": {
        "id": "c6SwYhxp6Yzf"
      },
      "source": [
        "# Latihan (2)\n",
        "\n",
        "### Review Dataset"
      ]
    },
    {
      "cell_type": "code",
      "execution_count": 5,
      "metadata": {
        "execution": {
          "iopub.execute_input": "2020-12-18T08:30:29.929169Z",
          "iopub.status.busy": "2020-12-18T08:30:29.928516Z",
          "iopub.status.idle": "2020-12-18T08:30:29.932971Z",
          "shell.execute_reply": "2020-12-18T08:30:29.932414Z"
        },
        "papermill": {
          "duration": 0.031025,
          "end_time": "2020-12-18T08:30:29.933112",
          "exception": false,
          "start_time": "2020-12-18T08:30:29.902087",
          "status": "completed"
        },
        "tags": [],
        "id": "LRrYHIdw6Yzk",
        "outputId": "ee417e60-06a6-4434-d2ae-4ada0687c9d0",
        "colab": {
          "base_uri": "https://localhost:8080/"
        }
      },
      "outputs": [
        {
          "output_type": "execute_result",
          "data": {
            "text/plain": [
              "(205, 26)"
            ]
          },
          "metadata": {},
          "execution_count": 5
        }
      ],
      "source": [
        "# melihat jumlah baris dan jumlah kolom (bentuk data) pada data df dengan fungsi .shape \n",
        "dataset.shape"
      ]
    },
    {
      "cell_type": "markdown",
      "metadata": {
        "papermill": {
          "duration": 0.022228,
          "end_time": "2020-12-18T08:30:29.977924",
          "exception": false,
          "start_time": "2020-12-18T08:30:29.955696",
          "status": "completed"
        },
        "tags": [],
        "id": "161tfahu6Y0E"
      },
      "source": [
        "Data kita mempunyai 26 kolom dengan 205 baris."
      ]
    },
    {
      "cell_type": "code",
      "execution_count": 6,
      "metadata": {
        "execution": {
          "iopub.execute_input": "2020-12-18T08:30:30.026595Z",
          "iopub.status.busy": "2020-12-18T08:30:30.025892Z",
          "iopub.status.idle": "2020-12-18T08:30:30.042195Z",
          "shell.execute_reply": "2020-12-18T08:30:30.041730Z"
        },
        "papermill": {
          "duration": 0.041497,
          "end_time": "2020-12-18T08:30:30.042309",
          "exception": false,
          "start_time": "2020-12-18T08:30:30.000812",
          "status": "completed"
        },
        "tags": [],
        "id": "dOCOtgcA6Y0R",
        "outputId": "abc94464-6c6b-4cf9-af97-3620a3e658f4",
        "colab": {
          "base_uri": "https://localhost:8080/"
        }
      },
      "outputs": [
        {
          "output_type": "stream",
          "name": "stdout",
          "text": [
            "<class 'pandas.core.frame.DataFrame'>\n",
            "RangeIndex: 205 entries, 0 to 204\n",
            "Data columns (total 26 columns):\n",
            " #   Column            Non-Null Count  Dtype  \n",
            "---  ------            --------------  -----  \n",
            " 0   car_ID            205 non-null    int64  \n",
            " 1   symboling         205 non-null    int64  \n",
            " 2   CarName           205 non-null    object \n",
            " 3   fueltype          205 non-null    object \n",
            " 4   aspiration        205 non-null    object \n",
            " 5   doornumber        205 non-null    object \n",
            " 6   carbody           205 non-null    object \n",
            " 7   drivewheel        205 non-null    object \n",
            " 8   enginelocation    205 non-null    object \n",
            " 9   wheelbase         205 non-null    float64\n",
            " 10  carlength         205 non-null    float64\n",
            " 11  carwidth          205 non-null    float64\n",
            " 12  carheight         205 non-null    float64\n",
            " 13  curbweight        205 non-null    int64  \n",
            " 14  enginetype        205 non-null    object \n",
            " 15  cylindernumber    205 non-null    object \n",
            " 16  enginesize        205 non-null    int64  \n",
            " 17  fuelsystem        205 non-null    object \n",
            " 18  boreratio         205 non-null    float64\n",
            " 19  stroke            205 non-null    float64\n",
            " 20  compressionratio  205 non-null    float64\n",
            " 21  horsepower        205 non-null    int64  \n",
            " 22  peakrpm           205 non-null    int64  \n",
            " 23  citympg           205 non-null    int64  \n",
            " 24  highwaympg        205 non-null    int64  \n",
            " 25  price             205 non-null    float64\n",
            "dtypes: float64(8), int64(8), object(10)\n",
            "memory usage: 41.8+ KB\n"
          ]
        }
      ],
      "source": [
        "# Melihat Informasi lebih detail mengenai struktur DataFrame dapat dilihat menggunakan fungsi info()\n",
        "dataset.info()"
      ]
    },
    {
      "cell_type": "code",
      "execution_count": 8,
      "metadata": {
        "execution": {
          "iopub.execute_input": "2020-12-18T08:30:30.099863Z",
          "iopub.status.busy": "2020-12-18T08:30:30.098819Z",
          "iopub.status.idle": "2020-12-18T08:30:30.145707Z",
          "shell.execute_reply": "2020-12-18T08:30:30.146146Z"
        },
        "papermill": {
          "duration": 0.08099,
          "end_time": "2020-12-18T08:30:30.146287",
          "exception": false,
          "start_time": "2020-12-18T08:30:30.065297",
          "status": "completed"
        },
        "tags": [],
        "id": "T4X-diAR6Y0W",
        "outputId": "62782b67-89a6-4946-f743-f89eeee053a8",
        "colab": {
          "base_uri": "https://localhost:8080/",
          "height": 364
        }
      },
      "outputs": [
        {
          "output_type": "execute_result",
          "data": {
            "text/plain": [
              "           car_ID   symboling   wheelbase   carlength    carwidth   carheight  \\\n",
              "count  205.000000  205.000000  205.000000  205.000000  205.000000  205.000000   \n",
              "mean   103.000000    0.834146   98.756585  174.049268   65.907805   53.724878   \n",
              "std     59.322565    1.245307    6.021776   12.337289    2.145204    2.443522   \n",
              "min      1.000000   -2.000000   86.600000  141.100000   60.300000   47.800000   \n",
              "25%     52.000000    0.000000   94.500000  166.300000   64.100000   52.000000   \n",
              "50%    103.000000    1.000000   97.000000  173.200000   65.500000   54.100000   \n",
              "75%    154.000000    2.000000  102.400000  183.100000   66.900000   55.500000   \n",
              "max    205.000000    3.000000  120.900000  208.100000   72.300000   59.800000   \n",
              "\n",
              "        curbweight  enginesize   boreratio      stroke  compressionratio  \\\n",
              "count   205.000000  205.000000  205.000000  205.000000        205.000000   \n",
              "mean   2555.565854  126.907317    3.329756    3.255415         10.142537   \n",
              "std     520.680204   41.642693    0.270844    0.313597          3.972040   \n",
              "min    1488.000000   61.000000    2.540000    2.070000          7.000000   \n",
              "25%    2145.000000   97.000000    3.150000    3.110000          8.600000   \n",
              "50%    2414.000000  120.000000    3.310000    3.290000          9.000000   \n",
              "75%    2935.000000  141.000000    3.580000    3.410000          9.400000   \n",
              "max    4066.000000  326.000000    3.940000    4.170000         23.000000   \n",
              "\n",
              "       horsepower      peakrpm     citympg  highwaympg         price  \n",
              "count  205.000000   205.000000  205.000000  205.000000    205.000000  \n",
              "mean   104.117073  5125.121951   25.219512   30.751220  13276.710571  \n",
              "std     39.544167   476.985643    6.542142    6.886443   7988.852332  \n",
              "min     48.000000  4150.000000   13.000000   16.000000   5118.000000  \n",
              "25%     70.000000  4800.000000   19.000000   25.000000   7788.000000  \n",
              "50%     95.000000  5200.000000   24.000000   30.000000  10295.000000  \n",
              "75%    116.000000  5500.000000   30.000000   34.000000  16503.000000  \n",
              "max    288.000000  6600.000000   49.000000   54.000000  45400.000000  "
            ],
            "text/html": [
              "\n",
              "  <div id=\"df-f7971bbd-da0f-411d-a8f3-97d56d7da1ea\">\n",
              "    <div class=\"colab-df-container\">\n",
              "      <div>\n",
              "<style scoped>\n",
              "    .dataframe tbody tr th:only-of-type {\n",
              "        vertical-align: middle;\n",
              "    }\n",
              "\n",
              "    .dataframe tbody tr th {\n",
              "        vertical-align: top;\n",
              "    }\n",
              "\n",
              "    .dataframe thead th {\n",
              "        text-align: right;\n",
              "    }\n",
              "</style>\n",
              "<table border=\"1\" class=\"dataframe\">\n",
              "  <thead>\n",
              "    <tr style=\"text-align: right;\">\n",
              "      <th></th>\n",
              "      <th>car_ID</th>\n",
              "      <th>symboling</th>\n",
              "      <th>wheelbase</th>\n",
              "      <th>carlength</th>\n",
              "      <th>carwidth</th>\n",
              "      <th>carheight</th>\n",
              "      <th>curbweight</th>\n",
              "      <th>enginesize</th>\n",
              "      <th>boreratio</th>\n",
              "      <th>stroke</th>\n",
              "      <th>compressionratio</th>\n",
              "      <th>horsepower</th>\n",
              "      <th>peakrpm</th>\n",
              "      <th>citympg</th>\n",
              "      <th>highwaympg</th>\n",
              "      <th>price</th>\n",
              "    </tr>\n",
              "  </thead>\n",
              "  <tbody>\n",
              "    <tr>\n",
              "      <th>count</th>\n",
              "      <td>205.000000</td>\n",
              "      <td>205.000000</td>\n",
              "      <td>205.000000</td>\n",
              "      <td>205.000000</td>\n",
              "      <td>205.000000</td>\n",
              "      <td>205.000000</td>\n",
              "      <td>205.000000</td>\n",
              "      <td>205.000000</td>\n",
              "      <td>205.000000</td>\n",
              "      <td>205.000000</td>\n",
              "      <td>205.000000</td>\n",
              "      <td>205.000000</td>\n",
              "      <td>205.000000</td>\n",
              "      <td>205.000000</td>\n",
              "      <td>205.000000</td>\n",
              "      <td>205.000000</td>\n",
              "    </tr>\n",
              "    <tr>\n",
              "      <th>mean</th>\n",
              "      <td>103.000000</td>\n",
              "      <td>0.834146</td>\n",
              "      <td>98.756585</td>\n",
              "      <td>174.049268</td>\n",
              "      <td>65.907805</td>\n",
              "      <td>53.724878</td>\n",
              "      <td>2555.565854</td>\n",
              "      <td>126.907317</td>\n",
              "      <td>3.329756</td>\n",
              "      <td>3.255415</td>\n",
              "      <td>10.142537</td>\n",
              "      <td>104.117073</td>\n",
              "      <td>5125.121951</td>\n",
              "      <td>25.219512</td>\n",
              "      <td>30.751220</td>\n",
              "      <td>13276.710571</td>\n",
              "    </tr>\n",
              "    <tr>\n",
              "      <th>std</th>\n",
              "      <td>59.322565</td>\n",
              "      <td>1.245307</td>\n",
              "      <td>6.021776</td>\n",
              "      <td>12.337289</td>\n",
              "      <td>2.145204</td>\n",
              "      <td>2.443522</td>\n",
              "      <td>520.680204</td>\n",
              "      <td>41.642693</td>\n",
              "      <td>0.270844</td>\n",
              "      <td>0.313597</td>\n",
              "      <td>3.972040</td>\n",
              "      <td>39.544167</td>\n",
              "      <td>476.985643</td>\n",
              "      <td>6.542142</td>\n",
              "      <td>6.886443</td>\n",
              "      <td>7988.852332</td>\n",
              "    </tr>\n",
              "    <tr>\n",
              "      <th>min</th>\n",
              "      <td>1.000000</td>\n",
              "      <td>-2.000000</td>\n",
              "      <td>86.600000</td>\n",
              "      <td>141.100000</td>\n",
              "      <td>60.300000</td>\n",
              "      <td>47.800000</td>\n",
              "      <td>1488.000000</td>\n",
              "      <td>61.000000</td>\n",
              "      <td>2.540000</td>\n",
              "      <td>2.070000</td>\n",
              "      <td>7.000000</td>\n",
              "      <td>48.000000</td>\n",
              "      <td>4150.000000</td>\n",
              "      <td>13.000000</td>\n",
              "      <td>16.000000</td>\n",
              "      <td>5118.000000</td>\n",
              "    </tr>\n",
              "    <tr>\n",
              "      <th>25%</th>\n",
              "      <td>52.000000</td>\n",
              "      <td>0.000000</td>\n",
              "      <td>94.500000</td>\n",
              "      <td>166.300000</td>\n",
              "      <td>64.100000</td>\n",
              "      <td>52.000000</td>\n",
              "      <td>2145.000000</td>\n",
              "      <td>97.000000</td>\n",
              "      <td>3.150000</td>\n",
              "      <td>3.110000</td>\n",
              "      <td>8.600000</td>\n",
              "      <td>70.000000</td>\n",
              "      <td>4800.000000</td>\n",
              "      <td>19.000000</td>\n",
              "      <td>25.000000</td>\n",
              "      <td>7788.000000</td>\n",
              "    </tr>\n",
              "    <tr>\n",
              "      <th>50%</th>\n",
              "      <td>103.000000</td>\n",
              "      <td>1.000000</td>\n",
              "      <td>97.000000</td>\n",
              "      <td>173.200000</td>\n",
              "      <td>65.500000</td>\n",
              "      <td>54.100000</td>\n",
              "      <td>2414.000000</td>\n",
              "      <td>120.000000</td>\n",
              "      <td>3.310000</td>\n",
              "      <td>3.290000</td>\n",
              "      <td>9.000000</td>\n",
              "      <td>95.000000</td>\n",
              "      <td>5200.000000</td>\n",
              "      <td>24.000000</td>\n",
              "      <td>30.000000</td>\n",
              "      <td>10295.000000</td>\n",
              "    </tr>\n",
              "    <tr>\n",
              "      <th>75%</th>\n",
              "      <td>154.000000</td>\n",
              "      <td>2.000000</td>\n",
              "      <td>102.400000</td>\n",
              "      <td>183.100000</td>\n",
              "      <td>66.900000</td>\n",
              "      <td>55.500000</td>\n",
              "      <td>2935.000000</td>\n",
              "      <td>141.000000</td>\n",
              "      <td>3.580000</td>\n",
              "      <td>3.410000</td>\n",
              "      <td>9.400000</td>\n",
              "      <td>116.000000</td>\n",
              "      <td>5500.000000</td>\n",
              "      <td>30.000000</td>\n",
              "      <td>34.000000</td>\n",
              "      <td>16503.000000</td>\n",
              "    </tr>\n",
              "    <tr>\n",
              "      <th>max</th>\n",
              "      <td>205.000000</td>\n",
              "      <td>3.000000</td>\n",
              "      <td>120.900000</td>\n",
              "      <td>208.100000</td>\n",
              "      <td>72.300000</td>\n",
              "      <td>59.800000</td>\n",
              "      <td>4066.000000</td>\n",
              "      <td>326.000000</td>\n",
              "      <td>3.940000</td>\n",
              "      <td>4.170000</td>\n",
              "      <td>23.000000</td>\n",
              "      <td>288.000000</td>\n",
              "      <td>6600.000000</td>\n",
              "      <td>49.000000</td>\n",
              "      <td>54.000000</td>\n",
              "      <td>45400.000000</td>\n",
              "    </tr>\n",
              "  </tbody>\n",
              "</table>\n",
              "</div>\n",
              "      <button class=\"colab-df-convert\" onclick=\"convertToInteractive('df-f7971bbd-da0f-411d-a8f3-97d56d7da1ea')\"\n",
              "              title=\"Convert this dataframe to an interactive table.\"\n",
              "              style=\"display:none;\">\n",
              "        \n",
              "  <svg xmlns=\"http://www.w3.org/2000/svg\" height=\"24px\"viewBox=\"0 0 24 24\"\n",
              "       width=\"24px\">\n",
              "    <path d=\"M0 0h24v24H0V0z\" fill=\"none\"/>\n",
              "    <path d=\"M18.56 5.44l.94 2.06.94-2.06 2.06-.94-2.06-.94-.94-2.06-.94 2.06-2.06.94zm-11 1L8.5 8.5l.94-2.06 2.06-.94-2.06-.94L8.5 2.5l-.94 2.06-2.06.94zm10 10l.94 2.06.94-2.06 2.06-.94-2.06-.94-.94-2.06-.94 2.06-2.06.94z\"/><path d=\"M17.41 7.96l-1.37-1.37c-.4-.4-.92-.59-1.43-.59-.52 0-1.04.2-1.43.59L10.3 9.45l-7.72 7.72c-.78.78-.78 2.05 0 2.83L4 21.41c.39.39.9.59 1.41.59.51 0 1.02-.2 1.41-.59l7.78-7.78 2.81-2.81c.8-.78.8-2.07 0-2.86zM5.41 20L4 18.59l7.72-7.72 1.47 1.35L5.41 20z\"/>\n",
              "  </svg>\n",
              "      </button>\n",
              "      \n",
              "  <style>\n",
              "    .colab-df-container {\n",
              "      display:flex;\n",
              "      flex-wrap:wrap;\n",
              "      gap: 12px;\n",
              "    }\n",
              "\n",
              "    .colab-df-convert {\n",
              "      background-color: #E8F0FE;\n",
              "      border: none;\n",
              "      border-radius: 50%;\n",
              "      cursor: pointer;\n",
              "      display: none;\n",
              "      fill: #1967D2;\n",
              "      height: 32px;\n",
              "      padding: 0 0 0 0;\n",
              "      width: 32px;\n",
              "    }\n",
              "\n",
              "    .colab-df-convert:hover {\n",
              "      background-color: #E2EBFA;\n",
              "      box-shadow: 0px 1px 2px rgba(60, 64, 67, 0.3), 0px 1px 3px 1px rgba(60, 64, 67, 0.15);\n",
              "      fill: #174EA6;\n",
              "    }\n",
              "\n",
              "    [theme=dark] .colab-df-convert {\n",
              "      background-color: #3B4455;\n",
              "      fill: #D2E3FC;\n",
              "    }\n",
              "\n",
              "    [theme=dark] .colab-df-convert:hover {\n",
              "      background-color: #434B5C;\n",
              "      box-shadow: 0px 1px 3px 1px rgba(0, 0, 0, 0.15);\n",
              "      filter: drop-shadow(0px 1px 2px rgba(0, 0, 0, 0.3));\n",
              "      fill: #FFFFFF;\n",
              "    }\n",
              "  </style>\n",
              "\n",
              "      <script>\n",
              "        const buttonEl =\n",
              "          document.querySelector('#df-f7971bbd-da0f-411d-a8f3-97d56d7da1ea button.colab-df-convert');\n",
              "        buttonEl.style.display =\n",
              "          google.colab.kernel.accessAllowed ? 'block' : 'none';\n",
              "\n",
              "        async function convertToInteractive(key) {\n",
              "          const element = document.querySelector('#df-f7971bbd-da0f-411d-a8f3-97d56d7da1ea');\n",
              "          const dataTable =\n",
              "            await google.colab.kernel.invokeFunction('convertToInteractive',\n",
              "                                                     [key], {});\n",
              "          if (!dataTable) return;\n",
              "\n",
              "          const docLinkHtml = 'Like what you see? Visit the ' +\n",
              "            '<a target=\"_blank\" href=https://colab.research.google.com/notebooks/data_table.ipynb>data table notebook</a>'\n",
              "            + ' to learn more about interactive tables.';\n",
              "          element.innerHTML = '';\n",
              "          dataTable['output_type'] = 'display_data';\n",
              "          await google.colab.output.renderOutput(dataTable, element);\n",
              "          const docLink = document.createElement('div');\n",
              "          docLink.innerHTML = docLinkHtml;\n",
              "          element.appendChild(docLink);\n",
              "        }\n",
              "      </script>\n",
              "    </div>\n",
              "  </div>\n",
              "  "
            ]
          },
          "metadata": {},
          "execution_count": 8
        }
      ],
      "source": [
        "# melihat statistik data untuk data numeric seperti count, mean, standard deviation, maximum, mininum, dan quartile.\n",
        "dataset.describe()"
      ]
    },
    {
      "cell_type": "code",
      "execution_count": 11,
      "metadata": {
        "execution": {
          "iopub.execute_input": "2020-12-18T08:30:30.201389Z",
          "iopub.status.busy": "2020-12-18T08:30:30.200478Z",
          "iopub.status.idle": "2020-12-18T08:30:30.204137Z",
          "shell.execute_reply": "2020-12-18T08:30:30.204579Z"
        },
        "papermill": {
          "duration": 0.034571,
          "end_time": "2020-12-18T08:30:30.204711",
          "exception": false,
          "start_time": "2020-12-18T08:30:30.170140",
          "status": "completed"
        },
        "tags": [],
        "id": "xTpDTLDZ6Y0c",
        "outputId": "29272c86-5342-49d0-dfa0-e2bad2d4fabf",
        "colab": {
          "base_uri": "https://localhost:8080/"
        }
      },
      "outputs": [
        {
          "output_type": "execute_result",
          "data": {
            "text/plain": [
              "car_ID              0\n",
              "symboling           0\n",
              "CarName             0\n",
              "fueltype            0\n",
              "aspiration          0\n",
              "doornumber          0\n",
              "carbody             0\n",
              "drivewheel          0\n",
              "enginelocation      0\n",
              "wheelbase           0\n",
              "carlength           0\n",
              "carwidth            0\n",
              "carheight           0\n",
              "curbweight          0\n",
              "enginetype          0\n",
              "cylindernumber      0\n",
              "enginesize          0\n",
              "fuelsystem          0\n",
              "boreratio           0\n",
              "stroke              0\n",
              "compressionratio    0\n",
              "horsepower          0\n",
              "peakrpm             0\n",
              "citympg             0\n",
              "highwaympg          0\n",
              "price               0\n",
              "dtype: int64"
            ]
          },
          "metadata": {},
          "execution_count": 11
        }
      ],
      "source": [
        "# cek nilai yang hilang / missing values di dalam data\n",
        "dataset.isna().sum()"
      ]
    },
    {
      "cell_type": "markdown",
      "metadata": {
        "papermill": {
          "duration": 0.023557,
          "end_time": "2020-12-18T08:30:30.252343",
          "exception": false,
          "start_time": "2020-12-18T08:30:30.228786",
          "status": "completed"
        },
        "tags": [],
        "id": "S5Jy2xbO6Y0e"
      },
      "source": [
        "Ternyata data kita tidak ada missing values."
      ]
    },
    {
      "cell_type": "markdown",
      "metadata": {
        "papermill": {
          "duration": 0.023488,
          "end_time": "2020-12-18T08:30:30.299775",
          "exception": false,
          "start_time": "2020-12-18T08:30:30.276287",
          "status": "completed"
        },
        "tags": [],
        "id": "IDRrQidO6Y0g"
      },
      "source": [
        "Simple linear regression atau regresi linear sederhana merupakan jenis regresi yang paling sederhana karena hanya melibatkan satu variabel bebas atau variabel independen X."
      ]
    },
    {
      "cell_type": "markdown",
      "metadata": {
        "papermill": {
          "duration": 0.023488,
          "end_time": "2020-12-18T08:30:30.346976",
          "exception": false,
          "start_time": "2020-12-18T08:30:30.323488",
          "status": "completed"
        },
        "tags": [],
        "id": "cc7rXwdZ6Y0i"
      },
      "source": [
        "# Visualisasi data untuk pemilihan fitur / variabel independen X\n",
        "---\n",
        "1. Variabel y atau variabel dependent adalah 'price'\n",
        "2. Lakukan Visualisasi dalam penerapannya agar dapat terlihat jelas / mempermudah dalam membaca data tsb\n",
        "3. Untuk dapat menentukan variabel X yaitu dapat melihat korelasi antar variabel dengan variabel y / kolom 'price'"
      ]
    },
    {
      "cell_type": "markdown",
      "metadata": {
        "id": "vpxp1N_o6Y0l"
      },
      "source": [
        "# Latihan (3)\n",
        "\n",
        "### untuk dapat menentukan lebih detail / akurat dalam pemilihan fitur dapat dilihat dari hubungan korelasi nya dengan function corr() "
      ]
    },
    {
      "cell_type": "code",
      "execution_count": 12,
      "metadata": {
        "execution": {
          "iopub.execute_input": "2020-12-18T08:30:32.334141Z",
          "iopub.status.busy": "2020-12-18T08:30:32.333494Z",
          "iopub.status.idle": "2020-12-18T08:30:32.360593Z",
          "shell.execute_reply": "2020-12-18T08:30:32.360094Z"
        },
        "papermill": {
          "duration": 0.060766,
          "end_time": "2020-12-18T08:30:32.360702",
          "exception": false,
          "start_time": "2020-12-18T08:30:32.299936",
          "status": "completed"
        },
        "tags": [],
        "id": "Ds-NImiO6Y0m",
        "outputId": "f501766e-84ba-48ce-fb67-933c1e83f9ac",
        "colab": {
          "base_uri": "https://localhost:8080/",
          "height": 615
        }
      },
      "outputs": [
        {
          "output_type": "execute_result",
          "data": {
            "text/plain": [
              "                    car_ID  symboling  wheelbase  carlength  carwidth  \\\n",
              "car_ID            1.000000  -0.151621   0.129729   0.170636  0.052387   \n",
              "symboling        -0.151621   1.000000  -0.531954  -0.357612 -0.232919   \n",
              "wheelbase         0.129729  -0.531954   1.000000   0.874587  0.795144   \n",
              "carlength         0.170636  -0.357612   0.874587   1.000000  0.841118   \n",
              "carwidth          0.052387  -0.232919   0.795144   0.841118  1.000000   \n",
              "carheight         0.255960  -0.541038   0.589435   0.491029  0.279210   \n",
              "curbweight        0.071962  -0.227691   0.776386   0.877728  0.867032   \n",
              "enginesize       -0.033930  -0.105790   0.569329   0.683360  0.735433   \n",
              "boreratio         0.260064  -0.130051   0.488750   0.606454  0.559150   \n",
              "stroke           -0.160824  -0.008735   0.160959   0.129533  0.182942   \n",
              "compressionratio  0.150276  -0.178515   0.249786   0.158414  0.181129   \n",
              "horsepower       -0.015006   0.070873   0.353294   0.552623  0.640732   \n",
              "peakrpm          -0.203789   0.273606  -0.360469  -0.287242 -0.220012   \n",
              "citympg           0.015940  -0.035823  -0.470414  -0.670909 -0.642704   \n",
              "highwaympg        0.011255   0.034606  -0.544082  -0.704662 -0.677218   \n",
              "price            -0.109093  -0.079978   0.577816   0.682920  0.759325   \n",
              "\n",
              "                  carheight  curbweight  enginesize  boreratio    stroke  \\\n",
              "car_ID             0.255960    0.071962   -0.033930   0.260064 -0.160824   \n",
              "symboling         -0.541038   -0.227691   -0.105790  -0.130051 -0.008735   \n",
              "wheelbase          0.589435    0.776386    0.569329   0.488750  0.160959   \n",
              "carlength          0.491029    0.877728    0.683360   0.606454  0.129533   \n",
              "carwidth           0.279210    0.867032    0.735433   0.559150  0.182942   \n",
              "carheight          1.000000    0.295572    0.067149   0.171071 -0.055307   \n",
              "curbweight         0.295572    1.000000    0.850594   0.648480  0.168790   \n",
              "enginesize         0.067149    0.850594    1.000000   0.583774  0.203129   \n",
              "boreratio          0.171071    0.648480    0.583774   1.000000 -0.055909   \n",
              "stroke            -0.055307    0.168790    0.203129  -0.055909  1.000000   \n",
              "compressionratio   0.261214    0.151362    0.028971   0.005197  0.186110   \n",
              "horsepower        -0.108802    0.750739    0.809769   0.573677  0.080940   \n",
              "peakrpm           -0.320411   -0.266243   -0.244660  -0.254976 -0.067964   \n",
              "citympg           -0.048640   -0.757414   -0.653658  -0.584532 -0.042145   \n",
              "highwaympg        -0.107358   -0.797465   -0.677470  -0.587012 -0.043931   \n",
              "price              0.119336    0.835305    0.874145   0.553173  0.079443   \n",
              "\n",
              "                  compressionratio  horsepower   peakrpm   citympg  \\\n",
              "car_ID                    0.150276   -0.015006 -0.203789  0.015940   \n",
              "symboling                -0.178515    0.070873  0.273606 -0.035823   \n",
              "wheelbase                 0.249786    0.353294 -0.360469 -0.470414   \n",
              "carlength                 0.158414    0.552623 -0.287242 -0.670909   \n",
              "carwidth                  0.181129    0.640732 -0.220012 -0.642704   \n",
              "carheight                 0.261214   -0.108802 -0.320411 -0.048640   \n",
              "curbweight                0.151362    0.750739 -0.266243 -0.757414   \n",
              "enginesize                0.028971    0.809769 -0.244660 -0.653658   \n",
              "boreratio                 0.005197    0.573677 -0.254976 -0.584532   \n",
              "stroke                    0.186110    0.080940 -0.067964 -0.042145   \n",
              "compressionratio          1.000000   -0.204326 -0.435741  0.324701   \n",
              "horsepower               -0.204326    1.000000  0.131073 -0.801456   \n",
              "peakrpm                  -0.435741    0.131073  1.000000 -0.113544   \n",
              "citympg                   0.324701   -0.801456 -0.113544  1.000000   \n",
              "highwaympg                0.265201   -0.770544 -0.054275  0.971337   \n",
              "price                     0.067984    0.808139 -0.085267 -0.685751   \n",
              "\n",
              "                  highwaympg     price  \n",
              "car_ID              0.011255 -0.109093  \n",
              "symboling           0.034606 -0.079978  \n",
              "wheelbase          -0.544082  0.577816  \n",
              "carlength          -0.704662  0.682920  \n",
              "carwidth           -0.677218  0.759325  \n",
              "carheight          -0.107358  0.119336  \n",
              "curbweight         -0.797465  0.835305  \n",
              "enginesize         -0.677470  0.874145  \n",
              "boreratio          -0.587012  0.553173  \n",
              "stroke             -0.043931  0.079443  \n",
              "compressionratio    0.265201  0.067984  \n",
              "horsepower         -0.770544  0.808139  \n",
              "peakrpm            -0.054275 -0.085267  \n",
              "citympg             0.971337 -0.685751  \n",
              "highwaympg          1.000000 -0.697599  \n",
              "price              -0.697599  1.000000  "
            ],
            "text/html": [
              "\n",
              "  <div id=\"df-293cc924-f5b7-47c1-a86f-f54a8953f4d6\">\n",
              "    <div class=\"colab-df-container\">\n",
              "      <div>\n",
              "<style scoped>\n",
              "    .dataframe tbody tr th:only-of-type {\n",
              "        vertical-align: middle;\n",
              "    }\n",
              "\n",
              "    .dataframe tbody tr th {\n",
              "        vertical-align: top;\n",
              "    }\n",
              "\n",
              "    .dataframe thead th {\n",
              "        text-align: right;\n",
              "    }\n",
              "</style>\n",
              "<table border=\"1\" class=\"dataframe\">\n",
              "  <thead>\n",
              "    <tr style=\"text-align: right;\">\n",
              "      <th></th>\n",
              "      <th>car_ID</th>\n",
              "      <th>symboling</th>\n",
              "      <th>wheelbase</th>\n",
              "      <th>carlength</th>\n",
              "      <th>carwidth</th>\n",
              "      <th>carheight</th>\n",
              "      <th>curbweight</th>\n",
              "      <th>enginesize</th>\n",
              "      <th>boreratio</th>\n",
              "      <th>stroke</th>\n",
              "      <th>compressionratio</th>\n",
              "      <th>horsepower</th>\n",
              "      <th>peakrpm</th>\n",
              "      <th>citympg</th>\n",
              "      <th>highwaympg</th>\n",
              "      <th>price</th>\n",
              "    </tr>\n",
              "  </thead>\n",
              "  <tbody>\n",
              "    <tr>\n",
              "      <th>car_ID</th>\n",
              "      <td>1.000000</td>\n",
              "      <td>-0.151621</td>\n",
              "      <td>0.129729</td>\n",
              "      <td>0.170636</td>\n",
              "      <td>0.052387</td>\n",
              "      <td>0.255960</td>\n",
              "      <td>0.071962</td>\n",
              "      <td>-0.033930</td>\n",
              "      <td>0.260064</td>\n",
              "      <td>-0.160824</td>\n",
              "      <td>0.150276</td>\n",
              "      <td>-0.015006</td>\n",
              "      <td>-0.203789</td>\n",
              "      <td>0.015940</td>\n",
              "      <td>0.011255</td>\n",
              "      <td>-0.109093</td>\n",
              "    </tr>\n",
              "    <tr>\n",
              "      <th>symboling</th>\n",
              "      <td>-0.151621</td>\n",
              "      <td>1.000000</td>\n",
              "      <td>-0.531954</td>\n",
              "      <td>-0.357612</td>\n",
              "      <td>-0.232919</td>\n",
              "      <td>-0.541038</td>\n",
              "      <td>-0.227691</td>\n",
              "      <td>-0.105790</td>\n",
              "      <td>-0.130051</td>\n",
              "      <td>-0.008735</td>\n",
              "      <td>-0.178515</td>\n",
              "      <td>0.070873</td>\n",
              "      <td>0.273606</td>\n",
              "      <td>-0.035823</td>\n",
              "      <td>0.034606</td>\n",
              "      <td>-0.079978</td>\n",
              "    </tr>\n",
              "    <tr>\n",
              "      <th>wheelbase</th>\n",
              "      <td>0.129729</td>\n",
              "      <td>-0.531954</td>\n",
              "      <td>1.000000</td>\n",
              "      <td>0.874587</td>\n",
              "      <td>0.795144</td>\n",
              "      <td>0.589435</td>\n",
              "      <td>0.776386</td>\n",
              "      <td>0.569329</td>\n",
              "      <td>0.488750</td>\n",
              "      <td>0.160959</td>\n",
              "      <td>0.249786</td>\n",
              "      <td>0.353294</td>\n",
              "      <td>-0.360469</td>\n",
              "      <td>-0.470414</td>\n",
              "      <td>-0.544082</td>\n",
              "      <td>0.577816</td>\n",
              "    </tr>\n",
              "    <tr>\n",
              "      <th>carlength</th>\n",
              "      <td>0.170636</td>\n",
              "      <td>-0.357612</td>\n",
              "      <td>0.874587</td>\n",
              "      <td>1.000000</td>\n",
              "      <td>0.841118</td>\n",
              "      <td>0.491029</td>\n",
              "      <td>0.877728</td>\n",
              "      <td>0.683360</td>\n",
              "      <td>0.606454</td>\n",
              "      <td>0.129533</td>\n",
              "      <td>0.158414</td>\n",
              "      <td>0.552623</td>\n",
              "      <td>-0.287242</td>\n",
              "      <td>-0.670909</td>\n",
              "      <td>-0.704662</td>\n",
              "      <td>0.682920</td>\n",
              "    </tr>\n",
              "    <tr>\n",
              "      <th>carwidth</th>\n",
              "      <td>0.052387</td>\n",
              "      <td>-0.232919</td>\n",
              "      <td>0.795144</td>\n",
              "      <td>0.841118</td>\n",
              "      <td>1.000000</td>\n",
              "      <td>0.279210</td>\n",
              "      <td>0.867032</td>\n",
              "      <td>0.735433</td>\n",
              "      <td>0.559150</td>\n",
              "      <td>0.182942</td>\n",
              "      <td>0.181129</td>\n",
              "      <td>0.640732</td>\n",
              "      <td>-0.220012</td>\n",
              "      <td>-0.642704</td>\n",
              "      <td>-0.677218</td>\n",
              "      <td>0.759325</td>\n",
              "    </tr>\n",
              "    <tr>\n",
              "      <th>carheight</th>\n",
              "      <td>0.255960</td>\n",
              "      <td>-0.541038</td>\n",
              "      <td>0.589435</td>\n",
              "      <td>0.491029</td>\n",
              "      <td>0.279210</td>\n",
              "      <td>1.000000</td>\n",
              "      <td>0.295572</td>\n",
              "      <td>0.067149</td>\n",
              "      <td>0.171071</td>\n",
              "      <td>-0.055307</td>\n",
              "      <td>0.261214</td>\n",
              "      <td>-0.108802</td>\n",
              "      <td>-0.320411</td>\n",
              "      <td>-0.048640</td>\n",
              "      <td>-0.107358</td>\n",
              "      <td>0.119336</td>\n",
              "    </tr>\n",
              "    <tr>\n",
              "      <th>curbweight</th>\n",
              "      <td>0.071962</td>\n",
              "      <td>-0.227691</td>\n",
              "      <td>0.776386</td>\n",
              "      <td>0.877728</td>\n",
              "      <td>0.867032</td>\n",
              "      <td>0.295572</td>\n",
              "      <td>1.000000</td>\n",
              "      <td>0.850594</td>\n",
              "      <td>0.648480</td>\n",
              "      <td>0.168790</td>\n",
              "      <td>0.151362</td>\n",
              "      <td>0.750739</td>\n",
              "      <td>-0.266243</td>\n",
              "      <td>-0.757414</td>\n",
              "      <td>-0.797465</td>\n",
              "      <td>0.835305</td>\n",
              "    </tr>\n",
              "    <tr>\n",
              "      <th>enginesize</th>\n",
              "      <td>-0.033930</td>\n",
              "      <td>-0.105790</td>\n",
              "      <td>0.569329</td>\n",
              "      <td>0.683360</td>\n",
              "      <td>0.735433</td>\n",
              "      <td>0.067149</td>\n",
              "      <td>0.850594</td>\n",
              "      <td>1.000000</td>\n",
              "      <td>0.583774</td>\n",
              "      <td>0.203129</td>\n",
              "      <td>0.028971</td>\n",
              "      <td>0.809769</td>\n",
              "      <td>-0.244660</td>\n",
              "      <td>-0.653658</td>\n",
              "      <td>-0.677470</td>\n",
              "      <td>0.874145</td>\n",
              "    </tr>\n",
              "    <tr>\n",
              "      <th>boreratio</th>\n",
              "      <td>0.260064</td>\n",
              "      <td>-0.130051</td>\n",
              "      <td>0.488750</td>\n",
              "      <td>0.606454</td>\n",
              "      <td>0.559150</td>\n",
              "      <td>0.171071</td>\n",
              "      <td>0.648480</td>\n",
              "      <td>0.583774</td>\n",
              "      <td>1.000000</td>\n",
              "      <td>-0.055909</td>\n",
              "      <td>0.005197</td>\n",
              "      <td>0.573677</td>\n",
              "      <td>-0.254976</td>\n",
              "      <td>-0.584532</td>\n",
              "      <td>-0.587012</td>\n",
              "      <td>0.553173</td>\n",
              "    </tr>\n",
              "    <tr>\n",
              "      <th>stroke</th>\n",
              "      <td>-0.160824</td>\n",
              "      <td>-0.008735</td>\n",
              "      <td>0.160959</td>\n",
              "      <td>0.129533</td>\n",
              "      <td>0.182942</td>\n",
              "      <td>-0.055307</td>\n",
              "      <td>0.168790</td>\n",
              "      <td>0.203129</td>\n",
              "      <td>-0.055909</td>\n",
              "      <td>1.000000</td>\n",
              "      <td>0.186110</td>\n",
              "      <td>0.080940</td>\n",
              "      <td>-0.067964</td>\n",
              "      <td>-0.042145</td>\n",
              "      <td>-0.043931</td>\n",
              "      <td>0.079443</td>\n",
              "    </tr>\n",
              "    <tr>\n",
              "      <th>compressionratio</th>\n",
              "      <td>0.150276</td>\n",
              "      <td>-0.178515</td>\n",
              "      <td>0.249786</td>\n",
              "      <td>0.158414</td>\n",
              "      <td>0.181129</td>\n",
              "      <td>0.261214</td>\n",
              "      <td>0.151362</td>\n",
              "      <td>0.028971</td>\n",
              "      <td>0.005197</td>\n",
              "      <td>0.186110</td>\n",
              "      <td>1.000000</td>\n",
              "      <td>-0.204326</td>\n",
              "      <td>-0.435741</td>\n",
              "      <td>0.324701</td>\n",
              "      <td>0.265201</td>\n",
              "      <td>0.067984</td>\n",
              "    </tr>\n",
              "    <tr>\n",
              "      <th>horsepower</th>\n",
              "      <td>-0.015006</td>\n",
              "      <td>0.070873</td>\n",
              "      <td>0.353294</td>\n",
              "      <td>0.552623</td>\n",
              "      <td>0.640732</td>\n",
              "      <td>-0.108802</td>\n",
              "      <td>0.750739</td>\n",
              "      <td>0.809769</td>\n",
              "      <td>0.573677</td>\n",
              "      <td>0.080940</td>\n",
              "      <td>-0.204326</td>\n",
              "      <td>1.000000</td>\n",
              "      <td>0.131073</td>\n",
              "      <td>-0.801456</td>\n",
              "      <td>-0.770544</td>\n",
              "      <td>0.808139</td>\n",
              "    </tr>\n",
              "    <tr>\n",
              "      <th>peakrpm</th>\n",
              "      <td>-0.203789</td>\n",
              "      <td>0.273606</td>\n",
              "      <td>-0.360469</td>\n",
              "      <td>-0.287242</td>\n",
              "      <td>-0.220012</td>\n",
              "      <td>-0.320411</td>\n",
              "      <td>-0.266243</td>\n",
              "      <td>-0.244660</td>\n",
              "      <td>-0.254976</td>\n",
              "      <td>-0.067964</td>\n",
              "      <td>-0.435741</td>\n",
              "      <td>0.131073</td>\n",
              "      <td>1.000000</td>\n",
              "      <td>-0.113544</td>\n",
              "      <td>-0.054275</td>\n",
              "      <td>-0.085267</td>\n",
              "    </tr>\n",
              "    <tr>\n",
              "      <th>citympg</th>\n",
              "      <td>0.015940</td>\n",
              "      <td>-0.035823</td>\n",
              "      <td>-0.470414</td>\n",
              "      <td>-0.670909</td>\n",
              "      <td>-0.642704</td>\n",
              "      <td>-0.048640</td>\n",
              "      <td>-0.757414</td>\n",
              "      <td>-0.653658</td>\n",
              "      <td>-0.584532</td>\n",
              "      <td>-0.042145</td>\n",
              "      <td>0.324701</td>\n",
              "      <td>-0.801456</td>\n",
              "      <td>-0.113544</td>\n",
              "      <td>1.000000</td>\n",
              "      <td>0.971337</td>\n",
              "      <td>-0.685751</td>\n",
              "    </tr>\n",
              "    <tr>\n",
              "      <th>highwaympg</th>\n",
              "      <td>0.011255</td>\n",
              "      <td>0.034606</td>\n",
              "      <td>-0.544082</td>\n",
              "      <td>-0.704662</td>\n",
              "      <td>-0.677218</td>\n",
              "      <td>-0.107358</td>\n",
              "      <td>-0.797465</td>\n",
              "      <td>-0.677470</td>\n",
              "      <td>-0.587012</td>\n",
              "      <td>-0.043931</td>\n",
              "      <td>0.265201</td>\n",
              "      <td>-0.770544</td>\n",
              "      <td>-0.054275</td>\n",
              "      <td>0.971337</td>\n",
              "      <td>1.000000</td>\n",
              "      <td>-0.697599</td>\n",
              "    </tr>\n",
              "    <tr>\n",
              "      <th>price</th>\n",
              "      <td>-0.109093</td>\n",
              "      <td>-0.079978</td>\n",
              "      <td>0.577816</td>\n",
              "      <td>0.682920</td>\n",
              "      <td>0.759325</td>\n",
              "      <td>0.119336</td>\n",
              "      <td>0.835305</td>\n",
              "      <td>0.874145</td>\n",
              "      <td>0.553173</td>\n",
              "      <td>0.079443</td>\n",
              "      <td>0.067984</td>\n",
              "      <td>0.808139</td>\n",
              "      <td>-0.085267</td>\n",
              "      <td>-0.685751</td>\n",
              "      <td>-0.697599</td>\n",
              "      <td>1.000000</td>\n",
              "    </tr>\n",
              "  </tbody>\n",
              "</table>\n",
              "</div>\n",
              "      <button class=\"colab-df-convert\" onclick=\"convertToInteractive('df-293cc924-f5b7-47c1-a86f-f54a8953f4d6')\"\n",
              "              title=\"Convert this dataframe to an interactive table.\"\n",
              "              style=\"display:none;\">\n",
              "        \n",
              "  <svg xmlns=\"http://www.w3.org/2000/svg\" height=\"24px\"viewBox=\"0 0 24 24\"\n",
              "       width=\"24px\">\n",
              "    <path d=\"M0 0h24v24H0V0z\" fill=\"none\"/>\n",
              "    <path d=\"M18.56 5.44l.94 2.06.94-2.06 2.06-.94-2.06-.94-.94-2.06-.94 2.06-2.06.94zm-11 1L8.5 8.5l.94-2.06 2.06-.94-2.06-.94L8.5 2.5l-.94 2.06-2.06.94zm10 10l.94 2.06.94-2.06 2.06-.94-2.06-.94-.94-2.06-.94 2.06-2.06.94z\"/><path d=\"M17.41 7.96l-1.37-1.37c-.4-.4-.92-.59-1.43-.59-.52 0-1.04.2-1.43.59L10.3 9.45l-7.72 7.72c-.78.78-.78 2.05 0 2.83L4 21.41c.39.39.9.59 1.41.59.51 0 1.02-.2 1.41-.59l7.78-7.78 2.81-2.81c.8-.78.8-2.07 0-2.86zM5.41 20L4 18.59l7.72-7.72 1.47 1.35L5.41 20z\"/>\n",
              "  </svg>\n",
              "      </button>\n",
              "      \n",
              "  <style>\n",
              "    .colab-df-container {\n",
              "      display:flex;\n",
              "      flex-wrap:wrap;\n",
              "      gap: 12px;\n",
              "    }\n",
              "\n",
              "    .colab-df-convert {\n",
              "      background-color: #E8F0FE;\n",
              "      border: none;\n",
              "      border-radius: 50%;\n",
              "      cursor: pointer;\n",
              "      display: none;\n",
              "      fill: #1967D2;\n",
              "      height: 32px;\n",
              "      padding: 0 0 0 0;\n",
              "      width: 32px;\n",
              "    }\n",
              "\n",
              "    .colab-df-convert:hover {\n",
              "      background-color: #E2EBFA;\n",
              "      box-shadow: 0px 1px 2px rgba(60, 64, 67, 0.3), 0px 1px 3px 1px rgba(60, 64, 67, 0.15);\n",
              "      fill: #174EA6;\n",
              "    }\n",
              "\n",
              "    [theme=dark] .colab-df-convert {\n",
              "      background-color: #3B4455;\n",
              "      fill: #D2E3FC;\n",
              "    }\n",
              "\n",
              "    [theme=dark] .colab-df-convert:hover {\n",
              "      background-color: #434B5C;\n",
              "      box-shadow: 0px 1px 3px 1px rgba(0, 0, 0, 0.15);\n",
              "      filter: drop-shadow(0px 1px 2px rgba(0, 0, 0, 0.3));\n",
              "      fill: #FFFFFF;\n",
              "    }\n",
              "  </style>\n",
              "\n",
              "      <script>\n",
              "        const buttonEl =\n",
              "          document.querySelector('#df-293cc924-f5b7-47c1-a86f-f54a8953f4d6 button.colab-df-convert');\n",
              "        buttonEl.style.display =\n",
              "          google.colab.kernel.accessAllowed ? 'block' : 'none';\n",
              "\n",
              "        async function convertToInteractive(key) {\n",
              "          const element = document.querySelector('#df-293cc924-f5b7-47c1-a86f-f54a8953f4d6');\n",
              "          const dataTable =\n",
              "            await google.colab.kernel.invokeFunction('convertToInteractive',\n",
              "                                                     [key], {});\n",
              "          if (!dataTable) return;\n",
              "\n",
              "          const docLinkHtml = 'Like what you see? Visit the ' +\n",
              "            '<a target=\"_blank\" href=https://colab.research.google.com/notebooks/data_table.ipynb>data table notebook</a>'\n",
              "            + ' to learn more about interactive tables.';\n",
              "          element.innerHTML = '';\n",
              "          dataTable['output_type'] = 'display_data';\n",
              "          await google.colab.output.renderOutput(dataTable, element);\n",
              "          const docLink = document.createElement('div');\n",
              "          docLink.innerHTML = docLinkHtml;\n",
              "          element.appendChild(docLink);\n",
              "        }\n",
              "      </script>\n",
              "    </div>\n",
              "  </div>\n",
              "  "
            ]
          },
          "metadata": {},
          "execution_count": 12
        }
      ],
      "source": [
        "dataset.corr()"
      ]
    },
    {
      "cell_type": "markdown",
      "metadata": {
        "id": "mxY58LCu6Y0t"
      },
      "source": [
        "tampaknya enginesize, boreratio, horsepower, wheelbase memiliki korelasi yang signifikan dengan harga/price."
      ]
    },
    {
      "cell_type": "markdown",
      "metadata": {
        "id": "Pv9Su7Fs6Y1M"
      },
      "source": [
        "# Latihan (4)\n",
        "\n",
        "### Buat Visualisasi scater plot dari kolom:\n",
        "\n",
        "'enginesize', 'boreratio', 'stroke','compressionratio', 'horsepower', 'peakrpm', 'wheelbase', 'citympg', 'highwaympg'"
      ]
    },
    {
      "cell_type": "code",
      "execution_count": 16,
      "metadata": {
        "execution": {
          "iopub.execute_input": "2020-12-18T08:30:30.401375Z",
          "iopub.status.busy": "2020-12-18T08:30:30.400555Z",
          "iopub.status.idle": "2020-12-18T08:30:31.916967Z",
          "shell.execute_reply": "2020-12-18T08:30:31.915983Z"
        },
        "papermill": {
          "duration": 1.546256,
          "end_time": "2020-12-18T08:30:31.917116",
          "exception": false,
          "start_time": "2020-12-18T08:30:30.370860",
          "status": "completed"
        },
        "tags": [],
        "id": "luUY9zvn6Y1O",
        "outputId": "4ff160cd-8522-4e35-bc89-0d059ae1da96",
        "colab": {
          "base_uri": "https://localhost:8080/",
          "height": 875
        }
      },
      "outputs": [
        {
          "output_type": "display_data",
          "data": {
            "text/plain": [
              "<Figure size 864x288 with 3 Axes>"
            ],
            "image/png": "[encoded data removed]"
          },
          "metadata": {
            "needs_background": "light"
          }
        },
        {
          "output_type": "display_data",
          "data": {
            "text/plain": [
              "<Figure size 864x288 with 3 Axes>"
            ],
            "image/png": "[encoded data removed]"
          },
          "metadata": {
            "needs_background": "light"
          }
        },
        {
          "output_type": "display_data",
          "data": {
            "text/plain": [
              "<Figure size 864x288 with 3 Axes>"
            ],
            "image/png": "[encoded data removed]"
          },
          "metadata": {
            "needs_background": "light"
          }
        }
      ],
      "source": [
        "def pp(x,y,z):\n",
        "    sns.pairplot(dataset, x_vars=[x,y,z], y_vars='price',size=4, aspect=1, kind='scatter')\n",
        "    plt.show()\n",
        "\n",
        "pp('enginesize', 'boreratio', 'stroke')\n",
        "pp('compressionratio', 'horsepower', 'peakrpm')\n",
        "pp('wheelbase', 'citympg', 'highwaympg')"
      ]
    },
    {
      "cell_type": "markdown",
      "metadata": {
        "id": "ojdPlpNa6Y1Q"
      },
      "source": [
        "# Latihan (5)\n",
        "\n",
        "### Buat Visualisasi Heatmap dari kolom:\n",
        "\n",
        "'enginesize', 'boreratio', 'stroke','compressionratio', 'horsepower', 'peakrpm', 'wheelbase', 'citympg', 'highwaympg'"
      ]
    },
    {
      "cell_type": "code",
      "execution_count": 23,
      "metadata": {
        "id": "iwu4T69P6Y1S",
        "outputId": "e7fed066-7fe4-45f7-ff39-1ad71fdab529",
        "colab": {
          "base_uri": "https://localhost:8080/",
          "height": 575
        }
      },
      "outputs": [
        {
          "output_type": "display_data",
          "data": {
            "text/plain": [
              "<Figure size 576x576 with 2 Axes>"
            ],
            "image/png": "[encoded data removed]"
          },
          "metadata": {
            "needs_background": "light"
          }
        }
      ],
      "source": [
        "plt.figure(figsize = (8,8))\n",
        "data_fitur = dataset[['enginesize', 'boreratio', 'stroke','compressionratio', 'horsepower', 'peakrpm', 'wheelbase', 'citympg', 'highwaympg']]\n",
        "sns.heatmap(data_fitur.corr(),annot=False,fmt=\"f\").set_title(\"Korelasi Heatmap Calon Variabel X\")\n",
        "plt.show()"
      ]
    },
    {
      "cell_type": "markdown",
      "metadata": {
        "id": "s_GWMTu_6Y1X"
      },
      "source": [
        "Dari hasil visualisasi diatas bahwa fitur/kolom enginesize memiliki korelasi yang tinggi terhadap kolom price / variabel dependent sehingga kita mengambil fitur/kolom enginesize untuk di training\n",
        "* Independent variabel(x) adalah enginesize.\n",
        "* Dependent variabel(y) adalah price."
      ]
    },
    {
      "cell_type": "markdown",
      "metadata": {
        "id": "XhRzZfIP6Y1Z"
      },
      "source": [
        "# Latihan (6)\n",
        "\n",
        "### Buat Visualisasi Scatter Plot antara calon variabel X(enginesize) dan y(price):"
      ]
    },
    {
      "cell_type": "code",
      "execution_count": 24,
      "metadata": {
        "execution": {
          "iopub.execute_input": "2020-12-18T08:30:32.035146Z",
          "iopub.status.busy": "2020-12-18T08:30:32.034488Z",
          "iopub.status.idle": "2020-12-18T08:30:32.206455Z",
          "shell.execute_reply": "2020-12-18T08:30:32.206950Z"
        },
        "papermill": {
          "duration": 0.203289,
          "end_time": "2020-12-18T08:30:32.207124",
          "exception": false,
          "start_time": "2020-12-18T08:30:32.003835",
          "status": "completed"
        },
        "tags": [],
        "id": "CxSBSJ-w6Y1e",
        "outputId": "bd01fdde-6fba-4b8a-cc7f-224f1e38e835",
        "colab": {
          "base_uri": "https://localhost:8080/",
          "height": 295
        }
      },
      "outputs": [
        {
          "output_type": "display_data",
          "data": {
            "text/plain": [
              "<Figure size 432x288 with 1 Axes>"
            ],
            "image/png": "[encoded data removed]"
          },
          "metadata": {
            "needs_background": "light"
          }
        }
      ],
      "source": [
        "plt.scatter(dataset['enginesize'], dataset['price'])\n",
        "plt.xlabel('enginesize')\n",
        "plt.ylabel('price')\n",
        "plt.title('Scatter Plot enginesize vs Price')\n",
        "plt.show()"
      ]
    },
    {
      "cell_type": "markdown",
      "metadata": {
        "papermill": {
          "duration": 0.029445,
          "end_time": "2020-12-18T08:30:32.270268",
          "exception": false,
          "start_time": "2020-12-18T08:30:32.240823",
          "status": "completed"
        },
        "tags": [],
        "id": "V65OM_QJ6Y13"
      },
      "source": [
        "Scatter plot menunjukkan dengan jelas hubungan antarvariabel serta sebarannya di dataset. Selain itu, dengan scatter plot juga kita dapat mengindikasikan bahwa variabel enginesize dan price memiliki hubungan linear."
      ]
    },
    {
      "cell_type": "markdown",
      "metadata": {
        "papermill": {
          "duration": 0.029726,
          "end_time": "2020-12-18T08:30:32.420333",
          "exception": false,
          "start_time": "2020-12-18T08:30:32.390607",
          "status": "completed"
        },
        "tags": [],
        "id": "IgplfipX6Y13"
      },
      "source": [
        "    Catatan : korelasi 0.874145 adalah nilai yang cukup tinggi, artinya nilai price benar-benar sangat dipengaruhi oleh nilai enginesize, karena korelasi tinggi maka algoritma Regresi Linier ini cocok digunakan untuk data tersebut."
      ]
    },
    {
      "cell_type": "markdown",
      "metadata": {
        "id": "pnUDM-R26Y14"
      },
      "source": [
        "# Latihan (7)\n",
        "\n",
        "### definisi variabel X(enginesize) dan y(price):"
      ]
    },
    {
      "cell_type": "code",
      "execution_count": 25,
      "metadata": {
        "execution": {
          "iopub.execute_input": "2020-12-18T08:30:32.487401Z",
          "iopub.status.busy": "2020-12-18T08:30:32.486779Z",
          "iopub.status.idle": "2020-12-18T08:30:32.490079Z",
          "shell.execute_reply": "2020-12-18T08:30:32.489569Z"
        },
        "papermill": {
          "duration": 0.039247,
          "end_time": "2020-12-18T08:30:32.490191",
          "exception": false,
          "start_time": "2020-12-18T08:30:32.450944",
          "status": "completed"
        },
        "tags": [],
        "id": "kEdTxOjC6Y15"
      },
      "outputs": [],
      "source": [
        "# Prepare data\n",
        "# Pertama, buat variabel x dan y.\n",
        "x = dataset['enginesize'].values.reshape(-1,1)\n",
        "y = dataset['price'].values.reshape(-1,1)"
      ]
    },
    {
      "cell_type": "markdown",
      "metadata": {
        "papermill": {
          "duration": 0.029755,
          "end_time": "2020-12-18T08:30:32.549961",
          "exception": false,
          "start_time": "2020-12-18T08:30:32.520206",
          "status": "completed"
        },
        "tags": [],
        "id": "E3u_cN2x6Y16"
      },
      "source": [
        "Formula Regresi Linear\n",
        "![gambar.png](attachment:gambar.png)\n",
        "\n",
        "\n",
        "\"Jika kita melihat formula regresi linear di atas, kita pasti ingat rumus persamaan garis yang pernah dipelajari di bangku sekolah, yaitu y = mx + c, dimana m merupakan gradien atau kemiringan garis dan c merupakan konstanta.\""
      ]
    },
    {
      "cell_type": "markdown",
      "metadata": {
        "papermill": {
          "duration": 0.029149,
          "end_time": "2020-12-18T08:30:32.609017",
          "exception": false,
          "start_time": "2020-12-18T08:30:32.579868",
          "status": "completed"
        },
        "tags": [],
        "id": "LrEZgJZ_6Y18"
      },
      "source": [
        "* from scratch\n",
        "* y = ax + b atau y = w1x + w0 atau y = mx + c\n",
        "* x = input\n",
        "* y = output\n",
        "* b atau w0 = intercept / bias\n",
        "* a atau w1 = slope / gradient / coefficient"
      ]
    },
    {
      "cell_type": "markdown",
      "metadata": {
        "id": "tzWmLvpP6Y19"
      },
      "source": [
        "# Latihan (8)\n",
        "\n",
        "### definisi variabel nilai mean/rata-rata X(enginesize) dan nilai mean/rata-rata y(price):"
      ]
    },
    {
      "cell_type": "code",
      "execution_count": 27,
      "metadata": {
        "execution": {
          "iopub.execute_input": "2020-12-18T08:30:32.674748Z",
          "iopub.status.busy": "2020-12-18T08:30:32.673809Z",
          "iopub.status.idle": "2020-12-18T08:30:32.677985Z",
          "shell.execute_reply": "2020-12-18T08:30:32.677176Z"
        },
        "papermill": {
          "duration": 0.039414,
          "end_time": "2020-12-18T08:30:32.678158",
          "exception": false,
          "start_time": "2020-12-18T08:30:32.638744",
          "status": "completed"
        },
        "tags": [],
        "id": "xL5jprGL6Y1-",
        "outputId": "5cc17d61-c7e1-4a2f-9a6f-81dc9614d7a0",
        "colab": {
          "base_uri": "https://localhost:8080/"
        }
      },
      "outputs": [
        {
          "output_type": "stream",
          "name": "stdout",
          "text": [
            "nilai mean var x:  126.90731707317073 \n",
            "nilai mean var y:  13276.710570731706\n"
          ]
        }
      ],
      "source": [
        "x_mean = np.mean(x)\n",
        "y_mean = np.mean(y)\n",
        "print('nilai mean var x: ', x_mean,'\\n'\n",
        "      'nilai mean var y: ', y_mean)"
      ]
    },
    {
      "cell_type": "markdown",
      "metadata": {
        "id": "QJvuF2JA6Y2D"
      },
      "source": [
        "# Latihan (9)\n",
        "\n",
        "### carilah nilai koefisien korelasi nya dengan rumus dibawah:"
      ]
    },
    {
      "cell_type": "markdown",
      "metadata": {
        "papermill": {
          "duration": 0.030549,
          "end_time": "2020-12-18T08:30:32.740965",
          "exception": false,
          "start_time": "2020-12-18T08:30:32.710416",
          "status": "completed"
        },
        "tags": [],
        "id": "YxSfoIkb6Y2E"
      },
      "source": [
        "![gambar.png](attachment:gambar.png)"
      ]
    },
    {
      "cell_type": "code",
      "execution_count": 35,
      "metadata": {
        "execution": {
          "iopub.execute_input": "2020-12-18T08:30:32.808713Z",
          "iopub.status.busy": "2020-12-18T08:30:32.808111Z",
          "iopub.status.idle": "2020-12-18T08:30:32.810865Z",
          "shell.execute_reply": "2020-12-18T08:30:32.811361Z"
        },
        "papermill": {
          "duration": 0.040011,
          "end_time": "2020-12-18T08:30:32.811493",
          "exception": false,
          "start_time": "2020-12-18T08:30:32.771482",
          "status": "completed"
        },
        "scrolled": true,
        "tags": [],
        "id": "ucrDE48e6Y2G",
        "outputId": "3e665a94-41ab-4593-b470-2d9c2e56e65d",
        "colab": {
          "base_uri": "https://localhost:8080/"
        }
      },
      "outputs": [
        {
          "output_type": "stream",
          "name": "stdout",
          "text": [
            "Nilai Correlation Coefficient:  [0.8741448]\n"
          ]
        }
      ],
      "source": [
        "atas = sum((x - x_mean)*(y - y_mean))\n",
        "bawah = math.sqrt((sum((x - x_mean)**2)) * (sum((y - y_mean)**2)))\n",
        "correlation = atas/bawah\n",
        "print('Nilai Correlation Coefficient: ', correlation)"
      ]
    },
    {
      "cell_type": "markdown",
      "metadata": {
        "id": "O0Mtvh-K6Y2H"
      },
      "source": [
        "\n",
        "### carilah nilai parameter theta 1 dan theta 0 dengan rumus dibawah:"
      ]
    },
    {
      "cell_type": "markdown",
      "metadata": {
        "papermill": {
          "duration": 0.030227,
          "end_time": "2020-12-18T08:30:32.872631",
          "exception": false,
          "start_time": "2020-12-18T08:30:32.842404",
          "status": "completed"
        },
        "tags": [],
        "id": "L9nSNS-k6Y2H"
      },
      "source": [
        "\n",
        "![gambar.png](attachment:gambar.png)"
      ]
    },
    {
      "cell_type": "markdown",
      "metadata": {
        "papermill": {
          "duration": 0.030976,
          "end_time": "2020-12-18T08:30:32.934757",
          "exception": false,
          "start_time": "2020-12-18T08:30:32.903781",
          "status": "completed"
        },
        "tags": [],
        "id": "zYDcyad-6Y2I"
      },
      "source": [
        "    theta_1 = ((111-104.11) * (13495-13276.71)) + ... + ((114-104.11) * (22625-13276.71)) / ((111-104.11)^2 + ... + (114-104.11)^2)"
      ]
    },
    {
      "cell_type": "markdown",
      "metadata": {
        "id": "E4c0LNKb6Y2J"
      },
      "source": [
        "# Latihan (10)\n",
        "\n",
        "### carilah nilai theta_1 atau nilai slope"
      ]
    },
    {
      "cell_type": "code",
      "execution_count": 36,
      "metadata": {
        "execution": {
          "iopub.execute_input": "2020-12-18T08:30:33.005543Z",
          "iopub.status.busy": "2020-12-18T08:30:33.004468Z",
          "iopub.status.idle": "2020-12-18T08:30:33.010438Z",
          "shell.execute_reply": "2020-12-18T08:30:33.009840Z"
        },
        "papermill": {
          "duration": 0.044938,
          "end_time": "2020-12-18T08:30:33.010565",
          "exception": false,
          "start_time": "2020-12-18T08:30:32.965627",
          "status": "completed"
        },
        "tags": [],
        "id": "osmKMZZ96Y2K",
        "outputId": "54f1ae47-b35b-436d-cb30-96cea518a895",
        "colab": {
          "base_uri": "https://localhost:8080/"
        }
      },
      "outputs": [
        {
          "output_type": "stream",
          "name": "stdout",
          "text": [
            "Nilai theta_1:  [167.69841639]\n"
          ]
        }
      ],
      "source": [
        "# slope\n",
        "# Slope adalah tingkat kemiringan garis, intercept \n",
        "# adalah jarak titik y pada garis dari titik 0\n",
        "variance = sum((x - x_mean)**2)\n",
        "covariance = sum((x - x_mean) * (y - y_mean))\n",
        "theta_1 = covariance/variance\n",
        "print('Nilai theta_1: ',theta_1)"
      ]
    },
    {
      "cell_type": "markdown",
      "metadata": {
        "id": "qI2Gx0Jr6Y2L"
      },
      "source": [
        "# Latihan (11)\n",
        "\n",
        "### carilah nilai theta_0 atau nilai intercept "
      ]
    },
    {
      "cell_type": "code",
      "execution_count": 37,
      "metadata": {
        "execution": {
          "iopub.execute_input": "2020-12-18T08:30:33.079065Z",
          "iopub.status.busy": "2020-12-18T08:30:33.078382Z",
          "iopub.status.idle": "2020-12-18T08:30:33.082610Z",
          "shell.execute_reply": "2020-12-18T08:30:33.082175Z"
        },
        "papermill": {
          "duration": 0.040263,
          "end_time": "2020-12-18T08:30:33.082718",
          "exception": false,
          "start_time": "2020-12-18T08:30:33.042455",
          "status": "completed"
        },
        "tags": [],
        "id": "-bI-yKbR6Y2P",
        "outputId": "a0432312-2685-41c8-ec3f-5536d4980164",
        "colab": {
          "base_uri": "https://localhost:8080/"
        }
      },
      "outputs": [
        {
          "output_type": "stream",
          "name": "stdout",
          "text": [
            "Nilai theta_1:  [-8005.44553115]\n"
          ]
        }
      ],
      "source": [
        "# intercept\n",
        "theta_0 = y_mean - (theta_1 * x_mean)\n",
        "print('Nilai theta_1: ',theta_0)"
      ]
    },
    {
      "cell_type": "markdown",
      "metadata": {
        "papermill": {
          "duration": 0.031581,
          "end_time": "2020-12-18T08:30:33.145931",
          "exception": false,
          "start_time": "2020-12-18T08:30:33.114350",
          "status": "completed"
        },
        "tags": [],
        "id": "KT8049Qk6Y2Q"
      },
      "source": [
        "### Maka persamaan garis : \n",
        "\n",
        "#     **y = 167.69x - 8005.44**\n",
        "\n",
        "Jadi persamaan garis diatas dapat digunakan untuk melakukan prediksi apabila kita memiliki data enginesize yang baru, price dapat diperkirakan dengan rumus tersebut, masukkan nilai enginesize baru ke x, maka perkiraan nilai y (price) akan didapat."
      ]
    },
    {
      "cell_type": "markdown",
      "metadata": {
        "id": "liYh8XvM6Y2Q"
      },
      "source": [
        "# Latihan (12)\n",
        "\n",
        "### carilah nilai prediksi secara manual dan buatlah visualisasi scater plot nya"
      ]
    },
    {
      "cell_type": "code",
      "execution_count": 38,
      "metadata": {
        "execution": {
          "iopub.execute_input": "2020-12-18T08:30:33.214509Z",
          "iopub.status.busy": "2020-12-18T08:30:33.213684Z",
          "iopub.status.idle": "2020-12-18T08:30:33.217440Z",
          "shell.execute_reply": "2020-12-18T08:30:33.216816Z"
        },
        "papermill": {
          "duration": 0.040288,
          "end_time": "2020-12-18T08:30:33.217550",
          "exception": false,
          "start_time": "2020-12-18T08:30:33.177262",
          "status": "completed"
        },
        "tags": [],
        "id": "TUT-u4xU6Y2R",
        "outputId": "62e39a51-5bfc-45d8-a847-eabe8a192aed",
        "colab": {
          "base_uri": "https://localhost:8080/"
        }
      },
      "outputs": [
        {
          "output_type": "stream",
          "name": "stdout",
          "text": [
            "[13795.34859997]\n"
          ]
        }
      ],
      "source": [
        "# prediction manual\n",
        "y_pred = theta_0 + (theta_1 * 130)\n",
        "\n",
        "print(y_pred)"
      ]
    },
    {
      "cell_type": "code",
      "execution_count": 39,
      "metadata": {
        "execution": {
          "iopub.execute_input": "2020-12-18T08:30:33.294110Z",
          "iopub.status.busy": "2020-12-18T08:30:33.292354Z",
          "iopub.status.idle": "2020-12-18T08:30:33.418869Z",
          "shell.execute_reply": "2020-12-18T08:30:33.418292Z"
        },
        "papermill": {
          "duration": 0.169189,
          "end_time": "2020-12-18T08:30:33.418977",
          "exception": false,
          "start_time": "2020-12-18T08:30:33.249788",
          "status": "completed"
        },
        "tags": [],
        "id": "s_Cx3Kj46Y2S",
        "outputId": "f0fc1d35-e065-48c9-ef82-31acf87fd852",
        "colab": {
          "base_uri": "https://localhost:8080/",
          "height": 313
        }
      },
      "outputs": [
        {
          "output_type": "execute_result",
          "data": {
            "text/plain": [
              "Text(0.5, 1.0, 'Plot enginesize vs Price')"
            ]
          },
          "metadata": {},
          "execution_count": 39
        },
        {
          "output_type": "display_data",
          "data": {
            "text/plain": [
              "<Figure size 432x288 with 1 Axes>"
            ],
            "image/png": "[encoded data removed]"
          },
          "metadata": {
            "needs_background": "light"
          }
        }
      ],
      "source": [
        "# visualisasi prediksi dengan scatter plot\n",
        "y_pred = theta_0 + (theta_1 * x)\n",
        "\n",
        "plt.scatter(dataset['enginesize'],dataset['price'])\n",
        "plt.plot(x, y_pred, c='r')\n",
        "plt.xlabel('enginesize')\n",
        "plt.ylabel('Price')\n",
        "plt.title('Plot enginesize vs Price')"
      ]
    },
    {
      "cell_type": "markdown",
      "metadata": {
        "papermill": {
          "duration": 0.03294,
          "end_time": "2020-12-18T08:30:33.484478",
          "exception": false,
          "start_time": "2020-12-18T08:30:33.451538",
          "status": "completed"
        },
        "tags": [],
        "id": "iWWEb-iu6Y2T"
      },
      "source": [
        "Linier Regression digunakan untuk Prediksi dengan mencari pola garis terbaik antara variable independent dan dependen\n",
        "\n",
        "Pros:\n",
        "\n",
        "    Mudah diimplementasikan\n",
        "    Digunakan untuk memprediksi nilai numerik/ continous /data jenis interval dan ratio\n",
        "\n",
        "Cons :\n",
        "\n",
        "    Cenderung mudah Overfitting\n",
        "    Tidak dapat digunakan bila relasi antara variabel independen dan dependen tidak linier atau korelasi variabel rendah"
      ]
    },
    {
      "cell_type": "markdown",
      "metadata": {
        "papermill": {
          "duration": 0.032437,
          "end_time": "2020-12-18T08:30:33.550039",
          "exception": false,
          "start_time": "2020-12-18T08:30:33.517602",
          "status": "completed"
        },
        "tags": [],
        "id": "4wOp83Ti6Y2U"
      },
      "source": [
        "# Linier Regression dengan menggunakan library sklearn"
      ]
    },
    {
      "cell_type": "markdown",
      "metadata": {
        "id": "-YfDYPR36Y2U"
      },
      "source": [
        "1. Pertama yang kita lakukan adalah split data, Train/test split adalah salah satu metode yang dapat digunakan untuk mengevaluasi performa model machine learning. Metode evaluasi model ini membagi dataset menjadi dua bagian yakni bagian yang digunakan untuk training data dan untuk testing data dengan proporsi tertentu. Train data digunakan untuk fit model machine learning, sedangkan test data digunakan untuk mengevaluasi hasil fit model tersebut.\n",
        "\n",
        "![image.png](attachment:image.png)\n",
        "\n",
        "\n",
        "Python memiliki library yang dapat mengimplementasikan train/test split dengan mudah yaitu Scikit-Learn. Untuk menggunakannya, kita perlu mengimport Scikit-Learn terlebih dahulu, kemudian setelah itu kita dapat menggunakan fungsi train_test_split()."
      ]
    },
    {
      "cell_type": "markdown",
      "metadata": {
        "id": "98QZrkP_6Y2V"
      },
      "source": [
        "# Latihan (13)\n",
        "\n",
        "### split data train dan test dengan function  train_test_split() dengan train_size=0.8, test_size=0.2 dan random_state=100"
      ]
    },
    {
      "cell_type": "code",
      "execution_count": 40,
      "metadata": {
        "execution": {
          "iopub.execute_input": "2020-12-18T08:30:33.621686Z",
          "iopub.status.busy": "2020-12-18T08:30:33.621079Z",
          "iopub.status.idle": "2020-12-18T08:30:33.623710Z",
          "shell.execute_reply": "2020-12-18T08:30:33.624122Z"
        },
        "papermill": {
          "duration": 0.041493,
          "end_time": "2020-12-18T08:30:33.624262",
          "exception": false,
          "start_time": "2020-12-18T08:30:33.582769",
          "status": "completed"
        },
        "tags": [],
        "id": "l8Ofmynm6Y2W"
      },
      "outputs": [],
      "source": [
        "X_train,X_test,y_train,y_test = train_test_split(x, y, train_size = 0.8, test_size = 0.2, random_state = 100)"
      ]
    },
    {
      "cell_type": "markdown",
      "metadata": {
        "id": "tj4KjIL56Y2W"
      },
      "source": [
        "* X_train: Untuk menampung data source yang akan dilatih.\n",
        "* X_test: Untuk menampung data target yang akan dilatih.\n",
        "* y_train: Untuk menampung data source yang akan digunakan untuk testing.\n",
        "* y_test: Untuk menampung data target yang akan digunakan untuk testing.\n",
        "\n",
        "X dan y adalah nama variabel yang digunakan saat mendefinisikan data source dan data target. Parameter *test_size* digunakan untuk mendefinisikan ukuran data testing. Dalam contoh di atas, test_size=0.2 berarti data yang digunakan sebagai data testing adalah sebesar 20% dari keseluruhan dataset.\n",
        "\n",
        "Perlu diketahui bahwa metode ini akan membagi train set dan test set secara random atau acak. Jadi, jika kita mengulang proses running, maka tentunya hasil yang didapat akan berubah-ubah. Untuk mengatasinya, kita dapat menggunakan parameter *random_state*"
      ]
    },
    {
      "cell_type": "markdown",
      "metadata": {
        "id": "mexf-Kw46Y2Y"
      },
      "source": [
        "# Latihan (14)\n",
        "\n",
        "### buat object variabel linier regression"
      ]
    },
    {
      "cell_type": "code",
      "execution_count": 41,
      "metadata": {
        "execution": {
          "iopub.execute_input": "2020-12-18T08:30:33.694755Z",
          "iopub.status.busy": "2020-12-18T08:30:33.694174Z",
          "iopub.status.idle": "2020-12-18T08:30:33.697468Z",
          "shell.execute_reply": "2020-12-18T08:30:33.696926Z"
        },
        "papermill": {
          "duration": 0.040318,
          "end_time": "2020-12-18T08:30:33.697587",
          "exception": false,
          "start_time": "2020-12-18T08:30:33.657269",
          "status": "completed"
        },
        "tags": [],
        "id": "CYOuytTV6Y2m"
      },
      "outputs": [],
      "source": [
        "regressor = LinearRegression()"
      ]
    },
    {
      "cell_type": "markdown",
      "metadata": {
        "id": "jThY-7ZQ6Y2n"
      },
      "source": [
        "# Latihan (15)\n",
        "\n",
        "### training the model menggunakan training data yang sudah displit sebelumnya."
      ]
    },
    {
      "cell_type": "code",
      "execution_count": 42,
      "metadata": {
        "execution": {
          "iopub.execute_input": "2020-12-18T08:30:33.801190Z",
          "iopub.status.busy": "2020-12-18T08:30:33.800520Z",
          "iopub.status.idle": "2020-12-18T08:30:33.806523Z",
          "shell.execute_reply": "2020-12-18T08:30:33.806978Z"
        },
        "papermill": {
          "duration": 0.075335,
          "end_time": "2020-12-18T08:30:33.807149",
          "exception": false,
          "start_time": "2020-12-18T08:30:33.731814",
          "status": "completed"
        },
        "tags": [],
        "id": "1Ndr2JWT6Y3G",
        "outputId": "9f7c8cc1-de61-4b4d-8d99-303caad6d171",
        "colab": {
          "base_uri": "https://localhost:8080/"
        }
      },
      "outputs": [
        {
          "output_type": "execute_result",
          "data": {
            "text/plain": [
              "LinearRegression()"
            ]
          },
          "metadata": {},
          "execution_count": 42
        }
      ],
      "source": [
        "regressor.fit(X_train, y_train)"
      ]
    },
    {
      "cell_type": "markdown",
      "metadata": {
        "id": "p6XfWsjA6Y3H"
      },
      "source": [
        "# Latihan (16)\n",
        "\n",
        "### cari tau nilai slope/koefisien (m) dan intercept (b), dengan menggunakan function dari library sklearn -> LinierRegression"
      ]
    },
    {
      "cell_type": "code",
      "execution_count": 43,
      "metadata": {
        "execution": {
          "iopub.execute_input": "2020-12-18T08:30:33.878113Z",
          "iopub.status.busy": "2020-12-18T08:30:33.877212Z",
          "iopub.status.idle": "2020-12-18T08:30:33.883776Z",
          "shell.execute_reply": "2020-12-18T08:30:33.884245Z"
        },
        "papermill": {
          "duration": 0.043547,
          "end_time": "2020-12-18T08:30:33.884393",
          "exception": false,
          "start_time": "2020-12-18T08:30:33.840846",
          "status": "completed"
        },
        "tags": [],
        "id": "6LQNqicp6Y3I",
        "outputId": "e5c090bf-dd1d-439a-8eb2-9776761d1d33",
        "colab": {
          "base_uri": "https://localhost:8080/"
        }
      },
      "outputs": [
        {
          "output_type": "stream",
          "name": "stdout",
          "text": [
            "[[168.17363122]]\n",
            "[-8037.06049611]\n"
          ]
        }
      ],
      "source": [
        "print(regressor.coef_)\n",
        "print(regressor.intercept_)"
      ]
    },
    {
      "cell_type": "markdown",
      "metadata": {
        "id": "eVPjWwpT6Y3J"
      },
      "source": [
        "Dari nilai m dan b diatas, kalau dimasukan ke dalam rumus persamaan menjadi:\n",
        "#     **y = 168.17x - 8037.06**"
      ]
    },
    {
      "cell_type": "markdown",
      "metadata": {
        "id": "gQzDXP4M6Y3K"
      },
      "source": [
        "# Latihan (17)\n",
        "\n",
        "### cari tahu accuracy score dari model kita menggunakan testing data yang sudah displit sebelumnya. Dan nilai korelasinya"
      ]
    },
    {
      "cell_type": "code",
      "execution_count": 44,
      "metadata": {
        "execution": {
          "iopub.execute_input": "2020-12-18T08:30:33.959129Z",
          "iopub.status.busy": "2020-12-18T08:30:33.958240Z",
          "iopub.status.idle": "2020-12-18T08:30:33.962254Z",
          "shell.execute_reply": "2020-12-18T08:30:33.961756Z"
        },
        "papermill": {
          "duration": 0.043548,
          "end_time": "2020-12-18T08:30:33.962361",
          "exception": false,
          "start_time": "2020-12-18T08:30:33.918813",
          "status": "completed"
        },
        "tags": [],
        "id": "Z3wE6Fxi6Y3V",
        "outputId": "afd9dd38-6a11-438c-fbae-8ae7ea685474",
        "colab": {
          "base_uri": "https://localhost:8080/"
        }
      },
      "outputs": [
        {
          "output_type": "execute_result",
          "data": {
            "text/plain": [
              "0.8068161903454086"
            ]
          },
          "metadata": {},
          "execution_count": 44
        }
      ],
      "source": [
        "regressor.score(X_test,y_test)"
      ]
    },
    {
      "cell_type": "markdown",
      "metadata": {
        "papermill": {
          "duration": 0.03398,
          "end_time": "2020-12-18T08:30:34.031323",
          "exception": false,
          "start_time": "2020-12-18T08:30:33.997343",
          "status": "completed"
        },
        "tags": [],
        "id": "U5O83TTa6Y3Y"
      },
      "source": [
        "Model kita mendapatkan accuracy score sebesar 80.68%"
      ]
    },
    {
      "cell_type": "code",
      "execution_count": 46,
      "metadata": {
        "execution": {
          "iopub.execute_input": "2020-12-18T08:30:34.105461Z",
          "iopub.status.busy": "2020-12-18T08:30:34.104776Z",
          "iopub.status.idle": "2020-12-18T08:30:34.108251Z",
          "shell.execute_reply": "2020-12-18T08:30:34.108703Z"
        },
        "papermill": {
          "duration": 0.043526,
          "end_time": "2020-12-18T08:30:34.108834",
          "exception": false,
          "start_time": "2020-12-18T08:30:34.065308",
          "status": "completed"
        },
        "tags": [],
        "id": "AH9c3PMI6Y3Z",
        "outputId": "d278b8ff-bab3-44ff-92ed-13629de79ec6",
        "colab": {
          "base_uri": "https://localhost:8080/"
        }
      },
      "outputs": [
        {
          "output_type": "stream",
          "name": "stdout",
          "text": [
            "Correlation:  0.8982294753265496\n"
          ]
        }
      ],
      "source": [
        "print('Correlation: ', math.sqrt(regressor.score(X_test,y_test)))"
      ]
    },
    {
      "cell_type": "markdown",
      "metadata": {
        "id": "QWTngtce6Y3a"
      },
      "source": [
        "# Latihan (18)\n",
        "\n",
        "### visualisasi Regression Line menggunakan data testing."
      ]
    },
    {
      "cell_type": "code",
      "execution_count": 48,
      "metadata": {
        "execution": {
          "iopub.execute_input": "2020-12-18T08:30:34.189175Z",
          "iopub.status.busy": "2020-12-18T08:30:34.188233Z",
          "iopub.status.idle": "2020-12-18T08:30:34.330779Z",
          "shell.execute_reply": "2020-12-18T08:30:34.331214Z"
        },
        "papermill": {
          "duration": 0.188146,
          "end_time": "2020-12-18T08:30:34.331355",
          "exception": false,
          "start_time": "2020-12-18T08:30:34.143209",
          "status": "completed"
        },
        "scrolled": true,
        "tags": [],
        "id": "n8VzV6Gc6Y3a",
        "outputId": "caa0391b-38b2-40f9-87a3-d3244fbcac85",
        "colab": {
          "base_uri": "https://localhost:8080/",
          "height": 313
        }
      },
      "outputs": [
        {
          "output_type": "execute_result",
          "data": {
            "text/plain": [
              "Text(0.5, 1.0, 'Plot enginesize vs Price')"
            ]
          },
          "metadata": {},
          "execution_count": 48
        },
        {
          "output_type": "display_data",
          "data": {
            "text/plain": [
              "<Figure size 432x288 with 1 Axes>"
            ],
            "image/png": "[encoded data removed]"
          },
          "metadata": {
            "needs_background": "light"
          }
        }
      ],
      "source": [
        "y_prediksi = regressor.predict(X_test)\n",
        "\n",
        "plt.scatter(dataset['enginesize'],dataset['price'])\n",
        "plt.plot(X_test, y_prediksi, c='r')\n",
        "plt.xlabel('enginesize')\n",
        "plt.ylabel('Price')\n",
        "plt.title('Plot enginesize vs Price')"
      ]
    },
    {
      "cell_type": "markdown",
      "metadata": {
        "id": "tFzgPLaA6Y3c"
      },
      "source": [
        "Garis merah merupakan Regression Line dari model yang telah dibuat sebelumnya."
      ]
    },
    {
      "cell_type": "markdown",
      "metadata": {
        "id": "XF1rMfJx6Y3c"
      },
      "source": [
        "# Latihan (19)\n",
        "\n",
        "### Setelah kita yakin dengan model yang dibuat, selanjutnya adalah prediksi dari harga mobil dengan enginesize 100, 150, dan 200."
      ]
    },
    {
      "cell_type": "code",
      "execution_count": 49,
      "metadata": {
        "execution": {
          "iopub.execute_input": "2020-12-18T08:30:34.408038Z",
          "iopub.status.busy": "2020-12-18T08:30:34.407452Z",
          "iopub.status.idle": "2020-12-18T08:30:34.411176Z",
          "shell.execute_reply": "2020-12-18T08:30:34.410660Z"
        },
        "papermill": {
          "duration": 0.044337,
          "end_time": "2020-12-18T08:30:34.411292",
          "exception": false,
          "start_time": "2020-12-18T08:30:34.366955",
          "status": "completed"
        },
        "tags": [],
        "id": "eWiikj2n6Y3d",
        "outputId": "812e2137-a407-4321-9f90-44e5f7c2b36a",
        "colab": {
          "base_uri": "https://localhost:8080/"
        }
      },
      "outputs": [
        {
          "output_type": "stream",
          "name": "stdout",
          "text": [
            "nilai prediksi harga dengan enginesize 100 :  [[8780.30262568]]\n",
            "nilai prediksi harga dengan enginesize 150 :  [[17188.98418658]]\n",
            "nilai prediksi harga dengan enginesize 200 :  [[25597.66574748]]\n"
          ]
        }
      ],
      "source": [
        "#Prediksi harga mobil dengan enginesize 130.\n",
        "\n",
        "print('nilai prediksi harga dengan enginesize 100 : ',regressor.predict([[100]]))\n",
        "print('nilai prediksi harga dengan enginesize 150 : ',regressor.predict([[150]]))\n",
        "print('nilai prediksi harga dengan enginesize 200 : ',regressor.predict([[200]]))"
      ]
    },
    {
      "cell_type": "code",
      "execution_count": 51,
      "metadata": {
        "execution": {
          "iopub.execute_input": "2020-12-18T08:30:34.488804Z",
          "iopub.status.busy": "2020-12-18T08:30:34.488184Z",
          "iopub.status.idle": "2020-12-18T08:30:34.490700Z",
          "shell.execute_reply": "2020-12-18T08:30:34.490147Z"
        },
        "papermill": {
          "duration": 0.043737,
          "end_time": "2020-12-18T08:30:34.490818",
          "exception": false,
          "start_time": "2020-12-18T08:30:34.447081",
          "status": "completed"
        },
        "tags": [],
        "id": "Pgxx7RPg6Y3i"
      },
      "outputs": [],
      "source": [
        "np_table = np.concatenate((X_test,y_test,y_prediksi), axis=1)\n",
        "new_dataframe = pd.DataFrame(data=np_table, columns=['X_test','y_test','y_predict'])"
      ]
    },
    {
      "cell_type": "code",
      "execution_count": 52,
      "metadata": {
        "execution": {
          "iopub.execute_input": "2020-12-18T08:30:34.567870Z",
          "iopub.status.busy": "2020-12-18T08:30:34.567095Z",
          "iopub.status.idle": "2020-12-18T08:30:34.580864Z",
          "shell.execute_reply": "2020-12-18T08:30:34.581377Z"
        },
        "papermill": {
          "duration": 0.054006,
          "end_time": "2020-12-18T08:30:34.581523",
          "exception": false,
          "start_time": "2020-12-18T08:30:34.527517",
          "status": "completed"
        },
        "tags": [],
        "id": "lZ9mJ1D56Y3k",
        "outputId": "7cb34784-bc49-45e4-82b3-f787a30dd26f",
        "colab": {
          "base_uri": "https://localhost:8080/",
          "height": 1000
        }
      },
      "outputs": [
        {
          "output_type": "execute_result",
          "data": {
            "text/plain": [
              "    X_test   y_test     y_predict\n",
              "0     98.0   7738.0   8443.955363\n",
              "1    109.0   8495.0  10293.865307\n",
              "2    122.0   8845.0  12480.122512\n",
              "3     98.0   9298.0   8443.955363\n",
              "4    108.0   7603.0  10125.691675\n",
              "5    122.0  11245.0  12480.122512\n",
              "6    130.0  18420.0  13825.511562\n",
              "7    140.0  16503.0  15507.247874\n",
              "8    146.0  17669.0  16516.289662\n",
              "9    181.0  17199.0  22402.366754\n",
              "10   141.0  16845.0  15675.421506\n",
              "11   121.0  18150.0  12311.948881\n",
              "12   120.0  15580.0  12143.775250\n",
              "13   110.0  12945.0  10462.038938\n",
              "14   308.0  40960.0  43760.417919\n",
              "15    92.0   6855.0   7434.913576\n",
              "16    98.0   6938.0   8443.955363\n",
              "17   121.0  12170.0  12311.948881\n",
              "18   140.0  18280.0  15507.247874\n",
              "19   156.0  14869.0  18198.025974\n",
              "20   141.0  13415.0  15675.421506\n",
              "21   141.0  16515.0  15675.421506\n",
              "22   194.0  32528.0  24588.623960\n",
              "23    90.0   5572.0   7098.566314\n",
              "24   146.0   8449.0  16516.289662\n",
              "25   181.0  13499.0  22402.366754\n",
              "26   156.0  12764.0  18198.025974\n",
              "27   183.0  28176.0  22738.714017\n",
              "28   108.0  16925.0  10125.691675\n",
              "29   119.0  11048.0  11975.601619\n",
              "30    92.0   6189.0   7434.913576\n",
              "31   209.0  30760.0  27111.228428\n",
              "32   152.0  13860.0  17525.331449\n",
              "33   141.0  19045.0  15675.421506\n",
              "34   120.0  16630.0  12143.775250\n",
              "35   110.0  10698.0  10462.038938\n",
              "36   121.0  15040.0  12311.948881\n",
              "37   146.0   9989.0  16516.289662\n",
              "38    97.0   6849.0   8275.781732\n",
              "39   122.0   8948.0  12480.122512\n",
              "40   304.0  45400.0  43087.723394"
            ],
            "text/html": [
              "\n",
              "  <div id=\"df-02865dca-1076-4004-a26e-c013a9b77d8c\">\n",
              "    <div class=\"colab-df-container\">\n",
              "      <div>\n",
              "<style scoped>\n",
              "    .dataframe tbody tr th:only-of-type {\n",
              "        vertical-align: middle;\n",
              "    }\n",
              "\n",
              "    .dataframe tbody tr th {\n",
              "        vertical-align: top;\n",
              "    }\n",
              "\n",
              "    .dataframe thead th {\n",
              "        text-align: right;\n",
              "    }\n",
              "</style>\n",
              "<table border=\"1\" class=\"dataframe\">\n",
              "  <thead>\n",
              "    <tr style=\"text-align: right;\">\n",
              "      <th></th>\n",
              "      <th>X_test</th>\n",
              "      <th>y_test</th>\n",
              "      <th>y_predict</th>\n",
              "    </tr>\n",
              "  </thead>\n",
              "  <tbody>\n",
              "    <tr>\n",
              "      <th>0</th>\n",
              "      <td>98.0</td>\n",
              "      <td>7738.0</td>\n",
              "      <td>8443.955363</td>\n",
              "    </tr>\n",
              "    <tr>\n",
              "      <th>1</th>\n",
              "      <td>109.0</td>\n",
              "      <td>8495.0</td>\n",
              "      <td>10293.865307</td>\n",
              "    </tr>\n",
              "    <tr>\n",
              "      <th>2</th>\n",
              "      <td>122.0</td>\n",
              "      <td>8845.0</td>\n",
              "      <td>12480.122512</td>\n",
              "    </tr>\n",
              "    <tr>\n",
              "      <th>3</th>\n",
              "      <td>98.0</td>\n",
              "      <td>9298.0</td>\n",
              "      <td>8443.955363</td>\n",
              "    </tr>\n",
              "    <tr>\n",
              "      <th>4</th>\n",
              "      <td>108.0</td>\n",
              "      <td>7603.0</td>\n",
              "      <td>10125.691675</td>\n",
              "    </tr>\n",
              "    <tr>\n",
              "      <th>5</th>\n",
              "      <td>122.0</td>\n",
              "      <td>11245.0</td>\n",
              "      <td>12480.122512</td>\n",
              "    </tr>\n",
              "    <tr>\n",
              "      <th>6</th>\n",
              "      <td>130.0</td>\n",
              "      <td>18420.0</td>\n",
              "      <td>13825.511562</td>\n",
              "    </tr>\n",
              "    <tr>\n",
              "      <th>7</th>\n",
              "      <td>140.0</td>\n",
              "      <td>16503.0</td>\n",
              "      <td>15507.247874</td>\n",
              "    </tr>\n",
              "    <tr>\n",
              "      <th>8</th>\n",
              "      <td>146.0</td>\n",
              "      <td>17669.0</td>\n",
              "      <td>16516.289662</td>\n",
              "    </tr>\n",
              "    <tr>\n",
              "      <th>9</th>\n",
              "      <td>181.0</td>\n",
              "      <td>17199.0</td>\n",
              "      <td>22402.366754</td>\n",
              "    </tr>\n",
              "    <tr>\n",
              "      <th>10</th>\n",
              "      <td>141.0</td>\n",
              "      <td>16845.0</td>\n",
              "      <td>15675.421506</td>\n",
              "    </tr>\n",
              "    <tr>\n",
              "      <th>11</th>\n",
              "      <td>121.0</td>\n",
              "      <td>18150.0</td>\n",
              "      <td>12311.948881</td>\n",
              "    </tr>\n",
              "    <tr>\n",
              "      <th>12</th>\n",
              "      <td>120.0</td>\n",
              "      <td>15580.0</td>\n",
              "      <td>12143.775250</td>\n",
              "    </tr>\n",
              "    <tr>\n",
              "      <th>13</th>\n",
              "      <td>110.0</td>\n",
              "      <td>12945.0</td>\n",
              "      <td>10462.038938</td>\n",
              "    </tr>\n",
              "    <tr>\n",
              "      <th>14</th>\n",
              "      <td>308.0</td>\n",
              "      <td>40960.0</td>\n",
              "      <td>43760.417919</td>\n",
              "    </tr>\n",
              "    <tr>\n",
              "      <th>15</th>\n",
              "      <td>92.0</td>\n",
              "      <td>6855.0</td>\n",
              "      <td>7434.913576</td>\n",
              "    </tr>\n",
              "    <tr>\n",
              "      <th>16</th>\n",
              "      <td>98.0</td>\n",
              "      <td>6938.0</td>\n",
              "      <td>8443.955363</td>\n",
              "    </tr>\n",
              "    <tr>\n",
              "      <th>17</th>\n",
              "      <td>121.0</td>\n",
              "      <td>12170.0</td>\n",
              "      <td>12311.948881</td>\n",
              "    </tr>\n",
              "    <tr>\n",
              "      <th>18</th>\n",
              "      <td>140.0</td>\n",
              "      <td>18280.0</td>\n",
              "      <td>15507.247874</td>\n",
              "    </tr>\n",
              "    <tr>\n",
              "      <th>19</th>\n",
              "      <td>156.0</td>\n",
              "      <td>14869.0</td>\n",
              "      <td>18198.025974</td>\n",
              "    </tr>\n",
              "    <tr>\n",
              "      <th>20</th>\n",
              "      <td>141.0</td>\n",
              "      <td>13415.0</td>\n",
              "      <td>15675.421506</td>\n",
              "    </tr>\n",
              "    <tr>\n",
              "      <th>21</th>\n",
              "      <td>141.0</td>\n",
              "      <td>16515.0</td>\n",
              "      <td>15675.421506</td>\n",
              "    </tr>\n",
              "    <tr>\n",
              "      <th>22</th>\n",
              "      <td>194.0</td>\n",
              "      <td>32528.0</td>\n",
              "      <td>24588.623960</td>\n",
              "    </tr>\n",
              "    <tr>\n",
              "      <th>23</th>\n",
              "      <td>90.0</td>\n",
              "      <td>5572.0</td>\n",
              "      <td>7098.566314</td>\n",
              "    </tr>\n",
              "    <tr>\n",
              "      <th>24</th>\n",
              "      <td>146.0</td>\n",
              "      <td>8449.0</td>\n",
              "      <td>16516.289662</td>\n",
              "    </tr>\n",
              "    <tr>\n",
              "      <th>25</th>\n",
              "      <td>181.0</td>\n",
              "      <td>13499.0</td>\n",
              "      <td>22402.366754</td>\n",
              "    </tr>\n",
              "    <tr>\n",
              "      <th>26</th>\n",
              "      <td>156.0</td>\n",
              "      <td>12764.0</td>\n",
              "      <td>18198.025974</td>\n",
              "    </tr>\n",
              "    <tr>\n",
              "      <th>27</th>\n",
              "      <td>183.0</td>\n",
              "      <td>28176.0</td>\n",
              "      <td>22738.714017</td>\n",
              "    </tr>\n",
              "    <tr>\n",
              "      <th>28</th>\n",
              "      <td>108.0</td>\n",
              "      <td>16925.0</td>\n",
              "      <td>10125.691675</td>\n",
              "    </tr>\n",
              "    <tr>\n",
              "      <th>29</th>\n",
              "      <td>119.0</td>\n",
              "      <td>11048.0</td>\n",
              "      <td>11975.601619</td>\n",
              "    </tr>\n",
              "    <tr>\n",
              "      <th>30</th>\n",
              "      <td>92.0</td>\n",
              "      <td>6189.0</td>\n",
              "      <td>7434.913576</td>\n",
              "    </tr>\n",
              "    <tr>\n",
              "      <th>31</th>\n",
              "      <td>209.0</td>\n",
              "      <td>30760.0</td>\n",
              "      <td>27111.228428</td>\n",
              "    </tr>\n",
              "    <tr>\n",
              "      <th>32</th>\n",
              "      <td>152.0</td>\n",
              "      <td>13860.0</td>\n",
              "      <td>17525.331449</td>\n",
              "    </tr>\n",
              "    <tr>\n",
              "      <th>33</th>\n",
              "      <td>141.0</td>\n",
              "      <td>19045.0</td>\n",
              "      <td>15675.421506</td>\n",
              "    </tr>\n",
              "    <tr>\n",
              "      <th>34</th>\n",
              "      <td>120.0</td>\n",
              "      <td>16630.0</td>\n",
              "      <td>12143.775250</td>\n",
              "    </tr>\n",
              "    <tr>\n",
              "      <th>35</th>\n",
              "      <td>110.0</td>\n",
              "      <td>10698.0</td>\n",
              "      <td>10462.038938</td>\n",
              "    </tr>\n",
              "    <tr>\n",
              "      <th>36</th>\n",
              "      <td>121.0</td>\n",
              "      <td>15040.0</td>\n",
              "      <td>12311.948881</td>\n",
              "    </tr>\n",
              "    <tr>\n",
              "      <th>37</th>\n",
              "      <td>146.0</td>\n",
              "      <td>9989.0</td>\n",
              "      <td>16516.289662</td>\n",
              "    </tr>\n",
              "    <tr>\n",
              "      <th>38</th>\n",
              "      <td>97.0</td>\n",
              "      <td>6849.0</td>\n",
              "      <td>8275.781732</td>\n",
              "    </tr>\n",
              "    <tr>\n",
              "      <th>39</th>\n",
              "      <td>122.0</td>\n",
              "      <td>8948.0</td>\n",
              "      <td>12480.122512</td>\n",
              "    </tr>\n",
              "    <tr>\n",
              "      <th>40</th>\n",
              "      <td>304.0</td>\n",
              "      <td>45400.0</td>\n",
              "      <td>43087.723394</td>\n",
              "    </tr>\n",
              "  </tbody>\n",
              "</table>\n",
              "</div>\n",
              "      <button class=\"colab-df-convert\" onclick=\"convertToInteractive('df-02865dca-1076-4004-a26e-c013a9b77d8c')\"\n",
              "              title=\"Convert this dataframe to an interactive table.\"\n",
              "              style=\"display:none;\">\n",
              "        \n",
              "  <svg xmlns=\"http://www.w3.org/2000/svg\" height=\"24px\"viewBox=\"0 0 24 24\"\n",
              "       width=\"24px\">\n",
              "    <path d=\"M0 0h24v24H0V0z\" fill=\"none\"/>\n",
              "    <path d=\"M18.56 5.44l.94 2.06.94-2.06 2.06-.94-2.06-.94-.94-2.06-.94 2.06-2.06.94zm-11 1L8.5 8.5l.94-2.06 2.06-.94-2.06-.94L8.5 2.5l-.94 2.06-2.06.94zm10 10l.94 2.06.94-2.06 2.06-.94-2.06-.94-.94-2.06-.94 2.06-2.06.94z\"/><path d=\"M17.41 7.96l-1.37-1.37c-.4-.4-.92-.59-1.43-.59-.52 0-1.04.2-1.43.59L10.3 9.45l-7.72 7.72c-.78.78-.78 2.05 0 2.83L4 21.41c.39.39.9.59 1.41.59.51 0 1.02-.2 1.41-.59l7.78-7.78 2.81-2.81c.8-.78.8-2.07 0-2.86zM5.41 20L4 18.59l7.72-7.72 1.47 1.35L5.41 20z\"/>\n",
              "  </svg>\n",
              "      </button>\n",
              "      \n",
              "  <style>\n",
              "    .colab-df-container {\n",
              "      display:flex;\n",
              "      flex-wrap:wrap;\n",
              "      gap: 12px;\n",
              "    }\n",
              "\n",
              "    .colab-df-convert {\n",
              "      background-color: #E8F0FE;\n",
              "      border: none;\n",
              "      border-radius: 50%;\n",
              "      cursor: pointer;\n",
              "      display: none;\n",
              "      fill: #1967D2;\n",
              "      height: 32px;\n",
              "      padding: 0 0 0 0;\n",
              "      width: 32px;\n",
              "    }\n",
              "\n",
              "    .colab-df-convert:hover {\n",
              "      background-color: #E2EBFA;\n",
              "      box-shadow: 0px 1px 2px rgba(60, 64, 67, 0.3), 0px 1px 3px 1px rgba(60, 64, 67, 0.15);\n",
              "      fill: #174EA6;\n",
              "    }\n",
              "\n",
              "    [theme=dark] .colab-df-convert {\n",
              "      background-color: #3B4455;\n",
              "      fill: #D2E3FC;\n",
              "    }\n",
              "\n",
              "    [theme=dark] .colab-df-convert:hover {\n",
              "      background-color: #434B5C;\n",
              "      box-shadow: 0px 1px 3px 1px rgba(0, 0, 0, 0.15);\n",
              "      filter: drop-shadow(0px 1px 2px rgba(0, 0, 0, 0.3));\n",
              "      fill: #FFFFFF;\n",
              "    }\n",
              "  </style>\n",
              "\n",
              "      <script>\n",
              "        const buttonEl =\n",
              "          document.querySelector('#df-02865dca-1076-4004-a26e-c013a9b77d8c button.colab-df-convert');\n",
              "        buttonEl.style.display =\n",
              "          google.colab.kernel.accessAllowed ? 'block' : 'none';\n",
              "\n",
              "        async function convertToInteractive(key) {\n",
              "          const element = document.querySelector('#df-02865dca-1076-4004-a26e-c013a9b77d8c');\n",
              "          const dataTable =\n",
              "            await google.colab.kernel.invokeFunction('convertToInteractive',\n",
              "                                                     [key], {});\n",
              "          if (!dataTable) return;\n",
              "\n",
              "          const docLinkHtml = 'Like what you see? Visit the ' +\n",
              "            '<a target=\"_blank\" href=https://colab.research.google.com/notebooks/data_table.ipynb>data table notebook</a>'\n",
              "            + ' to learn more about interactive tables.';\n",
              "          element.innerHTML = '';\n",
              "          dataTable['output_type'] = 'display_data';\n",
              "          await google.colab.output.renderOutput(dataTable, element);\n",
              "          const docLink = document.createElement('div');\n",
              "          docLink.innerHTML = docLinkHtml;\n",
              "          element.appendChild(docLink);\n",
              "        }\n",
              "      </script>\n",
              "    </div>\n",
              "  </div>\n",
              "  "
            ]
          },
          "metadata": {},
          "execution_count": 52
        }
      ],
      "source": [
        "new_dataframe"
      ]
    },
    {
      "cell_type": "markdown",
      "metadata": {
        "papermill": {
          "duration": 0.07781,
          "end_time": "2020-12-18T08:30:34.696988",
          "exception": false,
          "start_time": "2020-12-18T08:30:34.619178",
          "status": "completed"
        },
        "tags": [],
        "id": "Q75admEK6Y3l"
      },
      "source": [
        "Semakin tinggi nilai error, semakin besar errornya"
      ]
    },
    {
      "cell_type": "markdown",
      "metadata": {
        "id": "utlu-uLm6Y3m"
      },
      "source": [
        "# Latihan (20)\n",
        "\n",
        "### Cetak nilai Mean Absolute Error, Mean Squared Error, dan Root Mean Squared Error"
      ]
    },
    {
      "cell_type": "code",
      "execution_count": 53,
      "metadata": {
        "execution": {
          "iopub.execute_input": "2020-12-18T08:30:34.775502Z",
          "iopub.status.busy": "2020-12-18T08:30:34.774874Z",
          "iopub.status.idle": "2020-12-18T08:30:34.781935Z",
          "shell.execute_reply": "2020-12-18T08:30:34.782429Z"
        },
        "papermill": {
          "duration": 0.047646,
          "end_time": "2020-12-18T08:30:34.782568",
          "exception": false,
          "start_time": "2020-12-18T08:30:34.734922",
          "status": "completed"
        },
        "tags": [],
        "id": "KeiUCzdF6Y3n",
        "outputId": "b1a016ee-c8b1-4635-ae0c-1fcbfaecba10",
        "colab": {
          "base_uri": "https://localhost:8080/"
        }
      },
      "outputs": [
        {
          "output_type": "stream",
          "name": "stdout",
          "text": [
            "Mean Absolute Error: 3123.611515387693\n",
            "Mean Squared Error: 14882644.972928163\n",
            "Root Mean Squared Error: 3857.8031278083854\n"
          ]
        }
      ],
      "source": [
        "from sklearn import metrics  \n",
        "print('Mean Absolute Error:', metrics.mean_absolute_error(y_test, y_prediksi))  \n",
        "print('Mean Squared Error:', metrics.mean_squared_error(y_test, y_prediksi))  \n",
        "print('Root Mean Squared Error:', np.sqrt(metrics.mean_squared_error(y_test, y_prediksi)))    "
      ]
    },
    {
      "cell_type": "code",
      "execution_count": 54,
      "metadata": {
        "execution": {
          "iopub.execute_input": "2020-12-18T08:30:34.860236Z",
          "iopub.status.busy": "2020-12-18T08:30:34.859611Z",
          "iopub.status.idle": "2020-12-18T08:30:35.016823Z",
          "shell.execute_reply": "2020-12-18T08:30:35.016214Z"
        },
        "papermill": {
          "duration": 0.196894,
          "end_time": "2020-12-18T08:30:35.016931",
          "exception": false,
          "start_time": "2020-12-18T08:30:34.820037",
          "status": "completed"
        },
        "tags": [],
        "id": "WE2v5iP86Y3o",
        "outputId": "ec7ba2bf-c5a3-48b1-c3cb-25abdedbc6ed",
        "colab": {
          "base_uri": "https://localhost:8080/",
          "height": 295
        }
      },
      "outputs": [
        {
          "output_type": "display_data",
          "data": {
            "text/plain": [
              "<Figure size 432x288 with 1 Axes>"
            ],
            "image/png": "[encoded data removed]"
          },
          "metadata": {
            "needs_background": "light"
          }
        }
      ],
      "source": [
        "plt.title('Comparison of Y values in test and the Predicted values')\n",
        "plt.ylabel('Test Set')\n",
        "plt.xlabel('Predicted values')\n",
        "plt.plot(y_prediksi, '.', y_test, 'x')\n",
        "plt.show()"
      ]
    },
    {
      "cell_type": "code",
      "source": [
        ""
      ],
      "metadata": {
        "id": "YOVG7NLVB6Yr"
      },
      "execution_count": null,
      "outputs": []
    }
  ],
  "metadata": {
    "kernelspec": {
      "display_name": "Python 3",
      "language": "python",
      "name": "python3"
    },
    "language_info": {
      "codemirror_mode": {
        "name": "ipython",
        "version": 3
      },
      "file_extension": ".py",
      "mimetype": "text/x-python",
      "name": "python",
      "nbconvert_exporter": "python",
      "pygments_lexer": "ipython3",
      "version": "3.8.8"
    },
    "papermill": {
      "duration": 11.694103,
      "end_time": "2020-12-18T08:30:35.163795",
      "environment_variables": {},
      "exception": null,
      "input_path": "__notebook__.ipynb",
      "output_path": "__notebook__.ipynb",
      "parameters": {},
      "start_time": "2020-12-18T08:30:23.469692",
      "version": "2.1.0"
    },
    "colab": {
      "name": "[SOAL] Pertemuan 10_Tugas Mandiri.ipynb",
      "provenance": []
    }
  },
  "nbformat": 4,
  "nbformat_minor": 0
}