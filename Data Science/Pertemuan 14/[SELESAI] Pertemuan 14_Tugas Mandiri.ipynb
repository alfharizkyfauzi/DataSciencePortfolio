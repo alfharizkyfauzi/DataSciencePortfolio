{
 "cells": [
  {
   "cell_type": "markdown",
   "metadata": {
    "id": "3n9SgebC8Es3"
   },
   "source": [
    "# Hands-On\n",
    "---\n",
    "\n",
    "Hands-On ini digunakan pada kegiatan Workshop Data Science 2022, Universitas Gunadarma"
   ]
  },
  {
   "cell_type": "markdown",
   "metadata": {
    "id": "6geqT0u18Es5"
   },
   "source": [
    "# Tugas Mandiri Pertemuan 14\n",
    "---\n",
    "Pertemuan 14 (empatbelas) pada Workshop Data Science 2022 menyampaikan materi mengenai Membangun Model (RNN dan LSTM). silakan Anda kerjakan Latihan 1 s/d 5. Output yang anda lihat merupakan panduan yang dapat Anda ikuti dalam penulisan code :)"
   ]
  },
  {
   "cell_type": "markdown",
   "metadata": {
    "id": "q874yOK58Es6"
   },
   "source": [
    "# RNN\n",
    "\n",
    "Jaringan saraf berulang atau recurrent neural network (RNN) adalah jenis arsitektur jaringan saraf tiruan yang pemrosesannya dipanggil berulang-ulang untuk memroses masukan yang biasanya adalah data sekuensial. RNN masuk dalam kategori deep learning karena data diproses melalui banyak lapis (layer). RNN telah mengalami kemajuan yang pesat dan telah merevolusi bidang-bidang seperti pemrosesan bahasa alami (NLP), pengenalan suara, sintesa musik, pemrosesan data finansial seri waktu, analisa deret DNA, analisa video, dan sebagainya.\n",
    "\n",
    "\n",
    "RNN memroses input secara sekuensial, sampel per sampel. Dalam tiap pemrosesan, output yang dihasilkan tidak hanya merupakan fungsi dari sampel itu saja, tapi juga berdasarkan state internal yang merupakan hasil dari pemrosesan sampel-sampel sebelumnya (atau setelahnya, pada bidirectional RNN).\n",
    "\n",
    "Berikut adalah ilustrasi bagaimana RNN bekerja. Misalnya kita membuat RNN untuk menerjemahkan bahasa Indonesia ke bahasa Inggris\n",
    "\n",
    "![image.png](attachment:image.png)\n",
    "\n",
    "Ilustrasi di atas kelihatan rumit, tapi sebenarnya cukup mudah dipahami.\n",
    "\n",
    "* sumbu horizontal adalah waktu, direpresentasikan dengan simbol t. Dapat kita bayangkan pemrosesan berjalan dari kiri ke kanan. Selanjutnya kita sebut t adalah langkah waktu (time step).\n",
    "\n",
    "* Keseluruhan input adalah kalimat, dalam hal ini:\n",
    "        Budi pergi ke sekolah.\n",
    "\n",
    "* Pemrosean input oleh RNN adalah kata demi kata. Input kata-kata ini disimbolkan dengan x1 ,x2 , … ,x5 , atau secara umum xt.\n",
    "\n",
    "* Output adalah kalimat, dalam hal ini:\n",
    "        Budi goes to school.\n",
    " \n",
    "* RNN memberikan output kata demi kata, dan ini kita simbolkan dengan ŷ1, ŷ2,  …, ŷ5 , atau secara umum ŷt .\n",
    "* Dalam tiap pemrosesan, RNN akan menyimpan state internal yaitu st, yang  diberikan dari satu langkah waktu ke langkah waktu berikutnya. Inilah “memori” dari RNN.\n",
    "\n",
    "Dengan contoh di atas, kita bisa generalisasikan arsitektur RNN sebagai berikut:\n",
    "\n",
    "![image-2.png](attachment:image-2.png)\n",
    "\n",
    "Tambahan yang tidak terdapat di diagram sebelumnya adalah U, V, dan W, yang merupakan parameter-parameter yang dimiliki RNN. Kita akan bahas pemakaian parameter-parameter ini nanti.\n",
    "\n",
    "Penting untuk dipahami bahwa walaupun ada empat kotak RNN di gambar di atas, empat kotak itu mencerminkan satu modul RNN yang sama (satu instans model dengan parameter-parameter U, V, dan W yang sama). Penggambaran di atas hanya agar aspek sekuensialnya lebih tergambar.\n",
    "\n",
    "Alternatif representasinya adalah seperti ini, agar lebih jelas bahwa hanya ada satu modul RNN:\n",
    "![image-3.png](attachment:image-3.png)\n",
    "\n",
    "Inilah sebabnya kenapa arsitektur ini disebut RNN. Kata recurrent (berulang) dalam RNN timbul karena RNN melakukan perhitungan yang sama secara berulang-ulang atas input yang kita berikan.\n",
    "\n",
    "Sering juga kedua ilustrasi di atas digabungkan jadi satu sbb:\n",
    "![image-4.png](attachment:image-4.png)\n",
    "Sesuai dengan gambar di atas, ilustrasi di sebelah kanan adalah penjabaran (unrolled) dari versi berulang di sebelah kiri."
   ]
  },
  {
   "cell_type": "markdown",
   "metadata": {
    "id": "BAMrW4FL8EtK"
   },
   "source": [
    "# Latihan (1)\n",
    "\n",
    "### Melakukan import library yang dibutuhkan"
   ]
  },
  {
   "cell_type": "code",
   "execution_count": 95,
   "metadata": {
    "_cell_guid": "b1076dfc-b9ad-4769-8c92-a6c4dae69d19",
    "_uuid": "8f2839f25d086af736a60e9eeb907d3b93b6e0e5",
    "id": "hZFuWHBR8EtM"
   },
   "outputs": [],
   "source": [
    "# import library pandas\n",
    "import pandas as pd\n",
    "\n",
    "# Import library numpy\n",
    "import numpy as np\n",
    "\n",
    "# Import library matplotlib untuk visualisasi\n",
    "import matplotlib.pyplot as plt\n",
    "\n",
    "# import library for build model \n",
    "from tensorflow.keras.models import Sequential\n",
    "from tensorflow.keras import layers\n",
    "\n",
    "# import library untuk data preprocessing\n",
    "from sklearn.preprocessing import MinMaxScaler\n",
    "from sklearn.preprocessing import StandardScaler\n",
    "from sklearn.metrics import r2_score"
   ]
  },
  {
   "cell_type": "markdown",
   "metadata": {
    "id": "qbYpvWOE8EtP"
   },
   "source": [
    "### Load Dataset"
   ]
  },
  {
   "cell_type": "code",
   "execution_count": 96,
   "metadata": {
    "id": "L8e7qZk68EtQ"
   },
   "outputs": [],
   "source": [
    "#Panggil file (load file bernama Stock.csv) dan simpan dalam dataframe\n",
    "dataset =\"Stock.csv\"\n",
    "data = pd.read_csv(dataset)"
   ]
  },
  {
   "cell_type": "code",
   "execution_count": 97,
   "metadata": {
    "id": "ufmAzYSi8EtS",
    "outputId": "6cf2a6e4-1dbe-4ef9-eae0-93882a3e3967"
   },
   "outputs": [
    {
     "data": {
      "text/html": [
       "<div>\n",
       "<style scoped>\n",
       "    .dataframe tbody tr th:only-of-type {\n",
       "        vertical-align: middle;\n",
       "    }\n",
       "\n",
       "    .dataframe tbody tr th {\n",
       "        vertical-align: top;\n",
       "    }\n",
       "\n",
       "    .dataframe thead th {\n",
       "        text-align: right;\n",
       "    }\n",
       "</style>\n",
       "<table border=\"1\" class=\"dataframe\">\n",
       "  <thead>\n",
       "    <tr style=\"text-align: right;\">\n",
       "      <th></th>\n",
       "      <th>Date</th>\n",
       "      <th>Open</th>\n",
       "      <th>High</th>\n",
       "      <th>Low</th>\n",
       "      <th>Close</th>\n",
       "      <th>Volume</th>\n",
       "      <th>Name</th>\n",
       "    </tr>\n",
       "  </thead>\n",
       "  <tbody>\n",
       "    <tr>\n",
       "      <th>0</th>\n",
       "      <td>2006-01-03</td>\n",
       "      <td>56.45</td>\n",
       "      <td>56.66</td>\n",
       "      <td>55.46</td>\n",
       "      <td>56.53</td>\n",
       "      <td>3716500</td>\n",
       "      <td>UTX</td>\n",
       "    </tr>\n",
       "    <tr>\n",
       "      <th>1</th>\n",
       "      <td>2006-01-04</td>\n",
       "      <td>56.80</td>\n",
       "      <td>56.80</td>\n",
       "      <td>55.84</td>\n",
       "      <td>56.19</td>\n",
       "      <td>3114500</td>\n",
       "      <td>UTX</td>\n",
       "    </tr>\n",
       "    <tr>\n",
       "      <th>2</th>\n",
       "      <td>2006-01-05</td>\n",
       "      <td>56.30</td>\n",
       "      <td>56.49</td>\n",
       "      <td>55.63</td>\n",
       "      <td>55.98</td>\n",
       "      <td>3118900</td>\n",
       "      <td>UTX</td>\n",
       "    </tr>\n",
       "    <tr>\n",
       "      <th>3</th>\n",
       "      <td>2006-01-06</td>\n",
       "      <td>56.45</td>\n",
       "      <td>56.67</td>\n",
       "      <td>56.10</td>\n",
       "      <td>56.16</td>\n",
       "      <td>2874300</td>\n",
       "      <td>UTX</td>\n",
       "    </tr>\n",
       "    <tr>\n",
       "      <th>4</th>\n",
       "      <td>2006-01-09</td>\n",
       "      <td>56.37</td>\n",
       "      <td>56.90</td>\n",
       "      <td>56.16</td>\n",
       "      <td>56.80</td>\n",
       "      <td>2467200</td>\n",
       "      <td>UTX</td>\n",
       "    </tr>\n",
       "  </tbody>\n",
       "</table>\n",
       "</div>"
      ],
      "text/plain": [
       "         Date   Open   High    Low  Close   Volume Name\n",
       "0  2006-01-03  56.45  56.66  55.46  56.53  3716500  UTX\n",
       "1  2006-01-04  56.80  56.80  55.84  56.19  3114500  UTX\n",
       "2  2006-01-05  56.30  56.49  55.63  55.98  3118900  UTX\n",
       "3  2006-01-06  56.45  56.67  56.10  56.16  2874300  UTX\n",
       "4  2006-01-09  56.37  56.90  56.16  56.80  2467200  UTX"
      ]
     },
     "execution_count": 97,
     "metadata": {},
     "output_type": "execute_result"
    }
   ],
   "source": [
    "# tampilkan 5 baris data \n",
    "data.head()"
   ]
  },
  {
   "cell_type": "markdown",
   "metadata": {
    "id": "8Hfa0-Y88EtV"
   },
   "source": [
    "### Review Data"
   ]
  },
  {
   "cell_type": "code",
   "execution_count": 98,
   "metadata": {
    "_uuid": "f7be14868f30eaa55193cb7ad2674c72c447fa59",
    "id": "ZbhRZ3z58EtW",
    "outputId": "021772ec-1eb2-4bd2-dec6-f3de6293edcf"
   },
   "outputs": [
    {
     "name": "stdout",
     "output_type": "stream",
     "text": [
      "<class 'pandas.core.frame.DataFrame'>\n",
      "RangeIndex: 3020 entries, 0 to 3019\n",
      "Data columns (total 7 columns):\n",
      " #   Column  Non-Null Count  Dtype  \n",
      "---  ------  --------------  -----  \n",
      " 0   Date    3020 non-null   object \n",
      " 1   Open    3019 non-null   float64\n",
      " 2   High    3020 non-null   float64\n",
      " 3   Low     3020 non-null   float64\n",
      " 4   Close   3020 non-null   float64\n",
      " 5   Volume  3020 non-null   int64  \n",
      " 6   Name    3020 non-null   object \n",
      "dtypes: float64(4), int64(1), object(2)\n",
      "memory usage: 165.3+ KB\n"
     ]
    }
   ],
   "source": [
    "# Melihat Informasi lebih detail mengenai struktur DataFrame dapat dilihat menggunakan fungsi info()\n",
    "data.info()"
   ]
  },
  {
   "cell_type": "code",
   "execution_count": 99,
   "metadata": {
    "_uuid": "d1c7f3ee1eabccd4186e8046252a379ef7b5cefa",
    "id": "5yujD1xT8EtX"
   },
   "outputs": [],
   "source": [
    "# Kolom 'low' yang akan kita gunakan dalam membangun model\n",
    "# Slice kolom 'low' \n",
    "\n",
    "Low_data = data.iloc[:,3:4].values"
   ]
  },
  {
   "cell_type": "code",
   "execution_count": 100,
   "metadata": {
    "_uuid": "3022aa336271cc887b9f29b142f7351c6840a123",
    "id": "zI2DHyuh8EtY",
    "outputId": "59433c22-a621-489e-f7a2-1715d045a5aa"
   },
   "outputs": [
    {
     "data": {
      "text/plain": [
       "array([[ 55.46],\n",
       "       [ 55.84],\n",
       "       [ 55.63],\n",
       "       ...,\n",
       "       [126.92],\n",
       "       [127.29],\n",
       "       [127.57]])"
      ]
     },
     "execution_count": 100,
     "metadata": {},
     "output_type": "execute_result"
    }
   ],
   "source": [
    "# cek output low_data\n",
    "Low_data           "
   ]
  },
  {
   "cell_type": "code",
   "execution_count": 101,
   "metadata": {
    "_uuid": "0fba437dbe916d38aa29f7e3b8d3c0058e72cd6f",
    "id": "wyKrYHVw8EtY",
    "outputId": "fc0955d1-e629-4189-b215-0d0f0a64ff50"
   },
   "outputs": [
    {
     "data": {
      "image/png": "[encoded data removed]",
      "text/plain": [
       "<Figure size 1008x720 with 1 Axes>"
      ]
     },
     "metadata": {
      "needs_background": "light"
     },
     "output_type": "display_data"
    }
   ],
   "source": [
    "# Visualizing low_data\n",
    "\n",
    "plt.figure(figsize=(14,10))                 \n",
    "plt.plot(Low_data,c=\"red\")\n",
    "plt.title(\"Microsoft Stock Prices\",fontsize=16)\n",
    "plt.xlabel(\"Days\",fontsize=16)\n",
    "plt.ylabel(\"Scaled Price\",fontsize=16)\n",
    "plt.grid()\n",
    "plt.show()"
   ]
  },
  {
   "cell_type": "markdown",
   "metadata": {
    "_uuid": "0ed6338b04615f1c9b8aee0c017a21c5f6c9f44e",
    "id": "-7ncwuVZ8Eta"
   },
   "source": [
    "# Latihan (2)\n",
    "\n",
    "###  Data Preprocessing"
   ]
  },
  {
   "cell_type": "code",
   "execution_count": 102,
   "metadata": {
    "_uuid": "77340783a8ce9d6b1a7bd66eb0adf38fb8dea48b",
    "id": "aBjm3Bgb8Eta"
   },
   "outputs": [
    {
     "data": {
      "text/plain": [
       "array([[0.20028834],\n",
       "       [0.20450261],\n",
       "       [0.20217367],\n",
       "       ...,\n",
       "       [0.99279139],\n",
       "       [0.99689475],\n",
       "       [1.        ]])"
      ]
     },
     "execution_count": 102,
     "metadata": {},
     "output_type": "execute_result"
    }
   ],
   "source": [
    "# Menskalakan data antara 1 dan 0 (scaling) pada low data\n",
    "\n",
    "scaler = MinMaxScaler()          \n",
    "Low_data_scaled = scaler.fit_transform(Low_data)\n",
    "Low_data_scaled"
   ]
  },
  {
   "cell_type": "code",
   "execution_count": 103,
   "metadata": {
    "_uuid": "47988513e859e73a34e041fa5131518451fac658",
    "id": "Ru-qiJw38Etb"
   },
   "outputs": [],
   "source": [
    "# definisikan variabel step dan train \n",
    "\n",
    "step = 21\n",
    "\n",
    "X_train = []\n",
    "y_train = []"
   ]
  },
  {
   "cell_type": "code",
   "execution_count": 104,
   "metadata": {
    "_uuid": "5b23b8ae7d949d774e89d3c9c4115a941737b5ea",
    "id": "g8Htro3W8Etb"
   },
   "outputs": [],
   "source": [
    "# membuat fitur dan lists label\n",
    "\n",
    "for i in range(step+1, len(Low_data_scaled)):\n",
    "    X_train.append(Low_data_scaled[i-step:i, 0])\n",
    "    y_train.append(Low_data_scaled[i, 0])"
   ]
  },
  {
   "cell_type": "code",
   "execution_count": 105,
   "metadata": {
    "_uuid": "7afe032f495d63420e151b189c323b91e6fe76d4",
    "id": "u9DTRq628Etc"
   },
   "outputs": [],
   "source": [
    "# mengonversi list yang telah dibuat sebelumnya ke array\n",
    "\n",
    "X_train, y_train = np.array(X_train), np.array(y_train)\n",
    "X_train = np.reshape(X_train, (X_train.shape[0], X_train.shape[1]))"
   ]
  },
  {
   "cell_type": "code",
   "execution_count": 106,
   "metadata": {
    "_uuid": "c5c05709eb62cd77d0b023ce9c2d4cc9d69bcdcf",
    "id": "ZLts3WbC8Etd",
    "outputId": "181c8ec0-ee34-4259-ffc8-8b1a9becbf72"
   },
   "outputs": [
    {
     "data": {
      "text/plain": [
       "(2998, 21)"
      ]
     },
     "execution_count": 106,
     "metadata": {},
     "output_type": "execute_result"
    }
   ],
   "source": [
    "# cek dimensi data dengan function .shape\n",
    "\n",
    "X_train.shape"
   ]
  },
  {
   "cell_type": "code",
   "execution_count": 107,
   "metadata": {
    "_uuid": "dfcc9188e7c1329d9f2c10e5d72ea40f4e168802",
    "id": "JXFSMcmZ8Ete"
   },
   "outputs": [],
   "source": [
    "# 498 hari terakhir akan digunakan dalam pengujian\n",
    "# 2500 hari pertama akan digunakan dalam pelatihan\n",
    "\n",
    "X_test = X_train[2500:2998,:]\n",
    "y_test = y_train[2500:2998]\n",
    "X_train = X_train[0:2500,:]           \n",
    "y_train = y_train[0:2500]"
   ]
  },
  {
   "cell_type": "code",
   "execution_count": 108,
   "metadata": {
    "_uuid": "75911a4fb246652ef811a6bc967e2de45ec56bbb",
    "id": "eTR4sAdM8Etf"
   },
   "outputs": [],
   "source": [
    "# reshape data untuk dimasukkan kedalam Keras model\n",
    "\n",
    "X_train = np.reshape(X_train,(X_train.shape[0], X_train.shape[1], 1))\n",
    "X_test = np.reshape(X_test,(X_test.shape[0], X_test.shape[1], 1))\n",
    "# train_x = np.reshape(train_x, (2500, step_size, 1))\n",
    "# test_x = np.reshape(test_x, (498, step, 1))"
   ]
  },
  {
   "cell_type": "code",
   "execution_count": 109,
   "metadata": {
    "_uuid": "39807a2261f198b8ad0e1b15f7d277bac14fbe79",
    "id": "g8PAUZeg8Etg",
    "outputId": "6067f5c2-4f9d-44f5-c3b9-4a928acbef5a"
   },
   "outputs": [
    {
     "name": "stdout",
     "output_type": "stream",
     "text": [
      "(2500, 21, 1)\n",
      "(498, 21, 1)\n"
     ]
    }
   ],
   "source": [
    "# cek kembali dimensi data yang telah di reshape dengan function .shape\n",
    "\n",
    "print(X_train.shape)\n",
    "print(X_test.shape)                       "
   ]
  },
  {
   "cell_type": "markdown",
   "metadata": {
    "_uuid": "36ce211bae2ce73bb74f9c68bebd8341bfa4dcaa",
    "id": "t4-c-alU8Eti"
   },
   "source": [
    "Sekarang kita bisa mulai membuat model kita, dimulai dengan RNN"
   ]
  },
  {
   "cell_type": "markdown",
   "metadata": {
    "_uuid": "0ed6338b04615f1c9b8aee0c017a21c5f6c9f44e",
    "id": "qPokkuPI8Etj"
   },
   "source": [
    "# Latihan (3)\n",
    "\n",
    "###  Build Model - RNN"
   ]
  },
  {
   "cell_type": "code",
   "execution_count": 110,
   "metadata": {
    "_uuid": "7c537bd5662768a89af0ca153cc873dffe3c357f",
    "id": "75WCgJg98Etj"
   },
   "outputs": [],
   "source": [
    "# buat varibel penampung model RNN\n",
    "RNNmodel = Sequential()"
   ]
  },
  {
   "cell_type": "code",
   "execution_count": 111,
   "metadata": {
    "_uuid": "b8d82124786360d2839b63165fb242921d93f8a1",
    "id": "ME0l81nb8Etk"
   },
   "outputs": [],
   "source": [
    "# Output dari SimpleRNN akan menjadi bentuk tensor 2D (batch_size, 40) dengan Dropout sebesar 0.15\n",
    "\n",
    "RNNmodel.add(layers.SimpleRNN(40,activation=\"tanh\",return_sequences=True, input_shape=(X_train.shape[1],1)))\n",
    "RNNmodel.add(layers.Dropout(0.15))\n",
    "\n",
    "RNNmodel.add(layers.SimpleRNN(40,activation=\"tanh\",return_sequences=True))\n",
    "RNNmodel.add(layers.Dropout(0.15))\n",
    "\n",
    "RNNmodel.add(layers.SimpleRNN(40,activation=\"tanh\",return_sequences=False))\n",
    "RNNmodel.add(layers.Dropout(0.15))\n",
    "\n",
    "# Add a Dense layer with 1 units.\n",
    "RNNmodel.add(layers.Dense(1))"
   ]
  },
  {
   "cell_type": "code",
   "execution_count": 112,
   "metadata": {
    "_uuid": "e6bfdf03b0efa3c44f001b9f3861de965c8461a8",
    "id": "RqBnP44d8Etk"
   },
   "outputs": [],
   "source": [
    "# menambahkan loss function kedalam model RNN dengan tipe MSE\n",
    "RNNmodel.compile(optimizer=\"adam\",loss=\"MSE\",metrics=['acc'])"
   ]
  },
  {
   "cell_type": "code",
   "execution_count": 113,
   "metadata": {
    "_uuid": "44d96eb8a0fa58ecfa5d17df71306006b254ad12",
    "id": "ZE-1SJiC8Etl",
    "outputId": "0dccee01-bc1d-481f-8761-369c4fbe4a9c"
   },
   "outputs": [
    {
     "name": "stdout",
     "output_type": "stream",
     "text": [
      "Epoch 1/20\n",
      "100/100 [==============================] - 2s 4ms/step - loss: 0.1288 - acc: 4.0000e-04\n",
      "Epoch 2/20\n",
      "100/100 [==============================] - 0s 4ms/step - loss: 0.0378 - acc: 4.0000e-04\n",
      "Epoch 3/20\n",
      "100/100 [==============================] - 0s 4ms/step - loss: 0.0187 - acc: 4.0000e-04\n",
      "Epoch 4/20\n",
      "100/100 [==============================] - 0s 4ms/step - loss: 0.0137 - acc: 4.0000e-04\n",
      "Epoch 5/20\n",
      "100/100 [==============================] - 0s 4ms/step - loss: 0.0104 - acc: 4.0000e-04\n",
      "Epoch 6/20\n",
      "100/100 [==============================] - 0s 4ms/step - loss: 0.0079 - acc: 4.0000e-04\n",
      "Epoch 7/20\n",
      "100/100 [==============================] - 0s 4ms/step - loss: 0.0072 - acc: 4.0000e-04\n",
      "Epoch 8/20\n",
      "100/100 [==============================] - 0s 4ms/step - loss: 0.0057 - acc: 4.0000e-04\n",
      "Epoch 9/20\n",
      "100/100 [==============================] - 0s 4ms/step - loss: 0.0050 - acc: 4.0000e-04\n",
      "Epoch 10/20\n",
      "100/100 [==============================] - 0s 4ms/step - loss: 0.0043 - acc: 4.0000e-04\n",
      "Epoch 11/20\n",
      "100/100 [==============================] - 0s 5ms/step - loss: 0.0041 - acc: 4.0000e-04\n",
      "Epoch 12/20\n",
      "100/100 [==============================] - 0s 4ms/step - loss: 0.0036 - acc: 4.0000e-04\n",
      "Epoch 13/20\n",
      "100/100 [==============================] - 0s 4ms/step - loss: 0.0034 - acc: 4.0000e-04\n",
      "Epoch 14/20\n",
      "100/100 [==============================] - 0s 4ms/step - loss: 0.0032 - acc: 4.0000e-04\n",
      "Epoch 15/20\n",
      "100/100 [==============================] - 0s 4ms/step - loss: 0.0029 - acc: 4.0000e-04\n",
      "Epoch 16/20\n",
      "100/100 [==============================] - 0s 4ms/step - loss: 0.0026 - acc: 4.0000e-04\n",
      "Epoch 17/20\n",
      "100/100 [==============================] - 0s 4ms/step - loss: 0.0026 - acc: 4.0000e-04\n",
      "Epoch 18/20\n",
      "100/100 [==============================] - 0s 4ms/step - loss: 0.0025 - acc: 4.0000e-04\n",
      "Epoch 19/20\n",
      "100/100 [==============================] - 0s 4ms/step - loss: 0.0020 - acc: 4.0000e-04\n",
      "Epoch 20/20\n",
      "100/100 [==============================] - 0s 4ms/step - loss: 0.0020 - acc: 4.0000e-04\n"
     ]
    },
    {
     "data": {
      "text/plain": [
       "<keras.callbacks.History at 0x20fd7714790>"
      ]
     },
     "execution_count": 113,
     "metadata": {},
     "output_type": "execute_result"
    }
   ],
   "source": [
    "# fit the model RNN, dengan epoch 20 dan batch size 25\n",
    "RNNmodel.fit(X_train, y_train, epochs = 20, batch_size = 25)"
   ]
  },
  {
   "cell_type": "code",
   "execution_count": 117,
   "metadata": {
    "_uuid": "da7338ba384e18f235cd083bd9602c848e7ec8cb",
    "id": "CxQClSyg8Etl"
   },
   "outputs": [
    {
     "name": "stdout",
     "output_type": "stream",
     "text": [
      "16/16 [==============================] - 0s 2ms/step\n"
     ]
    }
   ],
   "source": [
    "# Prediksi Model RNN\n",
    "RNNPredict = RNNmodel.predict(X_test)\n",
    "rnn_score = r2_score(y_test,RNNPredict)"
   ]
  },
  {
   "cell_type": "code",
   "execution_count": 118,
   "metadata": {
    "id": "VpjhvV6y8Etm",
    "outputId": "1ac1e377-86ef-4181-bb42-de7a904c661b",
    "scrolled": true
   },
   "outputs": [
    {
     "data": {
      "text/plain": [
       "0.9422026289418303"
      ]
     },
     "execution_count": 118,
     "metadata": {},
     "output_type": "execute_result"
    }
   ],
   "source": [
    "rnn_score"
   ]
  },
  {
   "cell_type": "markdown",
   "metadata": {
    "_uuid": "0ed6338b04615f1c9b8aee0c017a21c5f6c9f44e",
    "id": "p6ru84QO8Etn"
   },
   "source": [
    "# Latihan (4)\n",
    "\n",
    "###  Build Model - LSTM"
   ]
  },
  {
   "cell_type": "code",
   "execution_count": 123,
   "metadata": {
    "_uuid": "b0281b303bd5e032c2115cdf9d6c184908f9bd03",
    "id": "VnFe5E3X8Etp"
   },
   "outputs": [],
   "source": [
    "# buat varibel penampung model LSTM\n",
    "LSTMModel = Sequential()"
   ]
  },
  {
   "cell_type": "code",
   "execution_count": 124,
   "metadata": {
    "_uuid": "fcb29b0dffb87ef05bc4b1c7ce2c03e9fc166770",
    "id": "3QwBuVYw8Etq"
   },
   "outputs": [],
   "source": [
    "# Add a LSTM layer with 40 internal units. dengan Dropout sebesar 0.15\n",
    "\n",
    "LSTMModel.add(layers.LSTM(40,activation=\"tanh\",return_sequences=True, input_shape=(X_train.shape[1],1)))\n",
    "LSTMModel.add(layers.Dropout(0.15))\n",
    "\n",
    "LSTMModel.add(layers.LSTM(40,activation=\"tanh\",return_sequences=True))\n",
    "LSTMModel.add(layers.Dropout(0.15))\n",
    "\n",
    "LSTMModel.add(layers.LSTM(40,activation=\"tanh\",return_sequences=False))\n",
    "LSTMModel.add(layers.Dropout(0.15))\n",
    "\n",
    "# Add a Dense layer with 1 units.\n",
    "LSTMModel.add(layers.Dense(1))"
   ]
  },
  {
   "cell_type": "code",
   "execution_count": 125,
   "metadata": {
    "_uuid": "d9db1d5c8f05a80cedc9b603b518760266ce6776",
    "id": "GuAZjW5C8Etq"
   },
   "outputs": [],
   "source": [
    "# menambahkan loss function kedalam model lstm dengan tipe MSE\n",
    "LSTMModel.compile(optimizer=\"adam\",loss=\"MSE\",metrics=['acc'])"
   ]
  },
  {
   "cell_type": "code",
   "execution_count": 126,
   "metadata": {
    "_uuid": "605f71e78831cbef65aef8638670a4fa95b77e85",
    "id": "2XnGlPF58Etq",
    "outputId": "b5fc0df7-0d51-473e-e513-391aad891ed9"
   },
   "outputs": [
    {
     "name": "stdout",
     "output_type": "stream",
     "text": [
      "Epoch 1/20\n",
      "100/100 [==============================] - 3s 8ms/step - loss: 0.0183 - acc: 4.0000e-04\n",
      "Epoch 2/20\n",
      "100/100 [==============================] - 1s 8ms/step - loss: 0.0032 - acc: 4.0000e-04\n",
      "Epoch 3/20\n",
      "100/100 [==============================] - 1s 8ms/step - loss: 0.0030 - acc: 4.0000e-04\n",
      "Epoch 4/20\n",
      "100/100 [==============================] - 1s 8ms/step - loss: 0.0027 - acc: 4.0000e-04\n",
      "Epoch 5/20\n",
      "100/100 [==============================] - 1s 8ms/step - loss: 0.0027 - acc: 4.0000e-04\n",
      "Epoch 6/20\n",
      "100/100 [==============================] - 1s 7ms/step - loss: 0.0026 - acc: 4.0000e-04\n",
      "Epoch 7/20\n",
      "100/100 [==============================] - 1s 8ms/step - loss: 0.0025 - acc: 4.0000e-04\n",
      "Epoch 8/20\n",
      "100/100 [==============================] - 1s 8ms/step - loss: 0.0024 - acc: 4.0000e-04\n",
      "Epoch 9/20\n",
      "100/100 [==============================] - 1s 8ms/step - loss: 0.0021 - acc: 4.0000e-04\n",
      "Epoch 10/20\n",
      "100/100 [==============================] - 1s 7ms/step - loss: 0.0021 - acc: 4.0000e-04\n",
      "Epoch 11/20\n",
      "100/100 [==============================] - 1s 7ms/step - loss: 0.0024 - acc: 4.0000e-04\n",
      "Epoch 12/20\n",
      "100/100 [==============================] - 1s 7ms/step - loss: 0.0021 - acc: 4.0000e-04\n",
      "Epoch 13/20\n",
      "100/100 [==============================] - 1s 7ms/step - loss: 0.0020 - acc: 4.0000e-04\n",
      "Epoch 14/20\n",
      "100/100 [==============================] - 1s 8ms/step - loss: 0.0019 - acc: 4.0000e-04\n",
      "Epoch 15/20\n",
      "100/100 [==============================] - 1s 7ms/step - loss: 0.0018 - acc: 4.0000e-04\n",
      "Epoch 16/20\n",
      "100/100 [==============================] - 1s 7ms/step - loss: 0.0019 - acc: 4.0000e-04\n",
      "Epoch 17/20\n",
      "100/100 [==============================] - 1s 7ms/step - loss: 0.0018 - acc: 4.0000e-04\n",
      "Epoch 18/20\n",
      "100/100 [==============================] - 1s 7ms/step - loss: 0.0018 - acc: 4.0000e-04\n",
      "Epoch 19/20\n",
      "100/100 [==============================] - 1s 7ms/step - loss: 0.0016 - acc: 4.0000e-04\n",
      "Epoch 20/20\n",
      "100/100 [==============================] - 1s 7ms/step - loss: 0.0016 - acc: 4.0000e-04\n"
     ]
    },
    {
     "data": {
      "text/plain": [
       "<keras.callbacks.History at 0x20fdad60af0>"
      ]
     },
     "execution_count": 126,
     "metadata": {},
     "output_type": "execute_result"
    }
   ],
   "source": [
    "# fit lstm model, dengan epoch 20 dan batch size 25\n",
    "LSTMModel.fit(X_train, y_train, epochs = 20, batch_size = 25)"
   ]
  },
  {
   "cell_type": "code",
   "execution_count": 127,
   "metadata": {
    "_uuid": "411eafbf6eb7f155f10461be59d6ab371893e62f",
    "id": "y7QYeGa78Etr"
   },
   "outputs": [
    {
     "name": "stdout",
     "output_type": "stream",
     "text": [
      "16/16 [==============================] - 1s 3ms/step\n"
     ]
    }
   ],
   "source": [
    "# Prediksi Model LSTM\n",
    "LSTMPredict = LSTMModel.predict(X_test)\n",
    "lstm_score = r2_score(y_test,LSTMPredict)"
   ]
  },
  {
   "cell_type": "code",
   "execution_count": 128,
   "metadata": {
    "_uuid": "6940c2d59c0762be788df610509d5b73373e38a0",
    "id": "qy7soaCI8Ets",
    "outputId": "d4abaf5a-415d-47e0-80eb-407980ddc046",
    "scrolled": true
   },
   "outputs": [
    {
     "data": {
      "text/plain": [
       "0.9548805148204329"
      ]
     },
     "execution_count": 128,
     "metadata": {},
     "output_type": "execute_result"
    }
   ],
   "source": [
    "lstm_score"
   ]
  },
  {
   "cell_type": "markdown",
   "metadata": {
    "_uuid": "0ed6338b04615f1c9b8aee0c017a21c5f6c9f44e",
    "id": "VpS9nwq_8Ett"
   },
   "source": [
    "# Latihan (5)\n",
    "\n",
    "### Evaluation"
   ]
  },
  {
   "cell_type": "code",
   "execution_count": 129,
   "metadata": {
    "_uuid": "1e2dcc7ce554b96eeefe27b7a34e1194351b54f3",
    "id": "e5MwKyMO8Ett",
    "outputId": "f2854c7a-6063-4103-9d2f-2d20d313afa6"
   },
   "outputs": [
    {
     "name": "stdout",
     "output_type": "stream",
     "text": [
      "R^2 Score dari model RNN 0.9422026289418303\n",
      "R^2 Score dari model LSTM 0.9548805148204329\n"
     ]
    }
   ],
   "source": [
    "# Cetak nilai prediksi masing-masing model dengan menggunakan r^2 square\n",
    "\n",
    "print(\"R^2 Score dari model RNN\",rnn_score)\n",
    "print(\"R^2 Score dari model LSTM\",lstm_score)"
   ]
  },
  {
   "cell_type": "markdown",
   "metadata": {
    "id": "zzZ5ZN9s8Ett"
   },
   "source": [
    "### Visualisasi Perbandingan Hasil Model prediksi dengan data original "
   ]
  },
  {
   "cell_type": "code",
   "execution_count": 130,
   "metadata": {
    "_uuid": "feeb5905d3e1767d3d4cd93e4ce834d6f89e98fc",
    "id": "IcG2wBw98Etu"
   },
   "outputs": [],
   "source": [
    "LSTMPredict = scaler.inverse_transform(LSTMPredict)\n",
    "RNNPredict = scaler.inverse_transform(RNNPredict)\n",
    "y_test = scaler.inverse_transform(y_test.reshape(-1,1))"
   ]
  },
  {
   "cell_type": "code",
   "execution_count": 131,
   "metadata": {
    "_uuid": "e9cf7c92445b1ec84e7597139cf49770b8282924",
    "id": "Yy9zpGYm8Etu",
    "outputId": "d13b2283-6707-4a85-b367-c30cfb6982da"
   },
   "outputs": [
    {
     "data": {
      "image/png": "[encoded data removed]",
      "text/plain": [
       "<Figure size 1152x864 with 1 Axes>"
      ]
     },
     "metadata": {
      "needs_background": "light"
     },
     "output_type": "display_data"
    }
   ],
   "source": [
    "plt.figure(figsize=(16,12))\n",
    "\n",
    "plt.plot(y_test, c=\"blue\",linewidth=2, label=\"original\")\n",
    "plt.plot(LSTMPredict, c=\"green\",linewidth=2, label=\"LSTM\")\n",
    "plt.plot(RNNPredict, c=\"red\",linewidth=2, label=\"RNN\")\n",
    "plt.legend()\n",
    "plt.title(\"PERBANDINGAN\",fontsize=20)\n",
    "plt.grid()\n",
    "plt.show()"
   ]
  },
  {
   "cell_type": "markdown",
   "metadata": {
    "_uuid": "4d17d70b478ab4281e931edfdf258db7f727efa5",
    "id": "FVFUhlS88Etu"
   },
   "source": [
    "## Berikan Kesimpulan Anda!"
   ]
  },
  {
   "cell_type": "code",
   "execution_count": null,
   "metadata": {
    "_uuid": "80048aaf1eba053202fd8972548c3f0ce57bd360",
    "id": "FDBnW4GU8Etv"
   },
   "outputs": [],
   "source": [
    "# write here\n",
    "# BIKIN PALA MUMET\n",
    "# KESIMPULANNYA ADA BAHAW LSTM MEMPUNYAI ACCURACY YANG LEBIH BAIK DARI PADA RNN"
   ]
  }
 ],
 "metadata": {
  "colab": {
   "name": "[SOAL] Pertemuan 14_Tugas Mandiri.ipynb",
   "provenance": []
  },
  "kernelspec": {
   "display_name": "Python 3 (ipykernel)",
   "language": "python",
   "name": "python3"
  },
  "language_info": {
   "codemirror_mode": {
    "name": "ipython",
    "version": 3
   },
   "file_extension": ".py",
   "mimetype": "text/x-python",
   "name": "python",
   "nbconvert_exporter": "python",
   "pygments_lexer": "ipython3",
   "version": "3.9.6"
  }
 },
 "nbformat": 4,
 "nbformat_minor": 1
}
